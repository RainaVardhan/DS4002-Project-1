{
  "cells": [
    {
      "cell_type": "markdown",
      "metadata": {
        "id": "TwdfueylFrlw"
      },
      "source": [
        "# Course Review Topic Modeling"
      ]
    },
    {
      "cell_type": "markdown",
      "metadata": {
        "id": "mfo9gFL_Frly"
      },
      "source": [
        "## Exploratory Data Analysis"
      ]
    },
    {
      "cell_type": "code",
      "source": [
        "!git clone https://github.com/RainaVardhan/DS4002-Project-1.git"
      ],
      "metadata": {
        "id": "e1qSsASnGHdH",
        "outputId": "5c124427-bc0f-4a7c-b725-06921c88be70",
        "colab": {
          "base_uri": "https://localhost:8080/"
        }
      },
      "execution_count": 6,
      "outputs": [
        {
          "output_type": "stream",
          "name": "stdout",
          "text": [
            "fatal: destination path 'DS4002-Project-1' already exists and is not an empty directory.\n"
          ]
        }
      ]
    },
    {
      "cell_type": "code",
      "execution_count": 7,
      "metadata": {
        "id": "d7IA7z3DFrly"
      },
      "outputs": [],
      "source": [
        "import operator, joblib\n",
        "from sklearn.feature_extraction.text import CountVectorizer, TfidfVectorizer\n",
        "import pandas as pd\n",
        "import numpy as np\n",
        "from sklearn import decomposition\n",
        "%matplotlib inline\n",
        "import matplotlib\n",
        "import matplotlib.pyplot as plt\n",
        "# settings for our plots later\n",
        "plt.style.use(\"ggplot\")\n",
        "matplotlib.rcParams.update({\"font.size\": 14})"
      ]
    },
    {
      "cell_type": "markdown",
      "metadata": {
        "id": "l7B1w8d4Frlz"
      },
      "source": [
        "### Load the Data"
      ]
    },
    {
      "cell_type": "code",
      "execution_count": 8,
      "metadata": {
        "id": "R7r6iSGYFrlz",
        "outputId": "622dc3b9-0cc7-4ba9-8268-afa3d9c508b7",
        "colab": {
          "base_uri": "https://localhost:8080/",
          "height": 170
        }
      },
      "outputs": [
        {
          "output_type": "execute_result",
          "data": {
            "text/plain": [
              "  course_code                        course_title  num_ratings useful easy  \\\n",
              "0      CS 115  Introduction to Computer Science 1         2111    21%  10%   \n",
              "\n",
              "  liked  num_reviews                          reviews course_rating  \\\n",
              "0   23%           86  go to office hours and practice  liked course   \n",
              "\n",
              "   course_rating_int  \n",
              "0                1.0  "
            ],
            "text/html": [
              "\n",
              "  <div id=\"df-01978d30-6637-4066-b9ab-8c90dc08a2a7\" class=\"colab-df-container\">\n",
              "    <div>\n",
              "<style scoped>\n",
              "    .dataframe tbody tr th:only-of-type {\n",
              "        vertical-align: middle;\n",
              "    }\n",
              "\n",
              "    .dataframe tbody tr th {\n",
              "        vertical-align: top;\n",
              "    }\n",
              "\n",
              "    .dataframe thead th {\n",
              "        text-align: right;\n",
              "    }\n",
              "</style>\n",
              "<table border=\"1\" class=\"dataframe\">\n",
              "  <thead>\n",
              "    <tr style=\"text-align: right;\">\n",
              "      <th></th>\n",
              "      <th>course_code</th>\n",
              "      <th>course_title</th>\n",
              "      <th>num_ratings</th>\n",
              "      <th>useful</th>\n",
              "      <th>easy</th>\n",
              "      <th>liked</th>\n",
              "      <th>num_reviews</th>\n",
              "      <th>reviews</th>\n",
              "      <th>course_rating</th>\n",
              "      <th>course_rating_int</th>\n",
              "    </tr>\n",
              "  </thead>\n",
              "  <tbody>\n",
              "    <tr>\n",
              "      <th>0</th>\n",
              "      <td>CS 115</td>\n",
              "      <td>Introduction to Computer Science 1</td>\n",
              "      <td>2111</td>\n",
              "      <td>21%</td>\n",
              "      <td>10%</td>\n",
              "      <td>23%</td>\n",
              "      <td>86</td>\n",
              "      <td>go to office hours and practice</td>\n",
              "      <td>liked course</td>\n",
              "      <td>1.0</td>\n",
              "    </tr>\n",
              "  </tbody>\n",
              "</table>\n",
              "</div>\n",
              "    <div class=\"colab-df-buttons\">\n",
              "\n",
              "  <div class=\"colab-df-container\">\n",
              "    <button class=\"colab-df-convert\" onclick=\"convertToInteractive('df-01978d30-6637-4066-b9ab-8c90dc08a2a7')\"\n",
              "            title=\"Convert this dataframe to an interactive table.\"\n",
              "            style=\"display:none;\">\n",
              "\n",
              "  <svg xmlns=\"http://www.w3.org/2000/svg\" height=\"24px\" viewBox=\"0 -960 960 960\">\n",
              "    <path d=\"M120-120v-720h720v720H120Zm60-500h600v-160H180v160Zm220 220h160v-160H400v160Zm0 220h160v-160H400v160ZM180-400h160v-160H180v160Zm440 0h160v-160H620v160ZM180-180h160v-160H180v160Zm440 0h160v-160H620v160Z\"/>\n",
              "  </svg>\n",
              "    </button>\n",
              "\n",
              "  <style>\n",
              "    .colab-df-container {\n",
              "      display:flex;\n",
              "      gap: 12px;\n",
              "    }\n",
              "\n",
              "    .colab-df-convert {\n",
              "      background-color: #E8F0FE;\n",
              "      border: none;\n",
              "      border-radius: 50%;\n",
              "      cursor: pointer;\n",
              "      display: none;\n",
              "      fill: #1967D2;\n",
              "      height: 32px;\n",
              "      padding: 0 0 0 0;\n",
              "      width: 32px;\n",
              "    }\n",
              "\n",
              "    .colab-df-convert:hover {\n",
              "      background-color: #E2EBFA;\n",
              "      box-shadow: 0px 1px 2px rgba(60, 64, 67, 0.3), 0px 1px 3px 1px rgba(60, 64, 67, 0.15);\n",
              "      fill: #174EA6;\n",
              "    }\n",
              "\n",
              "    .colab-df-buttons div {\n",
              "      margin-bottom: 4px;\n",
              "    }\n",
              "\n",
              "    [theme=dark] .colab-df-convert {\n",
              "      background-color: #3B4455;\n",
              "      fill: #D2E3FC;\n",
              "    }\n",
              "\n",
              "    [theme=dark] .colab-df-convert:hover {\n",
              "      background-color: #434B5C;\n",
              "      box-shadow: 0px 1px 3px 1px rgba(0, 0, 0, 0.15);\n",
              "      filter: drop-shadow(0px 1px 2px rgba(0, 0, 0, 0.3));\n",
              "      fill: #FFFFFF;\n",
              "    }\n",
              "  </style>\n",
              "\n",
              "    <script>\n",
              "      const buttonEl =\n",
              "        document.querySelector('#df-01978d30-6637-4066-b9ab-8c90dc08a2a7 button.colab-df-convert');\n",
              "      buttonEl.style.display =\n",
              "        google.colab.kernel.accessAllowed ? 'block' : 'none';\n",
              "\n",
              "      async function convertToInteractive(key) {\n",
              "        const element = document.querySelector('#df-01978d30-6637-4066-b9ab-8c90dc08a2a7');\n",
              "        const dataTable =\n",
              "          await google.colab.kernel.invokeFunction('convertToInteractive',\n",
              "                                                    [key], {});\n",
              "        if (!dataTable) return;\n",
              "\n",
              "        const docLinkHtml = 'Like what you see? Visit the ' +\n",
              "          '<a target=\"_blank\" href=https://colab.research.google.com/notebooks/data_table.ipynb>data table notebook</a>'\n",
              "          + ' to learn more about interactive tables.';\n",
              "        element.innerHTML = '';\n",
              "        dataTable['output_type'] = 'display_data';\n",
              "        await google.colab.output.renderOutput(dataTable, element);\n",
              "        const docLink = document.createElement('div');\n",
              "        docLink.innerHTML = docLinkHtml;\n",
              "        element.appendChild(docLink);\n",
              "      }\n",
              "    </script>\n",
              "  </div>\n",
              "\n",
              "\n",
              "    </div>\n",
              "  </div>\n"
            ],
            "application/vnd.google.colaboratory.intrinsic+json": {
              "type": "dataframe",
              "variable_name": "waterloo",
              "summary": "{\n  \"name\": \"waterloo\",\n  \"rows\": 14838,\n  \"fields\": [\n    {\n      \"column\": \"course_code\",\n      \"properties\": {\n        \"dtype\": \"category\",\n        \"num_unique_values\": 1974,\n        \"samples\": [\n          \"BIOL 323\",\n          \"ME 215\",\n          \"HLTH 370\"\n        ],\n        \"semantic_type\": \"\",\n        \"description\": \"\"\n      }\n    },\n    {\n      \"column\": \"course_title\",\n      \"properties\": {\n        \"dtype\": \"category\",\n        \"num_unique_values\": 1730,\n        \"samples\": [\n          \"Survey of British Literature 1\",\n          \"The Holocaust and Film\",\n          \"Numeric Computation for Financial Modeling\"\n        ],\n        \"semantic_type\": \"\",\n        \"description\": \"\"\n      }\n    },\n    {\n      \"column\": \"num_ratings\",\n      \"properties\": {\n        \"dtype\": \"number\",\n        \"std\": 308,\n        \"min\": 0,\n        \"max\": 2111,\n        \"num_unique_values\": 217,\n        \"samples\": [\n          11,\n          2,\n          80\n        ],\n        \"semantic_type\": \"\",\n        \"description\": \"\"\n      }\n    },\n    {\n      \"column\": \"useful\",\n      \"properties\": {\n        \"dtype\": \"category\",\n        \"num_unique_values\": 96,\n        \"samples\": [\n          \"34%\",\n          \"20%\",\n          \"13%\"\n        ],\n        \"semantic_type\": \"\",\n        \"description\": \"\"\n      }\n    },\n    {\n      \"column\": \"easy\",\n      \"properties\": {\n        \"dtype\": \"category\",\n        \"num_unique_values\": 99,\n        \"samples\": [\n          \"32%\",\n          \"18%\",\n          \"99%\"\n        ],\n        \"semantic_type\": \"\",\n        \"description\": \"\"\n      }\n    },\n    {\n      \"column\": \"liked\",\n      \"properties\": {\n        \"dtype\": \"category\",\n        \"num_unique_values\": 95,\n        \"samples\": [\n          \"41%\",\n          \"39%\",\n          \"49%\"\n        ],\n        \"semantic_type\": \"\",\n        \"description\": \"\"\n      }\n    },\n    {\n      \"column\": \"num_reviews\",\n      \"properties\": {\n        \"dtype\": \"number\",\n        \"std\": 54,\n        \"min\": 1,\n        \"max\": 253,\n        \"num_unique_values\": 84,\n        \"samples\": [\n          20,\n          86,\n          24\n        ],\n        \"semantic_type\": \"\",\n        \"description\": \"\"\n      }\n    },\n    {\n      \"column\": \"reviews\",\n      \"properties\": {\n        \"dtype\": \"string\",\n        \"num_unique_values\": 14694,\n        \"samples\": [\n          \"Useful for intro to programming, easy but time consuming if you are just learning.\",\n          \"Extremely easy and straightforward class overall. One of the very best courses in the entire program as its very interesting too.\",\n          \"fk this course\"\n        ],\n        \"semantic_type\": \"\",\n        \"description\": \"\"\n      }\n    },\n    {\n      \"column\": \"course_rating\",\n      \"properties\": {\n        \"dtype\": \"category\",\n        \"num_unique_values\": 2,\n        \"samples\": [\n          \"disliked course\",\n          \"liked course\"\n        ],\n        \"semantic_type\": \"\",\n        \"description\": \"\"\n      }\n    },\n    {\n      \"column\": \"course_rating_int\",\n      \"properties\": {\n        \"dtype\": \"number\",\n        \"std\": 0.47039478039716187,\n        \"min\": 0.0,\n        \"max\": 1.0,\n        \"num_unique_values\": 2,\n        \"samples\": [\n          0.0,\n          1.0\n        ],\n        \"semantic_type\": \"\",\n        \"description\": \"\"\n      }\n    }\n  ]\n}"
            }
          },
          "metadata": {},
          "execution_count": 8
        }
      ],
      "source": [
        "waterloo=pd.read_csv(\"/content/DS4002-Project-1/DATA/course_data_clean.csv\")\n",
        "waterloo.head(1)"
      ]
    },
    {
      "cell_type": "markdown",
      "metadata": {
        "id": "BagS12GAFrl0"
      },
      "source": [
        "### Word Cloud"
      ]
    },
    {
      "cell_type": "code",
      "execution_count": 9,
      "metadata": {
        "id": "jNYN1d4jFrl0",
        "outputId": "81514c8f-9368-4c39-af4a-531cc469b908",
        "colab": {
          "base_uri": "https://localhost:8080/"
        }
      },
      "outputs": [
        {
          "output_type": "stream",
          "name": "stdout",
          "text": [
            "Requirement already satisfied: wordcloud in /usr/local/lib/python3.10/dist-packages (1.9.3)\n",
            "Requirement already satisfied: numpy>=1.6.1 in /usr/local/lib/python3.10/dist-packages (from wordcloud) (1.26.4)\n",
            "Requirement already satisfied: pillow in /usr/local/lib/python3.10/dist-packages (from wordcloud) (10.4.0)\n",
            "Requirement already satisfied: matplotlib in /usr/local/lib/python3.10/dist-packages (from wordcloud) (3.7.1)\n",
            "Requirement already satisfied: contourpy>=1.0.1 in /usr/local/lib/python3.10/dist-packages (from matplotlib->wordcloud) (1.3.0)\n",
            "Requirement already satisfied: cycler>=0.10 in /usr/local/lib/python3.10/dist-packages (from matplotlib->wordcloud) (0.12.1)\n",
            "Requirement already satisfied: fonttools>=4.22.0 in /usr/local/lib/python3.10/dist-packages (from matplotlib->wordcloud) (4.53.1)\n",
            "Requirement already satisfied: kiwisolver>=1.0.1 in /usr/local/lib/python3.10/dist-packages (from matplotlib->wordcloud) (1.4.7)\n",
            "Requirement already satisfied: packaging>=20.0 in /usr/local/lib/python3.10/dist-packages (from matplotlib->wordcloud) (24.1)\n",
            "Requirement already satisfied: pyparsing>=2.3.1 in /usr/local/lib/python3.10/dist-packages (from matplotlib->wordcloud) (3.1.4)\n",
            "Requirement already satisfied: python-dateutil>=2.7 in /usr/local/lib/python3.10/dist-packages (from matplotlib->wordcloud) (2.8.2)\n",
            "Requirement already satisfied: six>=1.5 in /usr/local/lib/python3.10/dist-packages (from python-dateutil>=2.7->matplotlib->wordcloud) (1.16.0)\n"
          ]
        }
      ],
      "source": [
        "pip install wordcloud"
      ]
    },
    {
      "cell_type": "code",
      "execution_count": 10,
      "metadata": {
        "id": "J1sHZHOUFrl0"
      },
      "outputs": [],
      "source": [
        "from wordcloud import WordCloud\n",
        "import matplotlib.patches as mpatches\n"
      ]
    },
    {
      "cell_type": "code",
      "execution_count": 11,
      "metadata": {
        "id": "hv4VjuwMFrl1"
      },
      "outputs": [],
      "source": [
        "waterloo['reviews'] = waterloo['reviews'].fillna('').astype(str)\n"
      ]
    },
    {
      "cell_type": "code",
      "execution_count": 12,
      "metadata": {
        "id": "hnvrjrK_Frl1"
      },
      "outputs": [],
      "source": [
        "text = \" \".join(waterloo['reviews'])"
      ]
    },
    {
      "cell_type": "code",
      "execution_count": 13,
      "metadata": {
        "id": "ciVdu8xhFrl1",
        "outputId": "b2041638-19c1-4273-b686-496c6df9d2be",
        "colab": {
          "base_uri": "https://localhost:8080/",
          "height": 285
        }
      },
      "outputs": [
        {
          "output_type": "display_data",
          "data": {
            "text/plain": [
              "<Figure size 640x480 with 1 Axes>"
            ],
            "image/png": "[encoded data removed]"
          },
          "metadata": {}
        }
      ],
      "source": [
        "wordcloud2 = WordCloud().generate(text)\n",
        "# Generate plot\n",
        "plt.imshow(wordcloud2)\n",
        "plt.axis(\"off\")\n",
        "plt.show()\n"
      ]
    },
    {
      "cell_type": "markdown",
      "metadata": {
        "id": "DyDmf4cuFrl1"
      },
      "source": [
        "## General Topic Modeling"
      ]
    },
    {
      "cell_type": "markdown",
      "metadata": {
        "id": "YClwn8CvFrl1"
      },
      "source": [
        "### Load Custom Stop Words"
      ]
    },
    {
      "cell_type": "code",
      "execution_count": 15,
      "metadata": {
        "id": "sh5ra_r4Frl1",
        "outputId": "dcecfb6f-6a51-4926-cd66-2fa49c27914a",
        "colab": {
          "base_uri": "https://localhost:8080/"
        }
      },
      "outputs": [
        {
          "output_type": "stream",
          "name": "stdout",
          "text": [
            "Stopword list has 363 entries\n"
          ]
        }
      ],
      "source": [
        "custom_stop_words = []\n",
        "with open( \"/content/DS4002-Project-1/DATA/stopwords copy.txt\", \"r\" ) as fin:\n",
        "    for line in fin.readlines():\n",
        "        custom_stop_words.append(line.strip())\n",
        "# note that we need to make it hashable\n",
        "print(\"Stopword list has %d entries\" % len(custom_stop_words))"
      ]
    },
    {
      "cell_type": "markdown",
      "metadata": {
        "id": "96L5gl5qFrl1"
      },
      "source": [
        "# For Positive ECON 101 reviews\n"
      ]
    },
    {
      "cell_type": "code",
      "execution_count": 16,
      "metadata": {
        "id": "K4pzVMdEFrl2"
      },
      "outputs": [],
      "source": [
        "ECON_rocks = waterloo[(waterloo['course_code'] == 'ECON 101') & (waterloo['course_rating']=='liked course')]"
      ]
    },
    {
      "cell_type": "code",
      "execution_count": 17,
      "metadata": {
        "id": "yd1G54jrFrl2",
        "outputId": "9d5cac18-4c21-49df-a15c-d94bfcdd7c33",
        "colab": {
          "base_uri": "https://localhost:8080/"
        }
      },
      "outputs": [
        {
          "output_type": "execute_result",
          "data": {
            "text/plain": [
              "['Very simple',\n",
              " 'Took online, almost all multiple choice, a lot of questions are common sense',\n",
              " \"PROS: (1) Readings itself were simple to understand. (2) Nicely arranged content on Learn and Mobius (I took it online). (3) Decent grade, task, and submission period distribution. CONS: (1) Too many readings for a first-time learner of econ. (2) One collective zoom office hour (1 hour long) at the beginning of the week felt very unfair (3) Found a need for more OHs each week and a MS teams GC. (4) Felt isolated from the rest of the class. (5) lack of one-to-one instructional support (unless you email every question). (6) Had to refer to external resources for quicker understanding because readings were too time consuming. (7) Weren't taught at all on how to approach an article/case study. TIPS: (1) Finish all readings in the first two days of the week, (2) repeat quizzes till you get them correct (you get 4 chances per graded quiz every week, please use these well). (3) Don’t just read to study, answer a lot of MCQs.\"]"
            ]
          },
          "metadata": {},
          "execution_count": 17
        }
      ],
      "source": [
        "Econ_pos_reviews = ECON_rocks['reviews']\n",
        "Econ_pos_reviews = Econ_pos_reviews.dropna()\n",
        "Econ_pos_reviews = Econ_pos_reviews.to_list()\n",
        "Econ_pos_reviews[0:3]"
      ]
    },
    {
      "cell_type": "code",
      "execution_count": 18,
      "metadata": {
        "id": "AYFXHkPmFrl2",
        "outputId": "301c8b50-82f6-40e2-ae60-019ebef93594",
        "colab": {
          "base_uri": "https://localhost:8080/"
        }
      },
      "outputs": [
        {
          "output_type": "stream",
          "name": "stdout",
          "text": [
            "Created 98 X 151 document-term matrix\n"
          ]
        }
      ],
      "source": [
        "# use a custom stopwords list, set the minimum term-document frequency to 2\n",
        "vectorizer = CountVectorizer(stop_words = custom_stop_words, min_df=2)\n",
        "A = vectorizer.fit_transform(Econ_pos_reviews)\n",
        "print( \"Created %d X %d document-term matrix\" % (A.shape[0], A.shape[1]))"
      ]
    },
    {
      "cell_type": "code",
      "execution_count": 19,
      "metadata": {
        "id": "0PPvx4qXFrl2",
        "outputId": "e188b07b-913f-4fb8-d0da-2cc143a64d73",
        "colab": {
          "base_uri": "https://localhost:8080/"
        }
      },
      "outputs": [
        {
          "output_type": "stream",
          "name": "stdout",
          "text": [
            "Vocabulary has 151 distinct terms\n"
          ]
        }
      ],
      "source": [
        "econ_terms =  list(vectorizer.get_feature_names_out())\n",
        "print(\"Vocabulary has %d distinct terms\" % len(econ_terms))"
      ]
    },
    {
      "cell_type": "code",
      "execution_count": 20,
      "metadata": {
        "id": "QVvojdOnFrl2",
        "outputId": "46a68554-02c8-46e1-b94d-9f29f48f08a6",
        "colab": {
          "base_uri": "https://localhost:8080/"
        }
      },
      "outputs": [
        {
          "output_type": "execute_result",
          "data": {
            "text/plain": [
              "['Very simple',\n",
              " 'Took online, almost all multiple choice, a lot of questions are common sense',\n",
              " 'PROS: (1) Readings itself were simple to understand. (2) Nicely arranged content on Learn and Mobius']"
            ]
          },
          "metadata": {},
          "execution_count": 20
        }
      ],
      "source": [
        "snippets = [Econ_pos_reviews[:100] for Econ_pos_reviews in Econ_pos_reviews]\n",
        "snippets[0:3]"
      ]
    },
    {
      "cell_type": "code",
      "execution_count": 21,
      "metadata": {
        "id": "UvLooecPFrl2",
        "outputId": "422483d2-cbd3-4390-e0ef-7e1102eb16c4",
        "colab": {
          "base_uri": "https://localhost:8080/"
        }
      },
      "outputs": [
        {
          "output_type": "execute_result",
          "data": {
            "text/plain": [
              "['Econ-pos-reviews-raw.pkl']"
            ]
          },
          "metadata": {},
          "execution_count": 21
        }
      ],
      "source": [
        "joblib.dump((A,econ_terms,snippets), \"Econ-pos-reviews-raw.pkl\")"
      ]
    },
    {
      "cell_type": "code",
      "execution_count": 22,
      "metadata": {
        "id": "n9hgZPNyFrl2",
        "outputId": "491baffb-ccab-4102-e9bd-a0c1039e9def",
        "colab": {
          "base_uri": "https://localhost:8080/"
        }
      },
      "outputs": [
        {
          "output_type": "stream",
          "name": "stdout",
          "text": [
            "Created 98 X 151 TF-IDF-normalized document-term matrix\n"
          ]
        }
      ],
      "source": [
        "# we can pass in the same preprocessing parameters\n",
        "vectorizer = TfidfVectorizer(stop_words=custom_stop_words, min_df = 2)\n",
        "A = vectorizer.fit_transform(Econ_pos_reviews)\n",
        "print( \"Created %d X %d TF-IDF-normalized document-term matrix\" % (A.shape[0], A.shape[1]) )"
      ]
    },
    {
      "cell_type": "code",
      "execution_count": 23,
      "metadata": {
        "id": "ZWDo1GL-Frl2",
        "outputId": "938c25b8-c64e-4ddd-c752-c8cf1b7c0e79",
        "colab": {
          "base_uri": "https://localhost:8080/"
        }
      },
      "outputs": [
        {
          "output_type": "stream",
          "name": "stdout",
          "text": [
            "Vocabulary has 151 distinct terms\n"
          ]
        }
      ],
      "source": [
        "econ_terms =  list(vectorizer.get_feature_names_out())\n",
        "print(\"Vocabulary has %d distinct terms\" % len(econ_terms))"
      ]
    },
    {
      "cell_type": "code",
      "execution_count": 24,
      "metadata": {
        "id": "UP6jKCZTFrl2"
      },
      "outputs": [],
      "source": [
        "def rank_terms(A, term):\n",
        "    # get the sums over each column\n",
        "    sums = A.sum(axis=0)\n",
        "    # map weights to the terms\n",
        "    weights = {}\n",
        "    for col, term in enumerate(econ_terms):\n",
        "        weights[term] = sums[0,col]\n",
        "    # rank the terms by their weight over all documents\n",
        "    return sorted(weights.items(), key=operator.itemgetter(1), reverse=True)"
      ]
    },
    {
      "cell_type": "markdown",
      "metadata": {
        "id": "DOB7yNt6Frl3"
      },
      "source": [
        "### Most common words"
      ]
    },
    {
      "cell_type": "code",
      "execution_count": 25,
      "metadata": {
        "id": "95lEL4NaFrl3",
        "outputId": "e9232d80-1699-43a0-81b4-6d21c634c311",
        "colab": {
          "base_uri": "https://localhost:8080/"
        }
      },
      "outputs": [
        {
          "output_type": "stream",
          "name": "stdout",
          "text": [
            "01. easy (13.60)\n",
            "02. textbook (5.62)\n",
            "03. concepts (3.80)\n",
            "04. study (3.77)\n",
            "05. good (3.75)\n",
            "06. questions (3.70)\n",
            "07. lectures (3.56)\n",
            "08. choice (3.49)\n",
            "09. multiple (3.49)\n",
            "10. read (3.48)\n",
            "11. economics (3.31)\n",
            "12. interesting (3.29)\n",
            "13. practice (3.01)\n",
            "14. guide (2.99)\n",
            "15. hard (2.90)\n",
            "16. useful (2.82)\n",
            "17. content (2.73)\n",
            "18. simple (2.72)\n",
            "19. boring (2.54)\n",
            "20. high (2.49)\n"
          ]
        }
      ],
      "source": [
        "ranking = rank_terms(A, econ_terms)\n",
        "for i, pair in enumerate(ranking[0:20]):\n",
        "    print( \"%02d. %s (%.2f)\" % (i+1, pair[0], pair[1] ))"
      ]
    },
    {
      "cell_type": "code",
      "execution_count": 26,
      "metadata": {
        "id": "zWTao9-HFrl3",
        "outputId": "5b76f506-b591-493a-d68d-01adb5ad5f6c",
        "colab": {
          "base_uri": "https://localhost:8080/"
        }
      },
      "outputs": [
        {
          "output_type": "execute_result",
          "data": {
            "text/plain": [
              "['Econ-pos-reviews-tfidf.pkl']"
            ]
          },
          "metadata": {},
          "execution_count": 26
        }
      ],
      "source": [
        "joblib.dump((A,econ_terms,snippets), \"Econ-pos-reviews-tfidf.pkl\")"
      ]
    },
    {
      "cell_type": "code",
      "execution_count": 27,
      "metadata": {
        "id": "DD5nITpZFrl3",
        "outputId": "01f25e2a-93ae-4e8f-fe59-8941b232b46a",
        "colab": {
          "base_uri": "https://localhost:8080/"
        }
      },
      "outputs": [
        {
          "output_type": "stream",
          "name": "stdout",
          "text": [
            "Loaded 98 X 151 document-term matrix\n"
          ]
        }
      ],
      "source": [
        "(A, econ_terms, snippets) = joblib.load(\"Econ-pos-reviews-tfidf.pkl\")\n",
        "print(\"Loaded %d X %d document-term matrix\" % (A.shape[0], A.shape[1]))"
      ]
    },
    {
      "cell_type": "code",
      "execution_count": 28,
      "metadata": {
        "id": "kxJqOYhEFrl3"
      },
      "outputs": [],
      "source": [
        "k=4\n",
        "# create the model, specifiying the initialization strategy and the number of topics to produce\n",
        "model = decomposition.NMF(init=\"nndsvd\", n_components=k)\n",
        "# apply the model and extract the two factor matrices\n",
        "W = model.fit_transform( A )\n",
        "H = model.components_"
      ]
    },
    {
      "cell_type": "code",
      "execution_count": 29,
      "metadata": {
        "id": "RYe04Y3tFrl3",
        "outputId": "25991453-1964-4388-afc9-78561f8ffcef",
        "colab": {
          "base_uri": "https://localhost:8080/"
        }
      },
      "outputs": [
        {
          "output_type": "execute_result",
          "data": {
            "text/plain": [
              "array([0.  , 0.  , 0.  , 0.17])"
            ]
          },
          "metadata": {},
          "execution_count": 29
        }
      ],
      "source": [
        "# round to 2 decimal places for display purposes\n",
        "W[0,:].round(2)"
      ]
    },
    {
      "cell_type": "code",
      "execution_count": 30,
      "metadata": {
        "id": "Mt83rr1SFrl3",
        "outputId": "9ddfb6a8-fa69-4050-9e1e-835ffa307265",
        "colab": {
          "base_uri": "https://localhost:8080/"
        }
      },
      "outputs": [
        {
          "output_type": "execute_result",
          "data": {
            "text/plain": [
              "array([0.  , 0.02, 0.03, 0.07])"
            ]
          },
          "metadata": {},
          "execution_count": 30
        }
      ],
      "source": [
        "term_index = econ_terms.index('exam')\n",
        "# round to 2 decimal places for display purposes\n",
        "H[:,term_index].round(2)"
      ]
    },
    {
      "cell_type": "code",
      "execution_count": 31,
      "metadata": {
        "id": "lZFnQUCIFrl3"
      },
      "outputs": [],
      "source": [
        "def get_descriptor(econ_terms, H, topic_index, top):\n",
        "    # reverse sort the values to sort the indices\n",
        "    top_indices = np.argsort(H[topic_index,:])[::-1]\n",
        "    # now get the terms corresponding to the top-ranked indices\n",
        "    top_terms = []\n",
        "    for term_index in top_indices[0:top]:\n",
        "        top_terms.append(econ_terms[term_index])\n",
        "    return top_terms"
      ]
    },
    {
      "cell_type": "code",
      "execution_count": 32,
      "metadata": {
        "id": "_FqEBK_nFrl3",
        "outputId": "ea5cbcc2-b633-4210-a5a0-c9779fb155c8",
        "colab": {
          "base_uri": "https://localhost:8080/"
        }
      },
      "outputs": [
        {
          "output_type": "stream",
          "name": "stdout",
          "text": [
            "Topic 01: easy, boring, light, work, fun, hard, grade\n",
            "Topic 02: textbook, questions, read, study, guide, material, lectures\n",
            "Topic 03: choice, multiple, online, took, exams, final, before\n",
            "Topic 04: economics, concepts, high, good, school, simple, useful\n"
          ]
        }
      ],
      "source": [
        "descriptors = []\n",
        "for topic_index in range(k):\n",
        "    descriptors.append(get_descriptor( econ_terms, H, topic_index, 7))\n",
        "    str_descriptor = \", \".join(descriptors[topic_index])\n",
        "    print(\"Topic %02d: %s\" % (topic_index+1, str_descriptor))"
      ]
    },
    {
      "cell_type": "markdown",
      "metadata": {
        "id": "L2nQSe--Frl3"
      },
      "source": [
        "Topic 01: Super Easy Class, but Boring\n",
        "\n",
        "Topic 02: Learning tools\n",
        "\n",
        "Topic 3: Exams\n",
        "\n",
        "Topic 4: Course content"
      ]
    },
    {
      "cell_type": "markdown",
      "metadata": {
        "id": "mLFCKQHKFrl3"
      },
      "source": [
        "Note that the topic numbers are arbitrary. Topic 1 is not necessarily more prevalent than topic 2, but these should be like the top 4 topics"
      ]
    },
    {
      "cell_type": "code",
      "execution_count": 33,
      "metadata": {
        "id": "P__W2q-1Frl3"
      },
      "outputs": [],
      "source": [
        "def plot_top_term_weights(econ_terms, H, topic_index, top):\n",
        "    # get the top terms and their weights\n",
        "    top_indices = np.argsort(H[topic_index,:])[::-1]\n",
        "    top_terms = []\n",
        "    top_weights = []\n",
        "    for term_index in top_indices[0:top]:\n",
        "        top_terms.append(econ_terms[term_index])\n",
        "        top_weights.append(H[topic_index,term_index])\n",
        "    # note we reverse the ordering for the plot\n",
        "    top_terms.reverse()\n",
        "    top_weights.reverse()\n",
        "    # create the plot\n",
        "    fig = plt.figure(figsize=(13,8))\n",
        "    # add the horizontal bar chart\n",
        "    ypos = np.arange(top)\n",
        "    ax = plt.barh(ypos, top_weights, align=\"center\", color=\"green\",tick_label=top_terms)\n",
        "    plt.xlabel(\"Term Weight\",fontsize=14)\n",
        "    plt.tight_layout()\n",
        "    plt.show()"
      ]
    },
    {
      "cell_type": "code",
      "execution_count": 34,
      "metadata": {
        "id": "311QH6dGFrl4",
        "outputId": "bb4171aa-ee9a-4dee-da63-d63de8a920cd",
        "colab": {
          "base_uri": "https://localhost:8080/",
          "height": 546
        }
      },
      "outputs": [
        {
          "output_type": "display_data",
          "data": {
            "text/plain": [
              "<Figure size 1300x800 with 1 Axes>"
            ],
            "image/png": "[encoded data removed]"
          },
          "metadata": {}
        }
      ],
      "source": [
        "plot_top_term_weights(econ_terms, H, 2, 15)"
      ]
    },
    {
      "cell_type": "code",
      "execution_count": 35,
      "metadata": {
        "id": "wfSyMiWHFrl4"
      },
      "outputs": [],
      "source": [
        "def get_top_snippets(all_snippets, W, topic_index, top):\n",
        "    # reverse sort the values to sort the indices\n",
        "    top_indices = np.argsort( W[:,topic_index] )[::-1]\n",
        "    # now get the snippets corresponding to the top-ranked indices\n",
        "    top_snippets = []\n",
        "    for doc_index in top_indices[0:top]:\n",
        "        top_snippets.append(all_snippets[doc_index])\n",
        "    return top_snippets"
      ]
    },
    {
      "cell_type": "code",
      "execution_count": 36,
      "metadata": {
        "id": "UxmbG3fPFrl4",
        "outputId": "e67b1da1-8563-44f3-bd1e-54004d80618a",
        "colab": {
          "base_uri": "https://localhost:8080/"
        }
      },
      "outputs": [
        {
          "output_type": "stream",
          "name": "stdout",
          "text": [
            "01. Easy bird course. Multiple choice ftw.\n",
            "02. Took online, almost all multiple choice, a lot of questions are common sense\n",
            "03. Super easy if you do it online, there was no midterm and the final was going to be all multiple choi\n",
            "04. Took it as a CSE, highest graded CSE course I have on record. Multiple choice midterm and final exam\n",
            "05. All multiple choice, all about memory and understanding. One of the easiest courses in first year\n",
            "06. Easy course if you NEVER took econ before.. probably extremely boring if you have taken econ before.\n",
            "07. I only went to 3 lectures the entire semester. Works well if you only get multiple choice exams. It'\n",
            "08. Very interesting course because my prof (Packalen) was into the application of learned concepts inst\n",
            "09. Read the text book, do those multiple choice questions from the study guide then you will be all set\n",
            "10. Easy bird course for any student looking to fill an elective. Course goes over a lot of concepts in \n"
          ]
        }
      ],
      "source": [
        "topic_snippets = get_top_snippets(snippets, W, 2, 10)\n",
        "for i, snippet in enumerate(topic_snippets):\n",
        "    print(\"%02d. %s\" % ((i+1), snippet ))"
      ]
    },
    {
      "cell_type": "markdown",
      "metadata": {
        "id": "s5pMhlb-Frl9"
      },
      "source": [
        "# For Positive CS 101 reviews"
      ]
    },
    {
      "cell_type": "code",
      "execution_count": 37,
      "metadata": {
        "id": "pggZJPuNFrl9",
        "outputId": "42fb9786-bd4a-44e8-882f-3ba29b95f2b0",
        "colab": {
          "base_uri": "https://localhost:8080/"
        }
      },
      "outputs": [
        {
          "output_type": "execute_result",
          "data": {
            "text/plain": [
              "['go to office hours and practice',\n",
              " \"Took this in 2018 with no programming experience ever. Started out pretty slow, but I didn't really pay attention and was severely behind. Went to a lot of office hours, but nonetheless caught up and did decently well. After taking more cs courses, racket really is a weird language.\",\n",
              " \"I loved everything about cs 115. Great instructors, fair assignments ( can get tricky but there's a huge amount of office hours to attend ), good engagement and interesting topics! It's seriously well structured and I would recommend it to anyone even with no background in coding.\",\n",
              " 'I recommend finding a course with a language that is actually useful. Racket is dumb and never used anywhere. The majority of the course was quite easy, except a couple of concept checks that were RIDICULOUSLY HARD. i wish i had realized sooner that you get 10% of concept checks dropped from your grade. if you understand everything and are getting most things easily but you get stumped on one particular concept check, its probably not your fault and you should skip it, at least for now. the course was very well structured and predictable. expectations were clear and reasonable. it actually was designed to be a correspondence course, so it wasnt an online course that was rushed and slapped together for covid.',\n",
              " \"I really enjoyed this course online, being co-taught by 4 professors. There were lots of office hours available to help and all of the TA's and Profs in office hours were helpful and kind. While the programming language used is not useful elsewhere, I think it is easy to understand and helped get the point of the course across. In my opinion, the point of this course is to teach you to think about solving problems and the process to go through, as you are not creating ground-breaking programs. As a student with no prior programming experience, I found this course both useful and easy if you kept up with the content and got help as soon as you needed it. The course was organized well, and the built in questions made sure you were on the right track. The assignments are fair based on what you learn. Go in with an open mind and keep up with the content and you should be just fine.\"]"
            ]
          },
          "metadata": {},
          "execution_count": 37
        }
      ],
      "source": [
        "CS_rocks = waterloo[(waterloo['course_code'] == 'CS 115') & (waterloo['course_rating']=='liked course')]\n",
        "CS_pos_reviews = CS_rocks['reviews']\n",
        "CS_pos_reviews = CS_pos_reviews.dropna()\n",
        "CS_pos_reviews = CS_pos_reviews.to_list()\n",
        "CS_pos_reviews[0:5]\n"
      ]
    },
    {
      "cell_type": "code",
      "execution_count": 38,
      "metadata": {
        "id": "ZAJ7eK5xFrl9",
        "outputId": "ba7eb9a7-be53-4b60-af3f-61508416f21d",
        "colab": {
          "base_uri": "https://localhost:8080/"
        }
      },
      "outputs": [
        {
          "output_type": "stream",
          "name": "stdout",
          "text": [
            "Created 65 X 152 document-term matrix\n",
            "Vocabulary has 152 distinct terms\n"
          ]
        },
        {
          "output_type": "execute_result",
          "data": {
            "text/plain": [
              "['go to office hours and practice',\n",
              " \"Took this in 2018 with no programming experience ever. Started out pretty slow, but I didn't really \",\n",
              " \"I loved everything about cs 115. Great instructors, fair assignments ( can get tricky but there's a \",\n",
              " 'I recommend finding a course with a language that is actually useful. Racket is dumb and never used ',\n",
              " 'I really enjoyed this course online, being co-taught by 4 professors. There were lots of office hour']"
            ]
          },
          "metadata": {},
          "execution_count": 38
        }
      ],
      "source": [
        "# use a custom stopwords list, set the minimum term-document frequency to 2\n",
        "vectorizer = CountVectorizer(stop_words = custom_stop_words, min_df=2)\n",
        "A = vectorizer.fit_transform(CS_pos_reviews)\n",
        "print( \"Created %d X %d document-term matrix\" % (A.shape[0], A.shape[1]))\n",
        "\n",
        "terms =  list(vectorizer.get_feature_names_out())\n",
        "print(\"Vocabulary has %d distinct terms\" % len(terms))\n",
        "\n",
        "CS_snippets = [CS_pos_reviews[:100] for CS_pos_reviews in CS_pos_reviews]\n",
        "CS_snippets[0:5]"
      ]
    },
    {
      "cell_type": "code",
      "execution_count": 39,
      "metadata": {
        "id": "iMz4TjOlFrl9",
        "outputId": "49883866-3582-4c6f-efd6-f5e77bf43fec",
        "colab": {
          "base_uri": "https://localhost:8080/"
        }
      },
      "outputs": [
        {
          "output_type": "execute_result",
          "data": {
            "text/plain": [
              "['CS-pos-reviews-raw.pkl']"
            ]
          },
          "metadata": {},
          "execution_count": 39
        }
      ],
      "source": [
        "joblib.dump((A,terms,CS_snippets), \"CS-pos-reviews-raw.pkl\")"
      ]
    },
    {
      "cell_type": "code",
      "execution_count": 40,
      "metadata": {
        "id": "De9nZQOjFrl9",
        "outputId": "a50098ca-3c96-4215-fed7-ed62763faed4",
        "colab": {
          "base_uri": "https://localhost:8080/"
        }
      },
      "outputs": [
        {
          "output_type": "stream",
          "name": "stdout",
          "text": [
            "Created 65 X 152 TF-IDF-normalized document-term matrix\n",
            "Vocabulary has 152 distinct terms\n"
          ]
        }
      ],
      "source": [
        "# we can pass in the same preprocessing parameters\n",
        "vectorizer = TfidfVectorizer(stop_words=custom_stop_words, min_df = 2)\n",
        "A = vectorizer.fit_transform(CS_pos_reviews)\n",
        "print( \"Created %d X %d TF-IDF-normalized document-term matrix\" % (A.shape[0], A.shape[1]) )\n",
        "\n",
        "terms =  list(vectorizer.get_feature_names_out())\n",
        "print(\"Vocabulary has %d distinct terms\" % len(terms))"
      ]
    },
    {
      "cell_type": "code",
      "execution_count": 41,
      "metadata": {
        "id": "i-3j67P7Frl-",
        "outputId": "82310ef8-6dea-4393-d7c9-116f95fb28f5",
        "colab": {
          "base_uri": "https://localhost:8080/"
        }
      },
      "outputs": [
        {
          "output_type": "execute_result",
          "data": {
            "text/plain": [
              "['100',\n",
              " '102',\n",
              " '80',\n",
              " '90',\n",
              " '90s',\n",
              " '95',\n",
              " 'answer',\n",
              " 'aplia',\n",
              " 'application',\n",
              " 'bad',\n",
              " 'bank',\n",
              " 'before',\n",
              " 'best',\n",
              " 'better',\n",
              " 'boost',\n",
              " 'booster',\n",
              " 'boring',\n",
              " 'buy',\n",
              " 'case',\n",
              " 'choice',\n",
              " 'classes',\n",
              " 'common',\n",
              " 'concept',\n",
              " 'concepts',\n",
              " 'consuming',\n",
              " 'content',\n",
              " 'courses',\n",
              " 'days',\n",
              " 'decent',\n",
              " 'definitely',\n",
              " 'difficult',\n",
              " 'doing',\n",
              " 'easier',\n",
              " 'easiest',\n",
              " 'easy',\n",
              " 'econ',\n",
              " 'economics',\n",
              " 'ended',\n",
              " 'entire',\n",
              " 'exam',\n",
              " 'exams',\n",
              " 'extremely',\n",
              " 'fairly',\n",
              " 'felt',\n",
              " 'final',\n",
              " 'finals',\n",
              " 'fun',\n",
              " 'going',\n",
              " 'good',\n",
              " 'got',\n",
              " 'grade',\n",
              " 'graded',\n",
              " 'graphs',\n",
              " 'great',\n",
              " 'guaranteed',\n",
              " 'guide',\n",
              " 'hard',\n",
              " 'help',\n",
              " 'helped',\n",
              " 'high',\n",
              " 'hours',\n",
              " 'important',\n",
              " 'interesting',\n",
              " 'introduction',\n",
              " 'keep',\n",
              " 'know',\n",
              " 'kumase',\n",
              " 'larry',\n",
              " 'learn',\n",
              " 'learning',\n",
              " 'lecture',\n",
              " 'lectures',\n",
              " 'life',\n",
              " 'light',\n",
              " 'liked',\n",
              " 'little',\n",
              " 'long',\n",
              " 'lot',\n",
              " 'lots',\n",
              " 'low',\n",
              " 'mark',\n",
              " 'marks',\n",
              " 'material',\n",
              " 'mc',\n",
              " 'memorizing',\n",
              " 'memory',\n",
              " 'microeconomics',\n",
              " 'mid',\n",
              " 'midterm',\n",
              " 'midterms',\n",
              " 'multiple',\n",
              " 'myeconlab',\n",
              " 'notes',\n",
              " 'online',\n",
              " 'optional',\n",
              " 'overall',\n",
              " 'people',\n",
              " 'perfect',\n",
              " 'point',\n",
              " 'practice',\n",
              " 'prior',\n",
              " 'probably',\n",
              " 'problems',\n",
              " 'professor',\n",
              " 'question',\n",
              " 'questions',\n",
              " 'quiz',\n",
              " 'quizzes',\n",
              " 'read',\n",
              " 'reading',\n",
              " 'readings',\n",
              " 'recommend',\n",
              " 'recommended',\n",
              " 'rest',\n",
              " 'review',\n",
              " 'school',\n",
              " 'sense',\n",
              " 'sessions',\n",
              " 'simple',\n",
              " 'skipped',\n",
              " 'slides',\n",
              " 'smith',\n",
              " 'spent',\n",
              " 'straight',\n",
              " 'student',\n",
              " 'students',\n",
              " 'studied',\n",
              " 'study',\n",
              " 'studying',\n",
              " 'taken',\n",
              " 'taught',\n",
              " 'terms',\n",
              " 'test',\n",
              " 'textbook',\n",
              " 'think',\n",
              " 'time',\n",
              " 'took',\n",
              " 'trust',\n",
              " 'try',\n",
              " 'understand',\n",
              " 'understanding',\n",
              " 'useful',\n",
              " 'useless',\n",
              " 'want',\n",
              " 'wanted',\n",
              " 'way',\n",
              " 'week',\n",
              " 'weekly',\n",
              " 'wokia',\n",
              " 'work',\n",
              " 'works']"
            ]
          },
          "metadata": {},
          "execution_count": 41
        }
      ],
      "source": [
        "econ_terms"
      ]
    },
    {
      "cell_type": "code",
      "execution_count": 42,
      "metadata": {
        "id": "nunp5YYuFrl-",
        "outputId": "42b9f4cc-9353-434d-d232-b7d7f26de23a",
        "colab": {
          "base_uri": "https://localhost:8080/"
        }
      },
      "outputs": [
        {
          "output_type": "execute_result",
          "data": {
            "text/plain": [
              "['115',\n",
              " '135',\n",
              " 'amount',\n",
              " 'annoying',\n",
              " 'aside',\n",
              " 'ask',\n",
              " 'assignments',\n",
              " 'attend',\n",
              " 'attention',\n",
              " 'available',\n",
              " 'background',\n",
              " 'bad',\n",
              " 'based',\n",
              " 'basics',\n",
              " 'before',\n",
              " 'behind',\n",
              " 'better',\n",
              " 'challenge',\n",
              " 'check',\n",
              " 'checks',\n",
              " 'coded',\n",
              " 'codes',\n",
              " 'coding',\n",
              " 'computer',\n",
              " 'concept',\n",
              " 'concepts',\n",
              " 'content',\n",
              " 'courses',\n",
              " 'covid',\n",
              " 'data',\n",
              " 'definitely',\n",
              " 'design',\n",
              " 'difficult',\n",
              " 'due',\n",
              " 'easiest',\n",
              " 'easily',\n",
              " 'easy',\n",
              " 'enjoyed',\n",
              " 'especially',\n",
              " 'everything',\n",
              " 'examples',\n",
              " 'exams',\n",
              " 'experience',\n",
              " 'fair',\n",
              " 'finding',\n",
              " 'follow',\n",
              " 'fun',\n",
              " 'future',\n",
              " 'getting',\n",
              " 'good',\n",
              " 'great',\n",
              " 'hard',\n",
              " 'help',\n",
              " 'helpful',\n",
              " 'hours',\n",
              " 'interesting',\n",
              " 'intro',\n",
              " 'introduction',\n",
              " 'introductory',\n",
              " 'keep',\n",
              " 'know',\n",
              " 'labs',\n",
              " 'language',\n",
              " 'languages',\n",
              " 'learn',\n",
              " 'learned',\n",
              " 'leave',\n",
              " 'lectures',\n",
              " 'little',\n",
              " 'long',\n",
              " 'lot',\n",
              " 'major',\n",
              " 'majority',\n",
              " 'material',\n",
              " 'midterm',\n",
              " 'mind',\n",
              " 'modules',\n",
              " 'nice',\n",
              " 'notes',\n",
              " 'offer',\n",
              " 'office',\n",
              " 'okay',\n",
              " 'online',\n",
              " 'organized',\n",
              " 'overall',\n",
              " 'part',\n",
              " 'pay',\n",
              " 'people',\n",
              " 'person',\n",
              " 'personally',\n",
              " 'please',\n",
              " 'practice',\n",
              " 'prior',\n",
              " 'probably',\n",
              " 'problem',\n",
              " 'problems',\n",
              " 'professors',\n",
              " 'profs',\n",
              " 'program',\n",
              " 'programming',\n",
              " 'programs',\n",
              " 'provides',\n",
              " 'questions',\n",
              " 'quite',\n",
              " 'racket',\n",
              " 'read',\n",
              " 'reading',\n",
              " 'realized',\n",
              " 'recipe',\n",
              " 'recommend',\n",
              " 'recursion',\n",
              " 'relatively',\n",
              " 'rewarding',\n",
              " 'right',\n",
              " 'scheme',\n",
              " 'science',\n",
              " 'set',\n",
              " 'skip',\n",
              " 'solving',\n",
              " 'someone',\n",
              " 'something',\n",
              " 'start',\n",
              " 'starting',\n",
              " 'structured',\n",
              " 'stuck',\n",
              " 'student',\n",
              " 'students',\n",
              " 'ta',\n",
              " 'tas',\n",
              " 'taught',\n",
              " 'teach',\n",
              " 'teaches',\n",
              " 'term',\n",
              " 'tests',\n",
              " 'thing',\n",
              " 'things',\n",
              " 'think',\n",
              " 'time',\n",
              " 'times',\n",
              " 'took',\n",
              " 'tough',\n",
              " 'tricky',\n",
              " 'trust',\n",
              " 'understand',\n",
              " 'useful',\n",
              " 'useless',\n",
              " 'way',\n",
              " 'website',\n",
              " 'weekly',\n",
              " 'weird',\n",
              " 'work',\n",
              " 'writing']"
            ]
          },
          "metadata": {},
          "execution_count": 42
        }
      ],
      "source": [
        "terms"
      ]
    },
    {
      "cell_type": "code",
      "execution_count": 43,
      "metadata": {
        "id": "R7mXB0AnFrl-"
      },
      "outputs": [],
      "source": [
        "def rank_terms(A, term):\n",
        "    # get the sums over each column\n",
        "    sums = A.sum(axis=0)\n",
        "    # map weights to the terms\n",
        "    weights = {}\n",
        "    for col, term in enumerate(terms):\n",
        "        weights[term] = sums[0,col]\n",
        "    # rank the terms by their weight over all documents\n",
        "    return sorted(weights.items(), key=operator.itemgetter(1), reverse=True)"
      ]
    },
    {
      "cell_type": "code",
      "execution_count": 44,
      "metadata": {
        "id": "n7kvUpy_Frl-",
        "outputId": "d7cb56cd-1d05-47ea-f071-16f144cb1fba",
        "colab": {
          "base_uri": "https://localhost:8080/"
        }
      },
      "outputs": [
        {
          "output_type": "stream",
          "name": "stdout",
          "text": [
            "01. easy (6.75)\n",
            "02. good (4.44)\n",
            "03. assignments (4.29)\n",
            "04. programming (4.22)\n",
            "05. racket (4.12)\n",
            "06. fun (3.32)\n",
            "07. time (3.17)\n",
            "08. experience (2.71)\n",
            "09. hours (2.36)\n",
            "10. help (2.25)\n",
            "11. concepts (2.24)\n",
            "12. scheme (2.21)\n",
            "13. interesting (2.15)\n",
            "14. difficult (2.13)\n",
            "15. office (2.04)\n",
            "16. language (1.87)\n",
            "17. questions (1.84)\n",
            "18. science (1.82)\n",
            "19. overall (1.81)\n",
            "20. online (1.74)\n"
          ]
        }
      ],
      "source": [
        "ranking = rank_terms(A, terms)\n",
        "for i, pair in enumerate(ranking[0:20]):\n",
        "    print( \"%02d. %s (%.2f)\" % (i+1, pair[0], pair[1] ))"
      ]
    },
    {
      "cell_type": "code",
      "execution_count": 45,
      "metadata": {
        "id": "I9hxLo_mFrl-",
        "outputId": "656a57ad-5637-44fe-d6f0-51f028d22f26",
        "colab": {
          "base_uri": "https://localhost:8080/"
        }
      },
      "outputs": [
        {
          "output_type": "execute_result",
          "data": {
            "text/plain": [
              "['CS-pos-reviews-tfidf.pkl']"
            ]
          },
          "metadata": {},
          "execution_count": 45
        }
      ],
      "source": [
        "joblib.dump((A,terms,CS_snippets), \"CS-pos-reviews-tfidf.pkl\")"
      ]
    },
    {
      "cell_type": "code",
      "execution_count": 46,
      "metadata": {
        "id": "vWwV-DegFrl-",
        "outputId": "54df514a-df01-47c5-92dd-aae44a5224aa",
        "colab": {
          "base_uri": "https://localhost:8080/"
        }
      },
      "outputs": [
        {
          "output_type": "stream",
          "name": "stdout",
          "text": [
            "Loaded 65 X 152 document-term matrix\n"
          ]
        }
      ],
      "source": [
        "(A, terms, CS_snippets) = joblib.load(\"CS-pos-reviews-tfidf.pkl\")\n",
        "print(\"Loaded %d X %d document-term matrix\" % (A.shape[0], A.shape[1]))"
      ]
    },
    {
      "cell_type": "code",
      "execution_count": 47,
      "metadata": {
        "id": "Bl7_YuAvFrl-",
        "outputId": "cd2ce820-e80a-4d63-dcb6-ccafb61a12c1",
        "colab": {
          "base_uri": "https://localhost:8080/"
        }
      },
      "outputs": [
        {
          "output_type": "execute_result",
          "data": {
            "text/plain": [
              "array([0.  , 0.  , 0.03, 0.25])"
            ]
          },
          "metadata": {},
          "execution_count": 47
        }
      ],
      "source": [
        "k=4\n",
        "# create the model, specifiying the initialization strategy and the number of topics to produce\n",
        "model = decomposition.NMF(init=\"nndsvd\", n_components=k)\n",
        "# apply the model and extract the two factor matrices\n",
        "W_CS = model.fit_transform( A )\n",
        "H_CS = model.components_\n",
        "\n",
        "# round to 2 decimal places for display purposes\n",
        "W_CS[0,:].round(2)\n",
        "\n"
      ]
    },
    {
      "cell_type": "code",
      "execution_count": 48,
      "metadata": {
        "id": "pF2VI8eVFrl-",
        "outputId": "b9656bdb-7bdb-4a8f-8d0a-f2f388023de8",
        "colab": {
          "base_uri": "https://localhost:8080/"
        }
      },
      "outputs": [
        {
          "output_type": "execute_result",
          "data": {
            "text/plain": [
              "array([0.08, 0.  , 0.  , 0.08])"
            ]
          },
          "metadata": {},
          "execution_count": 48
        }
      ],
      "source": [
        "H_CS[:,term_index].round(2)"
      ]
    },
    {
      "cell_type": "code",
      "execution_count": 49,
      "metadata": {
        "id": "PF6OEmcYFrl-"
      },
      "outputs": [],
      "source": [
        "def get_descriptor(terms, H_CS, topic_index, top):\n",
        "    # reverse sort the values to sort the indices\n",
        "    top_indices = np.argsort(H_CS[topic_index,:])[::-1]\n",
        "    # now get the terms corresponding to the top-ranked indices\n",
        "    top_terms = []\n",
        "    for term_index in top_indices[0:top]:\n",
        "        top_terms.append(terms[term_index])\n",
        "    return top_terms"
      ]
    },
    {
      "cell_type": "code",
      "execution_count": 50,
      "metadata": {
        "id": "JzfAP-uQFrl-",
        "outputId": "0b58cb6f-2bde-45f6-efbe-7fb26d2a46c4",
        "colab": {
          "base_uri": "https://localhost:8080/"
        }
      },
      "outputs": [
        {
          "output_type": "stream",
          "name": "stdout",
          "text": [
            "Topic 01: easy, assignments, interesting, relatively, material, notes, labs, keep, little, overall\n",
            "Topic 02: programming, racket, good, experience, concepts, language, science, computer, introduction, useful\n",
            "Topic 03: fun, codes, writing, enjoyed, scheme, overall, languages, language, lot, hard\n",
            "Topic 04: time, assignments, help, online, hours, office, content, weekly, questions, tas\n"
          ]
        }
      ],
      "source": [
        "descriptors = []\n",
        "for topic_index in range(k):\n",
        "    descriptors.append(get_descriptor( terms, H_CS, topic_index, 10))\n",
        "    str_descriptor = \", \".join(descriptors[topic_index])\n",
        "    print(\"Topic %02d: %s\" % (topic_index+1, str_descriptor))"
      ]
    },
    {
      "cell_type": "markdown",
      "metadata": {
        "id": "36BAzGqqFrl-"
      },
      "source": [
        "Topic 01: Pretty easy (Difficulty)\n",
        "\n",
        "Topic 02: Programming\n",
        "\n",
        "Topic 03: Fun (Enjoyability)\n",
        "\n",
        "Topic 04: Time Management & Help"
      ]
    },
    {
      "cell_type": "code",
      "execution_count": 51,
      "metadata": {
        "id": "e25CyrVXFrl-"
      },
      "outputs": [],
      "source": [
        "def plot_top_term_weights(terms, H_CS, topic_index, top):\n",
        "    # get the top terms and their weights\n",
        "    top_indices = np.argsort(H_CS[topic_index,:])[::-1]\n",
        "    top_terms = []\n",
        "    top_weights = []\n",
        "    for term_index in top_indices[0:top]:\n",
        "        top_terms.append(terms[term_index])\n",
        "        top_weights.append(H_CS[topic_index,term_index])\n",
        "    # note we reverse the ordering for the plot\n",
        "    top_terms.reverse()\n",
        "    top_weights.reverse()\n",
        "    # create the plot\n",
        "    fig = plt.figure(figsize=(13,8))\n",
        "    # add the horizontal bar chart\n",
        "    ypos = np.arange(top)\n",
        "    ax = plt.barh(ypos, top_weights, align=\"center\", color=\"green\",tick_label=top_terms)\n",
        "    plt.xlabel(\"Term Weight\",fontsize=14)\n",
        "    plt.tight_layout()\n",
        "    plt.show()"
      ]
    },
    {
      "cell_type": "code",
      "execution_count": 52,
      "metadata": {
        "id": "d7rTboGmFrl-",
        "outputId": "54c1a5b7-c3dd-4dbf-d450-86e15297ba80",
        "colab": {
          "base_uri": "https://localhost:8080/",
          "height": 545
        }
      },
      "outputs": [
        {
          "output_type": "display_data",
          "data": {
            "text/plain": [
              "<Figure size 1300x800 with 1 Axes>"
            ],
            "image/png": "[encoded data removed]"
          },
          "metadata": {}
        }
      ],
      "source": [
        "plot_top_term_weights(terms, H_CS, 3, 15)"
      ]
    },
    {
      "cell_type": "code",
      "execution_count": 53,
      "metadata": {
        "id": "YIJpji3oFrl_",
        "outputId": "976ade22-165a-44bd-f078-0e64ea657c71",
        "colab": {
          "base_uri": "https://localhost:8080/"
        }
      },
      "outputs": [
        {
          "output_type": "stream",
          "name": "stdout",
          "text": [
            "01. The programming language (Scheme/Dr.Racket) wasn't a very good program to use but the concepts behind it are the same I guess ...\n",
            "02. Not a bird course, although if you have background in programming it would not be difficult at all. Racket is somewhat useless but I learned some concepts that will be useful for other programming languages\n",
            "03. If you feel like you have sufficient Computer Science experience, go to CS 135 because it does challenge you more. This is a good introductory course to learn programming. Also, Racket needs some getting used to.\n",
            "04. I took this course online due to the COVID-19 pandemic, so my review is based on a remote, online learning experience. Overall, as someone who is not a CS student and who doesn't have a lot of background experience and knowledge in programming, it's a great introductory course to the language of Racket and the overall concepts that will be useful in later computer science courses. The Racket language itself is not a very \"useful\" language that you may or may not use in later CS courses and even in a job, but the foundation it provides is very valuable and will definitely make you think more mathematically at programming problems. The difficulty of this course starts to increase after the midterm exam, and it does get pretty tough nearing the end. I recommend starting the assignments as early as possible and attend as many office hours if you have any questions. The course staff are very responsive and do offer a good amount of help depending on your questions. Overall, I can't say much about the in-person learning experience, but this course was suited well for online learning and I enjoyed it.\n",
            "05. It's pretty much an introduction to computer science concepts like recursion,BSTs and other abstract data types. It's VERY useful if you have no prior experience with programming.\n",
            "06. well racket, it is ok\n",
            "07. Took this in 2018 with no programming experience ever. Started out pretty slow, but I didn't really pay attention and was severely behind. Went to a lot of office hours, but nonetheless caught up and did decently well. After taking more cs courses, racket really is a weird language.\n",
            "08. A good start in cs though Racket seems useless in the future study...\n",
            "09. Reviewing as a science major, this course was definitely the one that set me up with programming. Even though it was Dr. Racket, concepts were easy to follow. Be sure to go ask a lot of questions if you do not understand.\n",
            "10. Good course for my first CS course.\n"
          ]
        }
      ],
      "source": [
        "topic_snippets = get_top_snippets(CS_pos_reviews, W_CS, 1, 10)\n",
        "for i, snippet in enumerate(topic_snippets):\n",
        "    print(\"%02d. %s\" % ((i+1), snippet ))"
      ]
    },
    {
      "cell_type": "markdown",
      "metadata": {
        "id": "ugc2_uC1Frl_"
      },
      "source": [
        "# For Negative CS 101 reviews"
      ]
    },
    {
      "cell_type": "code",
      "execution_count": 54,
      "metadata": {
        "id": "9-JVeQErFrl_",
        "outputId": "2203c644-5ee6-4940-90f6-dc1dec67c0a6",
        "colab": {
          "base_uri": "https://localhost:8080/"
        }
      },
      "outputs": [
        {
          "output_type": "execute_result",
          "data": {
            "text/plain": [
              "['One of my least favourite courses. Although things were nicely organized, Racket was such an annoying language to use. The one tangible benefit I felt after using Racket was feeling more comfortable with recursion.',\n",
              " 'It starts with a very low pace but after midterm, it gets really fast and I cannot understand the content while reaching the end of term. Racket is restricted by so many things so I feel I lose the freedom of coding. The assignments are extremely hard after midterm, I spent a whole day on them but I can just solve the easiest one. The only positive impression that I have is that the design recipe weighs half so I pass this course successfully.',\n",
              " \"math student who took this course since I had 0 prior programming experience. the course isn't horribly hard, but if you fall behind or don't understand one lesson, everything following will be super challenging. the course was mostly online completing modules, and my biggest criticism is that solutions for lessons are never posted after they are due which makes it super challenging to do the next week's module if you didn't understand/didnt know how to write a specific code for the week. the racket language used in this course is easy to follow but not very useful and isn't used anywhere. this makes it difficult to find help outside of cs115 profs/ta's/past cs115 students. the course is oddly paced, felt the super easy and simple first half of the course, and then gets unreasonably fast. didn't find any of the profs/ta's answers to questions posted on discussion boards useful at all. because the course was only offered online, I had to essentially had to teach the whole course to myself\",\n",
              " \"This course is taught in an archaic language that no one uses and no one understands. Instructors' explanations are irrelevant to actual questions and I got yelled during office hrs even though I stated that I need a little patience (I am disabled). Assignments and quizzes are unreasonably hard. I took to take this for bioinformatics option and decided to change my future career. Truly the worst in UW history. If you don't need this course, run.\",\n",
              " \"It's the worst course ever, online especially. They are least interested to teach. They just provided the content to read by ourselves. I wouldn't suggest anyone to take this course online.\"]"
            ]
          },
          "metadata": {},
          "execution_count": 54
        }
      ],
      "source": [
        "CS_sucks = waterloo[(waterloo['course_code'] == 'CS 115') & (waterloo['course_rating']=='disliked course')]\n",
        "CS_neg_reviews = CS_sucks['reviews']\n",
        "CS_neg_reviews = CS_neg_reviews.dropna()\n",
        "CS_neg_reviews = CS_neg_reviews.to_list()\n",
        "CS_neg_reviews[0:5]"
      ]
    },
    {
      "cell_type": "code",
      "execution_count": 55,
      "metadata": {
        "id": "frYyexBjFrl_",
        "outputId": "04811dbc-b206-42a4-eb24-48cbffac3ae0",
        "colab": {
          "base_uri": "https://localhost:8080/"
        }
      },
      "outputs": [
        {
          "output_type": "stream",
          "name": "stdout",
          "text": [
            "Created 18 X 55 document-term matrix\n",
            "Vocabulary has 55 distinct terms\n"
          ]
        },
        {
          "output_type": "execute_result",
          "data": {
            "text/plain": [
              "['One of my least favourite courses. Although things were nicely organized, Racket was such an annoyin',\n",
              " 'It starts with a very low pace but after midterm, it gets really fast and I cannot understand the co',\n",
              " \"math student who took this course since I had 0 prior programming experience. the course isn't horri\",\n",
              " \"This course is taught in an archaic language that no one uses and no one understands. Instructors' e\",\n",
              " \"It's the worst course ever, online especially. They are least interested to teach. They just provide\"]"
            ]
          },
          "metadata": {},
          "execution_count": 55
        }
      ],
      "source": [
        "# use a custom stopwords list, set the minimum term-document frequency to 2\n",
        "vectorizer = CountVectorizer(stop_words = custom_stop_words, min_df=2)\n",
        "A = vectorizer.fit_transform(CS_neg_reviews)\n",
        "print( \"Created %d X %d document-term matrix\" % (A.shape[0], A.shape[1]))\n",
        "\n",
        "terms =  list(vectorizer.get_feature_names_out())\n",
        "print(\"Vocabulary has %d distinct terms\" % len(terms))\n",
        "\n",
        "CS_neg_snippets = [CS_neg_reviews[:100] for CS_neg_reviews in CS_neg_reviews]\n",
        "CS_neg_snippets[0:5]"
      ]
    },
    {
      "cell_type": "code",
      "execution_count": 56,
      "metadata": {
        "id": "T3PyQmcOFrl_",
        "outputId": "4a6e0c6a-8e9c-49f5-90f4-69711c23a9f4",
        "colab": {
          "base_uri": "https://localhost:8080/"
        }
      },
      "outputs": [
        {
          "output_type": "execute_result",
          "data": {
            "text/plain": [
              "['CS-neg-reviews-raw.pkl']"
            ]
          },
          "metadata": {},
          "execution_count": 56
        }
      ],
      "source": [
        "joblib.dump((A,terms,CS_neg_snippets), \"CS-neg-reviews-raw.pkl\")"
      ]
    },
    {
      "cell_type": "code",
      "execution_count": 57,
      "metadata": {
        "id": "X1kXHn5jFrl_",
        "outputId": "d09bbd7b-4708-45da-8a75-fd9d350d46ee",
        "colab": {
          "base_uri": "https://localhost:8080/"
        }
      },
      "outputs": [
        {
          "output_type": "stream",
          "name": "stdout",
          "text": [
            "Created 18 X 55 TF-IDF-normalized document-term matrix\n",
            "Vocabulary has 55 distinct terms\n"
          ]
        }
      ],
      "source": [
        "# we can pass in the same preprocessing parameters\n",
        "vectorizer = TfidfVectorizer(stop_words=custom_stop_words, min_df = 2)\n",
        "A = vectorizer.fit_transform(CS_neg_reviews)\n",
        "print( \"Created %d X %d TF-IDF-normalized document-term matrix\" % (A.shape[0], A.shape[1]) )\n",
        "\n",
        "terms =  list(vectorizer.get_feature_names_out())\n",
        "print(\"Vocabulary has %d distinct terms\" % len(terms))"
      ]
    },
    {
      "cell_type": "code",
      "execution_count": 58,
      "metadata": {
        "id": "9ei4h4_0Frl_",
        "outputId": "e4dc7d1e-ea79-4d1b-c94b-44062333d315",
        "colab": {
          "base_uri": "https://localhost:8080/"
        }
      },
      "outputs": [
        {
          "output_type": "stream",
          "name": "stdout",
          "text": [
            "01. easy (2.19)\n",
            "02. racket (1.57)\n",
            "03. online (1.41)\n",
            "04. midterm (1.37)\n",
            "05. language (1.32)\n",
            "06. hate (1.25)\n",
            "07. difficult (1.18)\n",
            "08. coding (1.03)\n",
            "09. hard (0.95)\n",
            "10. design (0.94)\n",
            "11. took (0.93)\n",
            "12. assignment (0.90)\n",
            "13. lot (0.89)\n",
            "14. marks (0.89)\n",
            "15. assignments (0.89)\n",
            "16. way (0.82)\n",
            "17. courses (0.81)\n",
            "18. teach (0.79)\n",
            "19. learn (0.77)\n",
            "20. recursion (0.77)\n"
          ]
        }
      ],
      "source": [
        "ranking = rank_terms(A, terms)\n",
        "for i, pair in enumerate(ranking[0:20]):\n",
        "    print( \"%02d. %s (%.2f)\" % (i+1, pair[0], pair[1] ))"
      ]
    },
    {
      "cell_type": "code",
      "execution_count": 59,
      "metadata": {
        "id": "9QT5zXASFrl_",
        "outputId": "f47785d9-42ad-4e2b-e493-833ed716d58f",
        "colab": {
          "base_uri": "https://localhost:8080/"
        }
      },
      "outputs": [
        {
          "output_type": "execute_result",
          "data": {
            "text/plain": [
              "['CS-neg-reviews-tfidf.pkl']"
            ]
          },
          "metadata": {},
          "execution_count": 59
        }
      ],
      "source": [
        "joblib.dump((A,terms,CS_neg_snippets), \"CS-neg-reviews-tfidf.pkl\")"
      ]
    },
    {
      "cell_type": "code",
      "execution_count": 60,
      "metadata": {
        "id": "r9l5PtmyFrl_",
        "outputId": "d9d04d7b-8f17-41f0-c0bc-aba246e891bb",
        "colab": {
          "base_uri": "https://localhost:8080/"
        }
      },
      "outputs": [
        {
          "output_type": "stream",
          "name": "stdout",
          "text": [
            "Loaded 18 X 55 document-term matrix\n"
          ]
        }
      ],
      "source": [
        "(A, terms, CS_neg_snippets) = joblib.load(\"CS-neg-reviews-tfidf.pkl\")\n",
        "print(\"Loaded %d X %d document-term matrix\" % (A.shape[0], A.shape[1]))"
      ]
    },
    {
      "cell_type": "code",
      "execution_count": 61,
      "metadata": {
        "id": "bXpAvtPGFrl_",
        "outputId": "e7448e73-af97-459d-9948-c51513df6454",
        "colab": {
          "base_uri": "https://localhost:8080/"
        }
      },
      "outputs": [
        {
          "output_type": "execute_result",
          "data": {
            "text/plain": [
              "array([0.06, 0.  , 0.43, 0.17])"
            ]
          },
          "metadata": {},
          "execution_count": 61
        }
      ],
      "source": [
        "k=4\n",
        "# create the model, specifiying the initialization strategy and the number of topics to produce\n",
        "model = decomposition.NMF(init=\"nndsvd\", n_components=k)\n",
        "# apply the model and extract the two factor matrices\n",
        "W_CS = model.fit_transform( A )\n",
        "H_CS = model.components_\n",
        "\n",
        "# round to 2 decimal places for display purposes\n",
        "W_CS[0,:].round(2)"
      ]
    },
    {
      "cell_type": "code",
      "execution_count": 62,
      "metadata": {
        "id": "mbztPIR3Frl_"
      },
      "outputs": [],
      "source": [
        "def get_descriptor(terms, H_CS, topic_index, top):\n",
        "    # reverse sort the values to sort the indices\n",
        "    top_indices = np.argsort(H_CS[topic_index,:])[::-1]\n",
        "    # now get the terms corresponding to the top-ranked indices\n",
        "    top_terms = []\n",
        "    for term_index in top_indices[0:top]:\n",
        "        top_terms.append(terms[term_index])\n",
        "    return top_terms"
      ]
    },
    {
      "cell_type": "code",
      "execution_count": 63,
      "metadata": {
        "id": "nBJjDQBTFrl_",
        "outputId": "2334ddea-eaaa-4b66-9dc3-211c8f2a9130",
        "colab": {
          "base_uri": "https://localhost:8080/"
        }
      },
      "outputs": [
        {
          "output_type": "stream",
          "name": "stdout",
          "text": [
            "Topic 01: easy, coding, useful, math, friend, able, organized, code, lot, courses\n",
            "Topic 02: midterm, assignments, coding, hard, exam, something, way, day, solve, write\n",
            "Topic 03: hate, racket, marks, lose, recipe, design, recursion, things, felt, organized\n",
            "Topic 04: online, language, worst, experience, prior, programming, took, difficult, teach, assignment\n"
          ]
        }
      ],
      "source": [
        "descriptors = []\n",
        "for topic_index in range(k):\n",
        "    descriptors.append(get_descriptor( terms, H_CS, topic_index, 10))\n",
        "    str_descriptor = \", \".join(descriptors[topic_index])\n",
        "    print(\"Topic %02d: %s\" % (topic_index+1, str_descriptor))"
      ]
    },
    {
      "cell_type": "markdown",
      "metadata": {
        "id": "64f_BNYgFrmA"
      },
      "source": [
        "Topic 1: General difficulty level (some felt hard, some easy, but disliked)\n",
        "\n",
        "Topic 2: Midterm and assignments difficulty\n",
        "\n",
        "Topic 3: Hating racket (programming language)\n",
        "\n",
        "Topic 4: Poor online experience"
      ]
    },
    {
      "cell_type": "code",
      "execution_count": 64,
      "metadata": {
        "id": "ASA4ddrjFrmA",
        "outputId": "1a7f419c-6869-4981-a752-3f03dc528841",
        "colab": {
          "base_uri": "https://localhost:8080/",
          "height": 545
        }
      },
      "outputs": [
        {
          "output_type": "display_data",
          "data": {
            "text/plain": [
              "<Figure size 1300x800 with 1 Axes>"
            ],
            "image/png": "[encoded data removed]"
          },
          "metadata": {}
        }
      ],
      "source": [
        "plot_top_term_weights(terms, H_CS, 1, 15)"
      ]
    },
    {
      "cell_type": "code",
      "execution_count": 65,
      "metadata": {
        "id": "e7McvQljFrmA",
        "outputId": "bda163a1-9342-43ae-871b-fd99b8eccab3",
        "colab": {
          "base_uri": "https://localhost:8080/"
        }
      },
      "outputs": [
        {
          "output_type": "stream",
          "name": "stdout",
          "text": [
            "01. It's hard to motivate yourself to do the assignments when each is 2% or something, but it really is important to keep on top of it. They only get harder and arguably the only way to guarantee that you'll do well on the midterm (since you WILL be asked to write mini programs) I personally found the exam to be much harder than the midterm, so you really need to use the midterm as a grade booster.\n",
            "02. It starts with a very low pace but after midterm, it gets really fast and I cannot understand the content while reaching the end of term. Racket is restricted by so many things so I feel I lose the freedom of coding. The assignments are extremely hard after midterm, I spent a whole day on them but I can just solve the easiest one. The only positive impression that I have is that the design recipe weighs half so I pass this course successfully.\n",
            "03. Not an \"EASY\" course at all. Anyone commentating that is probably a Math/Eng student who is already familiar with coding through other courses. Since the midterm/exam is on paper, you have to be able to imagine what your code is going to be able to do without actually testing it like you do in your assignments! Speaking of assignment, they're bloody hard! No joke, it might take you an entire day to problem solve your way through them and that might not even be enough - incredibly frustrating course and not recommended unless you really want to study coding in the future. DR. Racket is not even applicable to most organizations. If you want to learn coding, just pick up something off Amazon or get a pdf through a friend - don't spend money here unless you're actually planning on continuing studies in CS.\n",
            "04. This course is taught in an archaic language that no one uses and no one understands. Instructors' explanations are irrelevant to actual questions and I got yelled during office hrs even though I stated that I need a little patience (I am disabled). Assignments and quizzes are unreasonably hard. I took to take this for bioinformatics option and decided to change my future career. Truly the worst in UW history. If you don't need this course, run.\n",
            "05. The education quality is significantly impaired with no doubt since we are doing it online. Reviews before COVID was mostly positive. But after COVID-19, a lot of them are negative. I think that reflects something. Assignment were thrown into your face like you just have one class for the whole term. For me, I believe the material we learn and the assignment we need to do is inconsistent in terms of difficulty level. The gap between them is just huge. It often took me eight to twelve hours to finish the assignment. Don't take this if you are doing online.\n",
            "06. Was a nice way to learn recursion, which is essentially the purpose of this course. They also give a lot of free marks with a 3% lab bonus - DO THEM! That 3% can make a big difference in your mark.\n",
            "07. I have never coded before so i opted to take this rather than CS135. This was really easy for me. I'm glad I took it though becuase it saved time so I can focus more on actual courses for my major (MATH145, PHYS121 etc). Don't expect to be able to code anything after this, especial since you use dr Raket. And the design recipes are a pain, my tip is put 20 test cases for everything.\n",
            "08. math student who took this course since I had 0 prior programming experience. the course isn't horribly hard, but if you fall behind or don't understand one lesson, everything following will be super challenging. the course was mostly online completing modules, and my biggest criticism is that solutions for lessons are never posted after they are due which makes it super challenging to do the next week's module if you didn't understand/didnt know how to write a specific code for the week. the racket language used in this course is easy to follow but not very useful and isn't used anywhere. this makes it difficult to find help outside of cs115 profs/ta's/past cs115 students. the course is oddly paced, felt the super easy and simple first half of the course, and then gets unreasonably fast. didn't find any of the profs/ta's answers to questions posted on discussion boards useful at all. because the course was only offered online, I had to essentially had to teach the whole course to myself\n",
            "09. It's the worst course ever, online especially. They are least interested to teach. They just provided the content to read by ourselves. I wouldn't suggest anyone to take this course online.\n",
            "10. so difficult for beginners\n"
          ]
        }
      ],
      "source": [
        "topic_snippets = get_top_snippets(CS_neg_reviews, W_CS, 1, 10)\n",
        "for i, snippet in enumerate(topic_snippets):\n",
        "    print(\"%02d. %s\" % ((i+1), snippet ))"
      ]
    },
    {
      "cell_type": "markdown",
      "metadata": {
        "id": "M3nGlqO0FrmA"
      },
      "source": [
        "## Cosine Similarity Between Topics"
      ]
    },
    {
      "cell_type": "code",
      "execution_count": 65,
      "metadata": {
        "id": "MgVbHZMuFrmA"
      },
      "outputs": [],
      "source": []
    },
    {
      "cell_type": "code",
      "execution_count": 66,
      "metadata": {
        "id": "IHB1TOjDFrmA",
        "outputId": "61489189-fe87-42ac-e78b-ec115eb3bead",
        "colab": {
          "base_uri": "https://localhost:8080/"
        }
      },
      "outputs": [
        {
          "output_type": "stream",
          "name": "stdout",
          "text": [
            "(98, 4) (18, 4)\n"
          ]
        }
      ],
      "source": [
        "print(W.shape, W_CS.shape)\n"
      ]
    },
    {
      "cell_type": "code",
      "execution_count": 67,
      "metadata": {
        "id": "7VbpH-QUFrmA",
        "outputId": "a197c8b6-778b-43da-995c-a3e15b8d0a5b",
        "colab": {
          "base_uri": "https://localhost:8080/"
        }
      },
      "outputs": [
        {
          "output_type": "stream",
          "name": "stdout",
          "text": [
            "(4, 151) (4, 55)\n"
          ]
        }
      ],
      "source": [
        "print(H.shape, H_CS.shape)\n"
      ]
    },
    {
      "cell_type": "code",
      "execution_count": 68,
      "metadata": {
        "id": "w-zbu_zwFrmA",
        "outputId": "2a4827de-02b6-4a20-ee2a-c610ed584ecf",
        "colab": {
          "base_uri": "https://localhost:8080/"
        }
      },
      "outputs": [
        {
          "output_type": "execute_result",
          "data": {
            "text/plain": [
              "{'before',\n",
              " 'content',\n",
              " 'courses',\n",
              " 'difficult',\n",
              " 'easy',\n",
              " 'exam',\n",
              " 'felt',\n",
              " 'hard',\n",
              " 'learn',\n",
              " 'lot',\n",
              " 'marks',\n",
              " 'midterm',\n",
              " 'online',\n",
              " 'prior',\n",
              " 'questions',\n",
              " 'student',\n",
              " 'took',\n",
              " 'understand',\n",
              " 'useful',\n",
              " 'way'}"
            ]
          },
          "metadata": {},
          "execution_count": 68
        }
      ],
      "source": [
        "terms_set = set(terms)  # Terms corresponding to H_W\n",
        "econ_terms_set = set(econ_terms)  # Terms corresponding to H_W_CS\n",
        "\n",
        "common_terms = terms_set.intersection(econ_terms_set)\n",
        "\n",
        "common_terms"
      ]
    },
    {
      "cell_type": "code",
      "execution_count": 68,
      "metadata": {
        "id": "4xzUA_lDFrmA"
      },
      "outputs": [],
      "source": []
    },
    {
      "cell_type": "code",
      "execution_count": 69,
      "metadata": {
        "id": "99AL3goMFrmA"
      },
      "outputs": [],
      "source": [
        "import numpy as np\n",
        "np.set_printoptions(threshold=np.inf)"
      ]
    },
    {
      "cell_type": "code",
      "execution_count": 70,
      "metadata": {
        "id": "U-dDf33nFrmA",
        "outputId": "032ad9e6-4cdb-49fb-b4fb-d2898d509a8f",
        "colab": {
          "base_uri": "https://localhost:8080/",
          "height": 339
        }
      },
      "outputs": [
        {
          "output_type": "error",
          "ename": "ValueError",
          "evalue": "Incompatible dimension for X and Y matrices: X.shape[1] == 151 while Y.shape[1] == 55",
          "traceback": [
            "\u001b[0;31m---------------------------------------------------------------------------\u001b[0m",
            "\u001b[0;31mValueError\u001b[0m                                Traceback (most recent call last)",
            "\u001b[0;32m<ipython-input-70-452745a37b25>\u001b[0m in \u001b[0;36m<cell line: 3>\u001b[0;34m()\u001b[0m\n\u001b[1;32m      1\u001b[0m \u001b[0;32mfrom\u001b[0m \u001b[0msklearn\u001b[0m\u001b[0;34m.\u001b[0m\u001b[0mmetrics\u001b[0m\u001b[0;34m.\u001b[0m\u001b[0mpairwise\u001b[0m \u001b[0;32mimport\u001b[0m \u001b[0mcosine_similarity\u001b[0m\u001b[0;34m\u001b[0m\u001b[0;34m\u001b[0m\u001b[0m\n\u001b[1;32m      2\u001b[0m \u001b[0;34m\u001b[0m\u001b[0m\n\u001b[0;32m----> 3\u001b[0;31m \u001b[0mnp\u001b[0m\u001b[0;34m.\u001b[0m\u001b[0mround\u001b[0m\u001b[0;34m(\u001b[0m\u001b[0mcosine_similarity\u001b[0m\u001b[0;34m(\u001b[0m\u001b[0mH\u001b[0m\u001b[0;34m,\u001b[0m\u001b[0mH_CS\u001b[0m\u001b[0;34m)\u001b[0m\u001b[0;34m,\u001b[0m\u001b[0;36m2\u001b[0m\u001b[0;34m)\u001b[0m\u001b[0;34m.\u001b[0m\u001b[0mshape\u001b[0m\u001b[0;34m\u001b[0m\u001b[0;34m\u001b[0m\u001b[0m\n\u001b[0m",
            "\u001b[0;32m/usr/local/lib/python3.10/dist-packages/sklearn/utils/_param_validation.py\u001b[0m in \u001b[0;36mwrapper\u001b[0;34m(*args, **kwargs)\u001b[0m\n\u001b[1;32m    211\u001b[0m                     )\n\u001b[1;32m    212\u001b[0m                 ):\n\u001b[0;32m--> 213\u001b[0;31m                     \u001b[0;32mreturn\u001b[0m \u001b[0mfunc\u001b[0m\u001b[0;34m(\u001b[0m\u001b[0;34m*\u001b[0m\u001b[0margs\u001b[0m\u001b[0;34m,\u001b[0m \u001b[0;34m**\u001b[0m\u001b[0mkwargs\u001b[0m\u001b[0;34m)\u001b[0m\u001b[0;34m\u001b[0m\u001b[0;34m\u001b[0m\u001b[0m\n\u001b[0m\u001b[1;32m    214\u001b[0m             \u001b[0;32mexcept\u001b[0m \u001b[0mInvalidParameterError\u001b[0m \u001b[0;32mas\u001b[0m \u001b[0me\u001b[0m\u001b[0;34m:\u001b[0m\u001b[0;34m\u001b[0m\u001b[0;34m\u001b[0m\u001b[0m\n\u001b[1;32m    215\u001b[0m                 \u001b[0;31m# When the function is just a wrapper around an estimator, we allow\u001b[0m\u001b[0;34m\u001b[0m\u001b[0;34m\u001b[0m\u001b[0m\n",
            "\u001b[0;32m/usr/local/lib/python3.10/dist-packages/sklearn/metrics/pairwise.py\u001b[0m in \u001b[0;36mcosine_similarity\u001b[0;34m(X, Y, dense_output)\u001b[0m\n\u001b[1;32m   1677\u001b[0m     \u001b[0;31m# to avoid recursive import\u001b[0m\u001b[0;34m\u001b[0m\u001b[0;34m\u001b[0m\u001b[0m\n\u001b[1;32m   1678\u001b[0m \u001b[0;34m\u001b[0m\u001b[0m\n\u001b[0;32m-> 1679\u001b[0;31m     \u001b[0mX\u001b[0m\u001b[0;34m,\u001b[0m \u001b[0mY\u001b[0m \u001b[0;34m=\u001b[0m \u001b[0mcheck_pairwise_arrays\u001b[0m\u001b[0;34m(\u001b[0m\u001b[0mX\u001b[0m\u001b[0;34m,\u001b[0m \u001b[0mY\u001b[0m\u001b[0;34m)\u001b[0m\u001b[0;34m\u001b[0m\u001b[0;34m\u001b[0m\u001b[0m\n\u001b[0m\u001b[1;32m   1680\u001b[0m \u001b[0;34m\u001b[0m\u001b[0m\n\u001b[1;32m   1681\u001b[0m     \u001b[0mX_normalized\u001b[0m \u001b[0;34m=\u001b[0m \u001b[0mnormalize\u001b[0m\u001b[0;34m(\u001b[0m\u001b[0mX\u001b[0m\u001b[0;34m,\u001b[0m \u001b[0mcopy\u001b[0m\u001b[0;34m=\u001b[0m\u001b[0;32mTrue\u001b[0m\u001b[0;34m)\u001b[0m\u001b[0;34m\u001b[0m\u001b[0;34m\u001b[0m\u001b[0m\n",
            "\u001b[0;32m/usr/local/lib/python3.10/dist-packages/sklearn/metrics/pairwise.py\u001b[0m in \u001b[0;36mcheck_pairwise_arrays\u001b[0;34m(X, Y, precomputed, dtype, accept_sparse, force_all_finite, ensure_2d, copy)\u001b[0m\n\u001b[1;32m    212\u001b[0m         \u001b[0;31m# Only check the number of features if 2d arrays are enforced. Otherwise,\u001b[0m\u001b[0;34m\u001b[0m\u001b[0;34m\u001b[0m\u001b[0m\n\u001b[1;32m    213\u001b[0m         \u001b[0;31m# validation is left to the user for custom metrics.\u001b[0m\u001b[0;34m\u001b[0m\u001b[0;34m\u001b[0m\u001b[0m\n\u001b[0;32m--> 214\u001b[0;31m         raise ValueError(\n\u001b[0m\u001b[1;32m    215\u001b[0m             \u001b[0;34m\"Incompatible dimension for X and Y matrices: \"\u001b[0m\u001b[0;34m\u001b[0m\u001b[0;34m\u001b[0m\u001b[0m\n\u001b[1;32m    216\u001b[0m             \u001b[0;34m\"X.shape[1] == %d while Y.shape[1] == %d\"\u001b[0m \u001b[0;34m%\u001b[0m \u001b[0;34m(\u001b[0m\u001b[0mX\u001b[0m\u001b[0;34m.\u001b[0m\u001b[0mshape\u001b[0m\u001b[0;34m[\u001b[0m\u001b[0;36m1\u001b[0m\u001b[0;34m]\u001b[0m\u001b[0;34m,\u001b[0m \u001b[0mY\u001b[0m\u001b[0;34m.\u001b[0m\u001b[0mshape\u001b[0m\u001b[0;34m[\u001b[0m\u001b[0;36m1\u001b[0m\u001b[0;34m]\u001b[0m\u001b[0;34m)\u001b[0m\u001b[0;34m\u001b[0m\u001b[0;34m\u001b[0m\u001b[0m\n",
            "\u001b[0;31mValueError\u001b[0m: Incompatible dimension for X and Y matrices: X.shape[1] == 151 while Y.shape[1] == 55"
          ]
        }
      ],
      "source": [
        "from sklearn.metrics.pairwise import cosine_similarity\n",
        "\n",
        "np.round(cosine_similarity(H,H_CS),2).shape\n"
      ]
    },
    {
      "cell_type": "code",
      "execution_count": null,
      "metadata": {
        "id": "VeCr7A5FFrmA"
      },
      "outputs": [],
      "source": [
        "import numpy as np\n",
        "from sklearn.preprocessing import normalize\n",
        "\n",
        "# Assume W1 and W2 are your NMF topic-term matrices (shape: 10 topics x vocabulary size)\n",
        "# Example W1 and W2 (replace with your actual data):\n",
        "# W1 = nmf_model_1.components_ (from course 1 NMF model)\n",
        "# W2 = nmf_model_2.components_ (from course 2 NMF model)\n",
        "\n",
        "# Normalize the topic vectors by their L2 norms\n",
        "H_normalized = normalize(H.T, axis=1)  # Normalizing each row vector (topic)\n",
        "H_CS_normalized = normalize(H_CS.T, axis=1)\n",
        "\n",
        "# Initialize the similarity matrix\n",
        "similarity_matrix = np.zeros((H_normalized.shape[0], H_CS_normalized.shape[0]))\n",
        "\n",
        "# Compute the cosine similarity between each pair of topics\n",
        "for i in range(H_normalized.shape[0]):\n",
        "    for j in range(H_CS_normalized.shape[0]):\n",
        "        similarity_matrix[i, j] = np.dot(H_normalized[i], H_CS_normalized[j])\n",
        "\n",
        "# Print or return the similarity matrix\n",
        "print(similarity_matrix)\n",
        "\n",
        "# Plotting the similarity matrix\n",
        "plt.figure(figsize=(8, 6))\n",
        "plt.imshow(similarity_matrix, cmap='viridis', interpolation='nearest')\n",
        "plt.colorbar(label='Cosine Similarity')\n",
        "plt.title('Topic Similarity Matrix (Course 1 vs Course 2)')\n",
        "plt.xlabel('Course 2 Topics')\n",
        "plt.ylabel('Course 1 Topics')\n",
        "plt.xticks(ticks=np.arange(10), labels=[f'Topic {i+1}' for i in range(10)])\n",
        "plt.yticks(ticks=np.arange(10), labels=[f'Topic {i+1}' for i in range(10)])\n",
        "plt.show()"
      ]
    },
    {
      "cell_type": "code",
      "execution_count": null,
      "metadata": {
        "id": "0L9yYsE8FrmA"
      },
      "outputs": [],
      "source": [
        "import numpy as np\n",
        "from sklearn.preprocessing import normalize\n",
        "\n",
        "# Transpose the matrices so that topics are rows and terms are columns\n",
        "W_normalized = normalize(W.T, axis=1)  # Now (10 topics, 98 terms)\n",
        "W_CS_normalized = normalize(W_CS.T, axis=1)  # Now (10 topics, 65 terms)\n",
        "\n",
        "# Compute the cosine similarity\n",
        "similarity_matrix = np.zeros((W_normalized.shape[0], W_CS_normalized.shape[0]))\n",
        "\n",
        "for i in range(W_normalized.shape[0]):\n",
        "    for j in range(W_CS_normalized.shape[0]):\n",
        "        similarity_matrix[i, j] = np.dot(W_normalized[i], W_CS_normalized[j])\n",
        "\n",
        "# Plotting the similarity matrix\n",
        "plt.figure(figsize=(8, 6))\n",
        "plt.imshow(similarity_matrix, cmap='viridis', interpolation='nearest', vmin=0, vmax=1)\n",
        "plt.colorbar(label='Cosine Similarity')\n",
        "plt.title('Topic Similarity Matrix (Course 1 vs Course 2)')\n",
        "plt.xlabel('Course 2 Topics')\n",
        "plt.ylabel('Course 1 Topics')\n",
        "plt.xticks(ticks=np.arange(10), labels=[f'Topic {i+1}' for i in range(10)])\n",
        "plt.yticks(ticks=np.arange(10), labels=[f'Topic {i+1}' for i in range(10)])\n",
        "plt.show()\n"
      ]
    }
  ],
  "metadata": {
    "kernelspec": {
      "display_name": "Python 3",
      "language": "python",
      "name": "python3"
    },
    "language_info": {
      "codemirror_mode": {
        "name": "ipython",
        "version": 3
      },
      "file_extension": ".py",
      "mimetype": "text/x-python",
      "name": "python",
      "nbconvert_exporter": "python",
      "pygments_lexer": "ipython3",
      "version": "3.9.6"
    },
    "orig_nbformat": 4,
    "colab": {
      "provenance": []
    }
  },
  "nbformat": 4,
  "nbformat_minor": 0
}