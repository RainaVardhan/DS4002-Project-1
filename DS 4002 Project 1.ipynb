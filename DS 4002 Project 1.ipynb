{
 "cells": [
  {
   "cell_type": "markdown",
   "metadata": {},
   "source": [
    "# Course Review Topic Modeling"
   ]
  },
  {
   "cell_type": "markdown",
   "metadata": {},
   "source": [
    "## General Topic Modeling"
   ]
  },
  {
   "cell_type": "code",
   "execution_count": 166,
   "metadata": {},
   "outputs": [],
   "source": [
    "import operator, joblib\n",
    "from sklearn.feature_extraction.text import CountVectorizer, TfidfVectorizer\n",
    "import pandas as pd\n",
    "import numpy as np\n",
    "from sklearn import decomposition\n",
    "%matplotlib inline\n",
    "import matplotlib\n",
    "import matplotlib.pyplot as plt\n",
    "# settings for our plots later\n",
    "plt.style.use(\"ggplot\")\n",
    "matplotlib.rcParams.update({\"font.size\": 14})"
   ]
  },
  {
   "cell_type": "markdown",
   "metadata": {},
   "source": [
    "### Load the Data and Custom Stop Words"
   ]
  },
  {
   "cell_type": "code",
   "execution_count": 167,
   "metadata": {},
   "outputs": [
    {
     "data": {
      "text/html": [
       "<div>\n",
       "<style scoped>\n",
       "    .dataframe tbody tr th:only-of-type {\n",
       "        vertical-align: middle;\n",
       "    }\n",
       "\n",
       "    .dataframe tbody tr th {\n",
       "        vertical-align: top;\n",
       "    }\n",
       "\n",
       "    .dataframe thead th {\n",
       "        text-align: right;\n",
       "    }\n",
       "</style>\n",
       "<table border=\"1\" class=\"dataframe\">\n",
       "  <thead>\n",
       "    <tr style=\"text-align: right;\">\n",
       "      <th></th>\n",
       "      <th>course_code</th>\n",
       "      <th>course_title</th>\n",
       "      <th>num_ratings</th>\n",
       "      <th>useful</th>\n",
       "      <th>easy</th>\n",
       "      <th>liked</th>\n",
       "      <th>num_reviews</th>\n",
       "      <th>reviews</th>\n",
       "      <th>course_rating</th>\n",
       "      <th>course_rating_int</th>\n",
       "    </tr>\n",
       "  </thead>\n",
       "  <tbody>\n",
       "    <tr>\n",
       "      <th>0</th>\n",
       "      <td>CS 115</td>\n",
       "      <td>Introduction to Computer Science 1</td>\n",
       "      <td>2111</td>\n",
       "      <td>21%</td>\n",
       "      <td>10%</td>\n",
       "      <td>23%</td>\n",
       "      <td>86</td>\n",
       "      <td>go to office hours and practice</td>\n",
       "      <td>liked course</td>\n",
       "      <td>1.0</td>\n",
       "    </tr>\n",
       "  </tbody>\n",
       "</table>\n",
       "</div>"
      ],
      "text/plain": [
       "  course_code                        course_title  num_ratings useful easy  \\\n",
       "0      CS 115  Introduction to Computer Science 1         2111    21%  10%   \n",
       "\n",
       "  liked  num_reviews                          reviews course_rating  \\\n",
       "0   23%           86  go to office hours and practice  liked course   \n",
       "\n",
       "   course_rating_int  \n",
       "0                1.0  "
      ]
     },
     "execution_count": 167,
     "metadata": {},
     "output_type": "execute_result"
    }
   ],
   "source": [
    "waterloo=pd.read_csv(\"course_data_clean.csv\")\n",
    "waterloo.head(1)"
   ]
  },
  {
   "cell_type": "code",
   "execution_count": 168,
   "metadata": {},
   "outputs": [
    {
     "name": "stdout",
     "output_type": "stream",
     "text": [
      "Stopword list has 364 entries\n"
     ]
    }
   ],
   "source": [
    "custom_stop_words = []\n",
    "with open( \"stopwords copy.txt\", \"r\" ) as fin:\n",
    "    for line in fin.readlines():\n",
    "        custom_stop_words.append(line.strip())\n",
    "# note that we need to make it hashable\n",
    "print(\"Stopword list has %d entries\" % len(custom_stop_words))"
   ]
  },
  {
   "cell_type": "markdown",
   "metadata": {},
   "source": [
    "# For Positive ECON 101 reviews\n"
   ]
  },
  {
   "cell_type": "code",
   "execution_count": 169,
   "metadata": {},
   "outputs": [],
   "source": [
    "ECON_rocks = waterloo[(waterloo['course_code'] == 'ECON 101') & (waterloo['course_rating']=='liked course')]"
   ]
  },
  {
   "cell_type": "code",
   "execution_count": 170,
   "metadata": {},
   "outputs": [
    {
     "data": {
      "text/plain": [
       "['Very simple',\n",
       " 'Took online, almost all multiple choice, a lot of questions are common sense',\n",
       " \"PROS: (1) Readings itself were simple to understand. (2) Nicely arranged content on Learn and Mobius (I took it online). (3) Decent grade, task, and submission period distribution. CONS: (1) Too many readings for a first-time learner of econ. (2) One collective zoom office hour (1 hour long) at the beginning of the week felt very unfair (3) Found a need for more OHs each week and a MS teams GC. (4) Felt isolated from the rest of the class. (5) lack of one-to-one instructional support (unless you email every question). (6) Had to refer to external resources for quicker understanding because readings were too time consuming. (7) Weren't taught at all on how to approach an article/case study. TIPS: (1) Finish all readings in the first two days of the week, (2) repeat quizzes till you get them correct (you get 4 chances per graded quiz every week, please use these well). (3) Don’t just read to study, answer a lot of MCQs.\"]"
      ]
     },
     "execution_count": 170,
     "metadata": {},
     "output_type": "execute_result"
    }
   ],
   "source": [
    "Econ_pos_reviews = ECON_rocks['reviews']\n",
    "Econ_pos_reviews = Econ_pos_reviews.dropna()\n",
    "Econ_pos_reviews = Econ_pos_reviews.to_list()\n",
    "Econ_pos_reviews[0:3]"
   ]
  },
  {
   "cell_type": "code",
   "execution_count": 171,
   "metadata": {},
   "outputs": [
    {
     "name": "stdout",
     "output_type": "stream",
     "text": [
      "Created 98 X 151 document-term matrix\n"
     ]
    }
   ],
   "source": [
    "# use a custom stopwords list, set the minimum term-document frequency to 2\n",
    "vectorizer = CountVectorizer(stop_words = custom_stop_words, min_df=2)\n",
    "A = vectorizer.fit_transform(Econ_pos_reviews)\n",
    "print( \"Created %d X %d document-term matrix\" % (A.shape[0], A.shape[1]))"
   ]
  },
  {
   "cell_type": "code",
   "execution_count": 172,
   "metadata": {},
   "outputs": [
    {
     "name": "stdout",
     "output_type": "stream",
     "text": [
      "Vocabulary has 151 distinct terms\n"
     ]
    }
   ],
   "source": [
    "econ_terms =  list(vectorizer.get_feature_names_out())\n",
    "print(\"Vocabulary has %d distinct terms\" % len(econ_terms))"
   ]
  },
  {
   "cell_type": "code",
   "execution_count": 173,
   "metadata": {},
   "outputs": [
    {
     "data": {
      "text/plain": [
       "['Very simple',\n",
       " 'Took online, almost all multiple choice, a lot of questions are common sense',\n",
       " 'PROS: (1) Readings itself were simple to understand. (2) Nicely arranged content on Learn and Mobius']"
      ]
     },
     "execution_count": 173,
     "metadata": {},
     "output_type": "execute_result"
    }
   ],
   "source": [
    "snippets = [Econ_pos_reviews[:100] for Econ_pos_reviews in Econ_pos_reviews]\n",
    "snippets[0:3]"
   ]
  },
  {
   "cell_type": "code",
   "execution_count": 174,
   "metadata": {},
   "outputs": [
    {
     "data": {
      "text/plain": [
       "['Econ-pos-reviews-raw.pkl']"
      ]
     },
     "execution_count": 174,
     "metadata": {},
     "output_type": "execute_result"
    }
   ],
   "source": [
    "joblib.dump((A,econ_terms,snippets), \"Econ-pos-reviews-raw.pkl\") "
   ]
  },
  {
   "cell_type": "code",
   "execution_count": 175,
   "metadata": {},
   "outputs": [
    {
     "name": "stdout",
     "output_type": "stream",
     "text": [
      "Created 98 X 151 TF-IDF-normalized document-term matrix\n"
     ]
    }
   ],
   "source": [
    "# we can pass in the same preprocessing parameters\n",
    "vectorizer = TfidfVectorizer(stop_words=custom_stop_words, min_df = 2)\n",
    "A = vectorizer.fit_transform(Econ_pos_reviews)\n",
    "print( \"Created %d X %d TF-IDF-normalized document-term matrix\" % (A.shape[0], A.shape[1]) )"
   ]
  },
  {
   "cell_type": "code",
   "execution_count": 176,
   "metadata": {},
   "outputs": [
    {
     "name": "stdout",
     "output_type": "stream",
     "text": [
      "Vocabulary has 151 distinct terms\n"
     ]
    }
   ],
   "source": [
    "econ_terms =  list(vectorizer.get_feature_names_out())\n",
    "print(\"Vocabulary has %d distinct terms\" % len(econ_terms))"
   ]
  },
  {
   "cell_type": "code",
   "execution_count": 177,
   "metadata": {},
   "outputs": [],
   "source": [
    "def rank_terms(A, term):\n",
    "    # get the sums over each column\n",
    "    sums = A.sum(axis=0)\n",
    "    # map weights to the terms\n",
    "    weights = {}\n",
    "    for col, term in enumerate(econ_terms):\n",
    "        weights[term] = sums[0,col]\n",
    "    # rank the terms by their weight over all documents\n",
    "    return sorted(weights.items(), key=operator.itemgetter(1), reverse=True)"
   ]
  },
  {
   "cell_type": "markdown",
   "metadata": {},
   "source": [
    "### Most common words"
   ]
  },
  {
   "cell_type": "code",
   "execution_count": 178,
   "metadata": {},
   "outputs": [
    {
     "name": "stdout",
     "output_type": "stream",
     "text": [
      "01. easy (13.60)\n",
      "02. textbook (5.62)\n",
      "03. concepts (3.80)\n",
      "04. study (3.77)\n",
      "05. good (3.75)\n",
      "06. questions (3.70)\n",
      "07. lectures (3.56)\n",
      "08. choice (3.49)\n",
      "09. multiple (3.49)\n",
      "10. read (3.48)\n",
      "11. economics (3.31)\n",
      "12. interesting (3.29)\n",
      "13. practice (3.01)\n",
      "14. guide (2.99)\n",
      "15. hard (2.90)\n",
      "16. useful (2.82)\n",
      "17. content (2.73)\n",
      "18. simple (2.72)\n",
      "19. boring (2.54)\n",
      "20. high (2.49)\n"
     ]
    }
   ],
   "source": [
    "ranking = rank_terms(A, econ_terms)\n",
    "for i, pair in enumerate(ranking[0:20]):\n",
    "    print( \"%02d. %s (%.2f)\" % (i+1, pair[0], pair[1] ))"
   ]
  },
  {
   "cell_type": "code",
   "execution_count": 179,
   "metadata": {},
   "outputs": [
    {
     "data": {
      "text/plain": [
       "['Econ-pos-reviews-tfidf.pkl']"
      ]
     },
     "execution_count": 179,
     "metadata": {},
     "output_type": "execute_result"
    }
   ],
   "source": [
    "joblib.dump((A,econ_terms,snippets), \"Econ-pos-reviews-tfidf.pkl\") "
   ]
  },
  {
   "cell_type": "code",
   "execution_count": 180,
   "metadata": {},
   "outputs": [
    {
     "name": "stdout",
     "output_type": "stream",
     "text": [
      "Loaded 98 X 151 document-term matrix\n"
     ]
    }
   ],
   "source": [
    "(A, econ_terms, snippets) = joblib.load(\"Econ-pos-reviews-tfidf.pkl\")\n",
    "print(\"Loaded %d X %d document-term matrix\" % (A.shape[0], A.shape[1]))"
   ]
  },
  {
   "cell_type": "code",
   "execution_count": 181,
   "metadata": {},
   "outputs": [],
   "source": [
    "k=4\n",
    "# create the model, specifiying the initialization strategy and the number of topics to produce\n",
    "model = decomposition.NMF(init=\"nndsvd\", n_components=k) \n",
    "# apply the model and extract the two factor matrices\n",
    "W = model.fit_transform( A )\n",
    "H = model.components_"
   ]
  },
  {
   "cell_type": "code",
   "execution_count": 182,
   "metadata": {},
   "outputs": [
    {
     "data": {
      "text/plain": [
       "array([0.  , 0.  , 0.  , 0.17])"
      ]
     },
     "execution_count": 182,
     "metadata": {},
     "output_type": "execute_result"
    }
   ],
   "source": [
    "# round to 2 decimal places for display purposes\n",
    "W[0,:].round(2)"
   ]
  },
  {
   "cell_type": "code",
   "execution_count": 183,
   "metadata": {},
   "outputs": [
    {
     "data": {
      "text/plain": [
       "array([0.  , 0.02, 0.03, 0.07])"
      ]
     },
     "execution_count": 183,
     "metadata": {},
     "output_type": "execute_result"
    }
   ],
   "source": [
    "term_index = econ_terms.index('exam')\n",
    "# round to 2 decimal places for display purposes\n",
    "H[:,term_index].round(2)"
   ]
  },
  {
   "cell_type": "code",
   "execution_count": 184,
   "metadata": {},
   "outputs": [],
   "source": [
    "def get_descriptor(econ_terms, H, topic_index, top):\n",
    "    # reverse sort the values to sort the indices\n",
    "    top_indices = np.argsort(H[topic_index,:])[::-1]\n",
    "    # now get the terms corresponding to the top-ranked indices\n",
    "    top_terms = []\n",
    "    for term_index in top_indices[0:top]:\n",
    "        top_terms.append(econ_terms[term_index])\n",
    "    return top_terms"
   ]
  },
  {
   "cell_type": "code",
   "execution_count": 185,
   "metadata": {},
   "outputs": [
    {
     "name": "stdout",
     "output_type": "stream",
     "text": [
      "Topic 01: easy, boring, light, work, fun, hard, grade\n",
      "Topic 02: textbook, questions, read, study, guide, material, lectures\n",
      "Topic 03: choice, multiple, online, took, exams, final, before\n",
      "Topic 04: economics, concepts, high, good, school, simple, useful\n"
     ]
    }
   ],
   "source": [
    "descriptors = []\n",
    "for topic_index in range(k):\n",
    "    descriptors.append(get_descriptor( econ_terms, H, topic_index, 7))\n",
    "    str_descriptor = \", \".join(descriptors[topic_index])\n",
    "    print(\"Topic %02d: %s\" % (topic_index+1, str_descriptor))"
   ]
  },
  {
   "cell_type": "markdown",
   "metadata": {},
   "source": [
    "Topic 01: Super Easy Class, but Boring\n",
    "\n",
    "Topic 02: Learning tools\n",
    "\n",
    "Topic 3: Exams\n",
    "\n",
    "Topic 4: Course content"
   ]
  },
  {
   "cell_type": "markdown",
   "metadata": {},
   "source": [
    "Note that the topic numbers are arbitrary. Topic 1 is not necessarily more prevalent than topic 2, but these should be like the top 4 topics"
   ]
  },
  {
   "cell_type": "code",
   "execution_count": 186,
   "metadata": {},
   "outputs": [],
   "source": [
    "def plot_top_term_weights(econ_terms, H, topic_index, top):\n",
    "    # get the top terms and their weights\n",
    "    top_indices = np.argsort(H[topic_index,:])[::-1]\n",
    "    top_terms = []\n",
    "    top_weights = []\n",
    "    for term_index in top_indices[0:top]:\n",
    "        top_terms.append(econ_terms[term_index])\n",
    "        top_weights.append(H[topic_index,term_index])\n",
    "    # note we reverse the ordering for the plot\n",
    "    top_terms.reverse()\n",
    "    top_weights.reverse()\n",
    "    # create the plot\n",
    "    fig = plt.figure(figsize=(13,8))\n",
    "    # add the horizontal bar chart\n",
    "    ypos = np.arange(top)\n",
    "    ax = plt.barh(ypos, top_weights, align=\"center\", color=\"green\",tick_label=top_terms)\n",
    "    plt.xlabel(\"Term Weight\",fontsize=14)\n",
    "    plt.tight_layout()\n",
    "    plt.show()"
   ]
  },
  {
   "cell_type": "code",
   "execution_count": 231,
   "metadata": {},
   "outputs": [
    {
     "data": {
      "image/png": "iVBORw0KGgoAAAANSUhEUgAABP0AAAMKCAYAAAD+kzFCAAAAOXRFWHRTb2Z0d2FyZQBNYXRwbG90bGliIHZlcnNpb24zLjkuMiwgaHR0cHM6Ly9tYXRwbG90bGliLm9yZy8hTgPZAAAACXBIWXMAAA9hAAAPYQGoP6dpAACNT0lEQVR4nOzde1RVdf7/8deGc1BAQBCQo6ZQXoFGBcnUJuympebkjZnKb1NOziWd+n1rmkuWl8xpbGqqmbGZmimnmaYcIpiUFC3zUpqWgmigiJo3BEERUEE7yPn94eJ8OwFewbPZPB9rzaq99+d89nsf3qthvfjsvQ2Xy+USAAAAAAAAAMvw8XYBAAAAAAAAAJoXoR8AAAAAAABgMYR+AAAAAAAAgMUQ+gEAAAAAAAAWQ+gHAAAAAAAAWAyhHwAAAAAAAGAxhH4AAAAAAACAxRD6AQAAAAAAABZD6AcAAAAAAABYDKEfAAAAAAAAYDE2bxeA5nPs2DHV1tZ6uwy0cRERESorK/N2GWjj6EOYBb0IM6APYRb0IsyAPoRZNNaLNptNoaGhzXYOQj8Lqa2tldPp9HYZaMMMw5B0thddLpeXq0FbRR/CLOhFmAF9CLOgF2EG9CHM4kr1Irf3AgAAAAAAABZD6AcAAAAAAABYDKEfAAAAAAAAYDGEfgAAAAAAAIDFEPoBAAAAAAAAFkPoBwAAAAAAAFgMoR8AAAAAAABgMYR+AAAAAAAAgMUQ+gEAAAAAAAAWQ+gHAAAAAAAAWAyhHwAAAAAAAGAxhH4AAAAAAACAxRD6AQAAAAAAABZD6AcAAAAAAABYDKEfAAAAAAAAYDGEfgAAAAAAAIDFEPoBAAAAAAAAFkPoBwAAAAAAAFgMoR8AAAAAAABgMYR+AAAAAAAAgMUQ+gEAAAAAAAAWQ+gHAAAAAAAAWAyhHwAAAAAAAGAxhH4AAAAAAACAxRD6AQAAAAAAABZD6AcAAAAAAABYDKEfAAAAAAAAYDGEfgAAAAAAAIDFEPoBAAAAAAAAFmPzdgFoPiPTRyqnJMfbZQAAAAAAALSYoqlF3i6hVWClHwAAAAAAAGAxhH4AAAAAAACAxRD6AQAAAAAAABZD6AcAAAAAAABYDKEfAAAAAAAAYDGEfgAAAAAAAIDFEPoBAAAAAAAAFkPoBwAAAAAAAFgMoR8AAAAAAABgMZYL/VJTU5WSkqK8vLwWmb+0tFQpKSlasGBBi8wPAAAAAAAAXC7LhX4AAAAAAABAW2fzdgGtTVhYmF588UUFBAR4uxQAAAAAAACgUYR+F8lms6lr167eLgMAAAAAAABoUqsL/fLz85WZmanCwkKdPHlSISEhuuaaazRmzBj17dvXY+ynn36q999/X4cOHVJgYKCGDBmie++9V35+fg3mXbVqlT788EMdOHBAknTVVVdpxIgRGj58uMe40tJSTZ8+XcnJyZo2bZrHsZqaGmVmZmrjxo0qKSmRr6+vOnfurISEBE2cOFE2m81jnvT0dOXm5qqyslIdOnRQ//79lZKSooiIiGb6tgAAAAAAANAWtarQb+nSpXrzzTfl5+enpKQkhYeHq7y8XAUFBdqwYYNH6JeVlaUtW7YoKSlJ8fHx2rJli5YtW6bjx4/r4Ycf9pj3jTfeUFZWlsLCwnTzzTdLkjZu3KhXXnlFX331lR544IHz1lZZWanZs2erqKhI0dHRGjFihOrq6nTo0CG9//77uvPOO92hX2FhoebNm6fTp08rISFBDodDpaWl+vTTT7VlyxY988wz6ty5czN+cwAAAAAAAGhLWk3ot3fvXr355pvq2LGj5s6dq8jISPcxl8ulY8eOeYzftm2b5s+fry5dukiS7r77bj3++ONat26dJk+erLCwMElnVw5mZWWpa9eumjdvnvtZfZMmTdKMGTO0bNkyXX/99erXr9856/v73/+uoqIijRs3TnfffbfHsYqKCrVv316SVFtbq5deekkul0u//e1vFRMT4x63Y8cOzZ49WwsXLtSvf/3rJs/ldDrldDrd24ZhyN/f/5z1AQAAAAAAWIFhGN4u4bLU19/S19FqQr+PPvpILpdLP/jBDzwCP+nsl1Qf4tUbNWqUO/CTJD8/Pw0bNkxpaWnas2ePe/yaNWsknQ35vvlyjg4dOmjSpEn64x//qNWrV58z9KuoqNDnn3+uzp07a9KkSQ2Od+zY0f3v2dnZKisrU0pKikfgJ0l9+/bVoEGD9MUXX6i6urrJl4VkZGQoLS3NvR0TE6P58+c3WR8AAAAAAIBVOBwOb5fQLKKiolp0/lYT+u3atUuS1L9//wsaf/XVVzfY16lTJ0lSdXW1e9/evXslSXFxcQ3G1++rH9OU3bt3y+VyKS4uzuO5fY3ZuXOnJOnQoUNKTU1tcLyyslIul0vFxcW65pprGp1j3LhxGjNmjHu7tSfcAAAAAAAAF6q4uNjbJVwWwzAUFRWlkpISuVwu936bzdas73loNaFfdXW1DMPwWDV3Lo3d7urr6ytJqqurazBvcHBwg/EhISEyDEM1NTXnrU1Sg9WGjTlx4oSksy8ZOZfTp083ecxut8tut5/3XAAAAAAAAFbzzaCsNXO5XC16La0m9AsMDJTL5VJFRcUFhWsXKiAgQC6XS1VVVQoJCfE4VlVVJZfLdd7n5QUGBkqSysvLL+h8kvSrX/1KiYmJl1g1AAAAAAAA0DQfbxdwoepvdc3NzW3WeaOjoyVJeXl5DY7V76sf05Srr75ahmEoLy9PtbW15xzbs2dPSf93my8AAAAAAADQ3FpN6DdixAj5+Pho0aJFKisr8zjmcrkuaJVdY5KTkyVJaWlpHs/6q66udr8so35MUzp27KjBgwfr8OHDHi/YqFdZWakzZ85IkpKSkhQeHq7MzEzl5+c3GFtbW6sdO3Zc0rUAAAAAAAAAUiu6vbd79+66//77tXDhQj366KNKSkpSRESEKioqtH37diUkJOj++++/6HljY2N1++23KysrS4899pgGDx4sSdq4caOOHj2qO+64Q7Gxseed58EHH9SBAweUnp6unJwc90tADh06pK1bt+pvf/ubAgMDZbfb9eijj+rZZ5/V7NmzFR8fr+7du0uSjhw5ou3btysoKEgvvfTSRV8LAAAAAAAAILWi0E+Sbr/9dl111VVasmSJtmzZolOnTikkJEQ9e/bUkCFDLnneKVOmKCYmRitWrNDKlSslSd26dVNKSopuuummC5ojODhY8+bN05IlS7RhwwYtX75cdrtdkZGRuuuuu9SuXTv32J49e+r3v/+9Fi9erJycHBUUFMhmsyksLExJSUm64YYbLvlaAAAAAAAAAMNllVeeQAmvJiinJMfbZQAAAAAAALSYoqlF3i7hshiGIYfDoeLiYo+399rtdkVERDTbeVrNM/0AAAAAAAAAXBhCPwAAAAAAAMBiCP0AAAAAAAAAiyH0AwAAAAAAACyG0A8AAAAAAACwGEI/AAAAAAAAwGII/QAAAAAAAACLIfQDAAAAAAAALIbQDwAAAAAAALAYm7cLQPNZPn65nE6nt8tAG2YYhhwOh4qLi+VyubxdDtoo+hBmQS/CDOhDmAW9CDOgD9HWsNIPAAAAAAAAsBhCPwAAAAAAAMBiCP0AAAAAAAAAiyH0AwAAAAAAACyG0A8AAAAAAACwGEI/AAAAAAAAwGII/QAAAAAAAACLsXm7ADSfkekjlVOS4+0yAAAAAAAAWkzR1CJvl9AqsNIPAAAAAAAAsBhCPwAAAAAAAMBiCP0AAAAAAAAAiyH0AwAAAAAAACyG0A8AAAAAAACwGEI/AAAAAAAAwGII/QAAAAAAAACLIfQDAAAAAAAALIbQDwAAAAAAALCYNhH6paSkaPbs2Rf1mWnTpmnatGleOTcAAAAAAABwOdpE6NeYBQsWKCUlRaWlpd4uBQAAAAAAAGhWNm8XYFZPPfWUt0sAAAAAAAAALgmhXxOioqK8XQIAAAAAAABwSa5Y6JeXl6c5c+Zo4sSJ6t+/vxYtWqTdu3fLbrdryJAhuu++++Tn56fs7Gy999572r9/v9q3b6/k5GTdfffd8vX1lSSlpqYqLS1Ns2bNUlxcnMc5Vq9erVdeeUUPPfSQhg8f3mQt06ZNU1lZmSRp+vTp7v2xsbHu5+/VP89vwYIF7uPfPPfhw4f1wQcfqKSkRB06dNCQIUP0/e9/X/7+/hf0fdTW1iorK0uffPKJDh06JMMwFB0drbFjx2rQoEEXNAcAAAAAAADQmCu+0m/Xrl16//331b9/f916663Ky8vTihUrVF1drUGDBmnBggVKSkpS7969lZ2drcWLF6t9+/aaOHFis9UwatQorV69Wvv27dOoUaMUEBAgSYqMjLygz2dmZurLL7/UkCFDlJCQoG3btmnp0qUqLCzUnDlzZLOd+2t1Op367W9/q7y8PEVHR+umm27SmTNnlJ2dreeee05TpkzR7bffftnXCQAAAAAAgLbpiod+W7Zs0eOPP66kpCRJZ1e8/eY3v9G6deuUm5urOXPmqGfPnpLOvvn24Ycf1tKlS3XXXXedN0y7UKNHj9bevXvdod+Fhn31cnNz9eyzz6pHjx6SJJfLpT/96U/69NNPtWzZMt15553n/HxaWpry8vI0YcIEpaSkyDAMSVJNTY2efvpp/fOf/9R1112nsLCwS7tAAAAAAAAAtGlX/O29cXFx7sBPkmw2mwYPHiyXy6XExER34CdJ/v7+SkhI0IkTJ1ReXn6lS23SjTfe6A78JMkwDN19993y8fHR6tWrz/nZuro6rVixQp07d/YI/KSz1zthwgTV1tbq888/b3IOp9Op6upq9/9qamou+5oAAAAAAABaA8MwWv3/GruO5nbFV/pFR0c32BcaGnreY+Xl5Re9Iq+l9OvXr8G+iIgIderUSQcPHlRtbW2TqxIPHTqkkydPKiwsTO+++26D41VVVZKkoqKiJs+fkZGhtLQ093ZMTIzmz59/sZcBAAAAAADQ6jgcDm+X0Cxa+iWyVzz0a+xFF/Uv6ah/tt43+ficXYx45syZli3sIoSEhDS6v2PHjiorK1NNTY2CgoIaHXPixAlJ0oEDB3TgwIEmz3H69Okmj40bN05jxoxxb7dEGgwAAAAAAGBGxcXF3i7hshiGoaioKJWUlMjlcrn322w2RURENNt5rnjod7nOFQJWV1dfkRoqKysb3V9RUSHDMM75Bt/6YHPw4MF67LHHLun8drtddrv9kj4LAAAAAADQmn0zKGvNXC5Xi17LFX+m3+UKDAyUpEaf8ffVV19d8Dz14WFdXd1F17B9+/YG+8rKynT06FF169btnC8c6dq1q/z9/bVnzx7V1tZe9LkBAAAAAACA82l1od8111wjSVq7dq1HYLdz5059+umnFzxPhw4dJElHjx696BrWrl2rffv2ubddLpfeeecd1dXVafjw4ef8rK+vr0aMGKGysjL961//ajT4279/f5OrCQEAAAAAAIDzaXW39/bu3Vt9+vTRl19+qSeffFL9+vVTWVmZNm3apMTExHO+9fab4uPjtWTJEr322msaPHiw2rVrp4iICN14443n/Wz//v315JNPaujQoQoODtaXX36p3bt3q1evXrrjjjvO+/mUlBR99dVXWrZsmbKzs9WvXz+FhISovLxc+/fv1759+/TMM880+exAAAAAAAAA4FxaXegnSb/85S/15ptvKjs7W/v371ePHj30q1/9SseOHbvg0G/gwIGaPHmyVq5cqSVLlujMmTOKjY29oNBvzJgxGjRokJYuXaqSkhJ16NBBo0aN0ve///1z3tpbz26364knntDHH3+sNWvWaOPGjaqtrVVISIi6deum2267Td27d7+g6wAAAAAAAAC+zXBZ5emHV0BqaqrS0tI0a9YsxcXFebucBhJeTVBOSY63ywAAAAAAAGgxRVOLvF3CZTEMQw6HQ8XFxR4v8rDb7c369t5W90w/AAAAAAAAAOdG6AcAAAAAAABYDKEfAAAAAAAAYDGt8kUe3pKSkqKUlBRvlwEAAAAAAACcEyv9AAAAAAAAAIsh9AMAAAAAAAAshtAPAAAAAAAAsBhCPwAAAAAAAMBiCP0AAAAAAAAAi+HtvRayfPxyOZ1Ob5eBNswwDDkcDhUXF8vlcnm7HLRR9CHMgl6EGdCHMAt6EWZAH6KtYaUfAAAAAAAAYDGEfgAAAAAAAIDFEPoBAAAAAAAAFkPoBwAAAAAAAFgMoR8AAAAAAABgMYR+AAAAAAAAgMUQ+gEAAAAAAAAWQ+gHAAAAAAAAWIzN2wWg+YxMH6mckhxvlwEAsLCiqUXeLgEAAADABWClHwAAAAAAAGAxhH4AAAAAAACAxRD6AQAAAAAAABZD6AcAAAAAAABYDKEfAAAAAAAAYDGEfgAAAAAAAIDFEPoBAAAAAAAAFkPoBwAAAAAAAFgMoV8Tpk2bpmnTpnnsW716tVJSUrR69WrvFAUAAAAAAABcAEI/AAAAAAAAwGJs3i6gNbnuuuvUq1cvhYaGersUAAAAAAAAoEmEfhchICBAAQEB3i4DAAAAAAAAOKdWH/qtWrVKH374oQ4cOCBJuuqqqzRixAgNHz7cPSYvL09z5szRxIkTlZiYqLfffluFhYUyDEPx8fH64Q9/qMjIyPOea/Xq1XrllVf00EMPecyfkpKi2NhY/b//9//01ltvKScnR6dOnVJ0dLTuuecexcXFNZirpqZGS5Ys0YYNG3T48GHZ7Xb16tVLEyZMUN++fS/7ewEAAAAAAEDb1aqf6ffGG2/oL3/5i8rLy3XzzTfr5ptvVnl5uV555RUtXLiwwfjdu3dr1qxZstlsuvXWW3XNNdfoiy++0Ny5c/X1119fVi0nT57UzJkzdfDgQX33u9/V4MGDtXv3bs2bN0/79+/3GHvixAk9+eSTSktLU2BgoG677TYNHjxYe/bs0Zw5c/T5559fVi0AAAAAAABo21rtSr/8/HxlZWWpa9eumjdvnvu220mTJmnGjBlatmyZrr/+evXr18/9mZycHP2///f/NHToUPe+P//5z1q7dq2++OILDRs27JLr2bdvn0aMGKEpU6bIx+dslhofH6+//vWvysrK0o9//GP32DfeeEMHDhzQT37yE91yyy3u/ZWVlfr1r3+t1157TQMGDJCfn98l1wMAAAAAAIC2q9WGfmvWrJF0NuT75nP2OnTooEmTJumPf/yjVq9e7RH69evXzyPwk6SbbrpJa9eu1e7duy8r9GvXrp0mT57sDvwkKTk5WX/729+0e/du976qqiqtX79e8fHxHoGfJIWEhGjs2LFauHChtm3bpsTExEbP5XQ65XQ63duGYcjf3/+SawcA4EIZhuHtElqN+u+K7wzeRB/CLOhFmAF9CLO4Ur3YakO/vXv3SlKjz8ur31c/pt7VV1/dYGynTp0knb0993J06dJF7du399jn6+urkJAQVVdXu/ft3r1bdXV1cjqdSk1NbTBPSUmJJKmoqKjJ0C8jI0NpaWnu7ZiYGM2fP/+y6gcA4EI4HA5vl9DqREVFebsEgD6EadCLMAP6EGbR0r3YakO/6upqGYah4ODgBsdCQkJkGIZqamo89je2Gq5+ZV5dXd1l1dPUSjtfX1+PuU+cOCFJKigoUEFBQZPznT59uslj48aN05gxY9zb/JUCAHClFBcXe7uEVsMwDEVFRamkpEQul8vb5aCNog9hFvQizIA+hFk01Ys2m00RERHNdp5WG/oFBATI5XKpqqpKISEhHseqqqrkcrlMectrfU1jxozRfffdd0lz2O122e325iwLAIALwi/IF8/lcvG9wevoQ5gFvQgzoA9hFi3di6327b3R0dGSpLy8vAbH6vfVjzGTnj17yjAMFRYWersUAAAAAAAAWFSrDf2Sk5MlSWlpaR7PzKuurnY/765+jJl07NhRQ4YMUUFBgRYvXtxooltYWHjO23sBAAAAAACAc2m1t/fGxsbq9ttvV1ZWlh577DENHjxYkrRx40YdPXpUd9xxh2JjY71cZeMefPBBHTp0SG+99ZbWrl2r3r17KyAgQEePHtWePXtUXFys1157Te3atfN2qQAAAAAAAGiFWm3oJ0lTpkxRTEyMVqxYoZUrV0qSunXrppSUFN10001erq5pHTp00DPPPKOsrCytX79en3zyiVwulzp27KgePXpowoQJCgoK8naZAAAAAAAAaKUMF0+vtIyEVxOUU5Lj7TIAABZWNLXI2yW0GoZhyOFwqLi4mIeFw2voQ5gFvQgzoA9hFk31ot1ub9a397baZ/oBAAAAAAAAaByhHwAAAAAAAGAxhH4AAAAAAACAxRD6AQAAAAAAABZD6AcAAAAAAABYDKEfAAAAAAAAYDGEfgAAAAAAAIDFEPoBAAAAAAAAFkPoBwAAAAAAAFiMzdsFoPksH79cTqfT22WgDTMMQw6HQ8XFxXK5XN4uB20UfQgAAAAArPQDAAAAAAAALIfQDwAAAAAAALAYQj8AAAAAAADAYgj9AAAAAAAAAIsh9AMAAAAAAAAshtAPAAAAAAAAsBhCPwAAAAAAAMBiCP0AAAAAAAAAi7F5uwA0n5HpI5VTkuPtMgAATSiaWuTtEgAAAAC0Eaz0AwAAAAAAACyG0A8AAAAAAACwGEI/AAAAAAAAwGII/QAAAAAAAACLIfQDAAAAAAAALIbQDwAAAAAAALAYQj8AAAAAAADAYgj9AAAAAAAAAIsh9AMAAAAAAAAshtDPSxYsWKCUlBSVlpZ6uxQAAAAAAABYTJsO/fLy8pSSkqLU1FRvlwIAAAAAAAA0mzYd+gEAAAAAAABWROgHAAAAAAAAWIzN2wV4S2pqqtLS0iRJaWlp7n+XpD//+c+KjIxUVVWV0tPT9cUXX+jYsWMKCAhQbGysJk6cqO7duzeY82LHNyYvL0+///3v5e/vryeffFJdu3ZtngsGAAAAAABAm9FmQ7+4uDiVlZVpzZo1io2NVWxsrPtYYGCgqqqqNGPGDB0+fFhxcXEaNmyYSktLtWHDBuXk5GjGjBnq27ev+zMXO74xGzZs0J/+9Cd17txZM2bMUKdOnVrs+gEAAAAAAGBdbTr0k+QO/VJSUjyOv/LKKzp8+LDuuusu3XPPPe792dnZ+t3vfqdXXnlFL730knx8zt4h/dZbb13U+G9bsWKFXn/9dfXu3Vu/+tWv1KFDhyZrdzqdcjqd7m3DMOTv73/xXwIA4IoyDMPbJeAKqv9583OHN9GHMAt6EWZAH8IsrlQvttnQ71xqa2u1bt06BQUFacKECR7HEhIS9J3vfEdbt25VQUGB+vXrd9Hjv+3dd9/Vu+++q4SEBD366KPy8/M7Z30ZGRketyPHxMRo/vz5l3HFAIArweFweLsEeEFUVJS3SwDoQ5gGvQgzoA9hFi3di4R+jSgqKpLT6VR8fLzatWvX4HhcXJy2bt2qvXv3ql+/fhc9/pv+8Y9/aNOmTRo+fLh+8pOfyNfX97z1jRs3TmPGjHFv81cKAGgdiouLvV0CriDDMBQVFaWSkhK5XC5vl4M2ij6EWdCLMAP6EGbRVC/abDZFREQ023kI/RpRU1MjSQoJCWn0eGhoqMe4ix3/Tdu3b5ckJSYmXlDgJ0l2u112u/2CxgIAzINfLtsml8vFzx5eRx/CLOhFmAF9CLNo6V5s/AFzbVz98/EqKysbPV5RUeEx7mLHf9Pjjz+uyMhIvfTSS9q4cePllA0AAAAAAABIauOhX/1LNerq6jz2d+3aVXa7Xbt27dLp06cbfC4vL0+SFB0dfUnjvyk8PFyzZ89WeHi4XnrpJW3YsOFyLgkAAAAAAABo26Ff/Rtyjx496rHfZrNp2LBhOn78uDIyMjyObdmyRbm5uYqKilKfPn0uafy3hYeHa9asWQoPD9fLL79M8AcAAAAAAIDL0qaf6de1a1eFhoZq/fr1stvtCgsLk2EYuuOOOzR58mRt375d6enp2rlzp3r27KmysjJt2LBB7dq100MPPeReKSjposd/W/2Kvzlz5ujll1+Wy+XSkCFDrsTXAAAAAAAAAItp06Gfj4+PfvGLX+jf//631q1b537Rxne/+11FRkZq3rx5eu+997Rp0yZt375dAQEBSkpK0sSJE9W9e3ePuYKDgy9qfGM6derkDv7++Mc/yuVyaejQoS1y7QAAAAAAALAuw8Uraywj4dUE5ZTkeLsMAEATiqYWebsEXEGGYcjhcKi4uJg3BMJr6EOYBb0IM6APYRZN9aLdbldERESznadNP9MPAAAAAAAAsCJCPwAAAAAAAMBiCP0AAAAAAAAAiyH0AwAAAAAAACyG0A8AAAAAAACwGEI/AAAAAAAAwGII/QAAAAAAAACLIfQDAAAAAAAALIbQDwAAAAAAALAYm7cLQPNZPn65nE6nt8tAG2YYhhwOh4qLi+VyubxdDtoo+hAAAAAAWOkHAAAAAAAAWA6hHwAAAAAAAGAxhH4AAAAAAACAxRD6AQAAAAAAABZD6AcAAAAAAABYDKEfAAAAAAAAYDGEfgAAAAAAAIDF2LxdAJrPyPSRyinJ8XYZANCiiqYWebsEAAAAADA9VvoBAAAAAAAAFkPoBwAAAAAAAFgMoR8AAAAAAABgMYR+AAAAAAAAgMUQ+gEAAAAAAAAWQ+gHAAAAAAAAWAyhHwAAAAAAAGAxhH4AAAAAAACAxRD6AQAAAAAAABZD6AcAAAAAAABYDKEfAAAAAAAAYDGEfgAAAAAAAIDFEPoBAAAAAAAAFmPzdgEXIz8/X4sXL1ZhYaFqamoUHh6uoUOHaty4cWrXrp1KSkr0y1/+UgEBAfr973+voKAg92ebOvbxxx9r06ZN2rdvnyoqKuTn56eePXvqe9/7nuLj4z3On5eXpzlz5mjixInq37+/Fi1apN27d8tut2vIkCG677775Ofnp+zsbL333nvav3+/2rdvr+TkZN19993y9fV1z1VXV6dVq1bpo48+UklJib7++msFBQUpOjpad955p+Li4q7MlwoAAAAAAADLaTUr/VasWKE5c+aooKBAAwcO1B133KFOnTopPT1dzzzzjGpraxUVFaUpU6aovLxcf/3rX92fra2t1csvv6zTp09r+vTpHmHg66+/rsrKSl177bUaPXq0EhMTtXPnTs2dO1dffPFFo7Xs2rVLTz/9tPz9/XXrrbcqPDxcK1as0F//+letX79eL7zwgiIiInTrrbcqICBAixcvVkZGhsccb7/9tl599VWdOHFCN9xwg0aPHq34+HgdPHhQ27Zta5kvEQAAAAAAAG1Cq1jpd/DgQS1cuFDdu3fXzJkzPUK7//73v3r77be1bNky3XnnnRo+fLi2bNmi9evXa8WKFRoxYoR7Rd5dd93VYPXeiy++qMjISI99x44d069//Wu99dZbSkpKalDPli1b9Pjjj7uP1dbW6je/+Y3WrVun3NxczZkzRz179pQkpaSk6OGHH9bSpUt11113yWY7+5V//PHHCg0N1fPPP6927dp5zH/ixIlzfh9Op1NOp9O9bRiG/P39z/c1AoAlGIZxQcfPNw5oafQizIA+hFnQizAD+hBmcaV6sVWEfh9++KHOnDmjKVOmeAR+kjR27FhlZmZq3bp1uvPOOyVJP/7xj1VYWKh//vOfOnPmjJYsWaKePXvq+9//foO5vx34SVJoaKgGDx6srKwslZWVKSIiwuN4XFycRxhos9k0ePBg7du3T4mJie7AT5L8/f2VkJCgVatWqby83ON8NptNPj4NF1t26NDhnN9HRkaG0tLS3NsxMTGaP3/+OT8DAFbhcDguaFxUVFQLVwJcGHoRZkAfwizoRZgBfQizaOlebBWhX2FhoSQpNze30VtffX19VVRU5N4OCAjQww8/rFmzZmnhwoXy9/fXww8/7PFMvXqHDx9WRkaG8vLyVF5e7rGCTjq76u/boV90dHSDeUJDQ8977Juh39ChQ7VixQo99thjGjp0qOLj49W7d2/5+fmd45s4a9y4cRozZox7m79SAGhLiouLz3ncMAxFRUWppKRELpfrClUFNEQvwgzoQ5gFvQgzoA9hFk31os1ma5BBXY5WEfrV3+6anp5+wZ+JiYlRRESEDh8+rAEDBjSanpaUlOg3v/mNampqFBcXp8TERPn7+8swDOXn5ys/P79BCCip0Vtp6wPFgICABsfqV/OdOXPGve+BBx5QZGSkVq9erfT0dKWnp3u8ECQ4OLjJa7Pb7bLb7ef/EgDAgi70FzSXy8UvczAFehFmQB/CLOhFmAF9CLNo6V5sFaFffcj25ptvXvCz69566y0dPnxYQUFB+uyzz5ScnKyEhASPMZmZmTp58qSmT5+uG2+80ePYa6+9pvz8/Oa5gEb4+vpq7NixGjt2rMrLy5Wfn6/Vq1dr7dq1qqys1IwZM1rs3AAAAAAAALC2VvH23l69ekn6v9t8zyc7O1tZWVmKjY3Vs88+q8DAQP3lL39RRUWFx7jDhw9LUoOXdbhcLhUUFFx+4RcoLCxMN9xwg5544glFRUVp69at+vrrr6/Y+QEAAAAAAGAtrSL0GzFihHx9ffXGG2/oyJEjDY6fPHlSX331lSSpoqJCr7zyigIDA/Xzn/9ckZGR+slPfqLKykotWLDAY9lk/X3SO3bs8Jjvv//9rw4cONBi1+N0OhsNFU+fPq1Tp07JZrPxnD4AAAAAAABcslZxe2/37t31ox/9SH//+9/1yCOPaODAgYqKilJNTY1KS0uVn5+v5ORkTZ06VX/+859VVVWlRx99VJ06dZIkXX/99br55pv18ccfKzMz0/2W39tuu02rVq3SCy+8oCFDhigoKEiFhYXas2ePEhISlJ2d3SLX8/XXX+upp56Sw+HQ1VdfrfDwcJ06dUrZ2dmqqKjQnXfeyTP7AAAAAAAAcMlaRegnSbfeequio6OVmZmp7du3a/PmzQoICFB4eLhGjx6t5ORkLVmyRFu3btXNN9+s66+/3uPz999/v7Zv36533nlH8fHxiomJUUxMjJ588kktWrRIn3/+uXx8fNS7d2/NnTtXmzZtarHQr127drr33nv15ZdfaseOHaqsrFRgYKC6dOmiu+++W8OGDWuR8wIAAAAAAKBtMFy8ssYyEl5NUE5JjrfLAIAWVTS16JzHDcOQw+FQcXExb2WDV9GLMAP6EGZBL8IM6EOYRVO9aLfb3Y+iaw6t4pl+AAAAAAAAAC4coR8AAAAAAABgMYR+AAAAAAAAgMUQ+gEAAAAAAAAWQ+gHAAAAAAAAWAyhHwAAAAAAAGAxhH4AAAAAAACAxRD6AQAAAAAAABZD6AcAAAAAAABYjM3bBaD5LB+/XE6n09tloA0zDEMOh0PFxcVyuVzeLgcAAAAAgDaLlX4AAAAAAACAxRD6AQAAAAAAABZD6AcAAAAAAABYDKEfAAAAAAAAYDGEfgAAAAAAAIDFEPoBAAAAAAAAFkPoBwAAAAAAAFiMzdsFoPmMTB+pnJIcb5cBABekaGqRt0sAAAAAAMtipR8AAAAAAABgMYR+AAAAAAAAgMUQ+gEAAAAAAAAWQ+gHAAAAAAAAWAyhHwAAAAAAAGAxhH4AAAAAAACAxRD6AQAAAAAAABZD6AcAAAAAAABYDKEfAAAAAAAAYDGEfpJqa2uVmpqqhx9+WPfcc49SUlL0wQcfKCUlRQsWLLiitaSmpiolJUV5eXlX9LwAAAAAAACwDkI/SZmZmUpLS1NoaKjuvPNOTZw4UQMGDPB2WQAAAAAAAMAlsXm7ADPYvHmz2rdvr6eeeko229mvpLa2Vi+++KICAgK8XB0AAAAAAABwcQj9JB07dkxBQUHuwE+SbDabunbt6sWqAAAAAAAAgEvTpkO/1NRUpaWlubdTUlIkSREREZo1a5amT5+u5ORkTZs2zT1m9uzZys/P19tvv6309HStWbNGx44dU0REhEaNGqWRI0d6nKO8vFwfffSRcnNzdfjwYVVXVys0NFQDBw7UpEmTFBIScmUuFgAAAAAAAG1Gmw794uLiJElLly6VJI0aNUqSFBgYeN7Pvvzyy9q1a5cGDhwoHx8fffbZZ3r99dfl6+urW2+91T1u+/btWrJkia699lr17NlTvr6+2rt3r1asWKHc3FzNnz+fW4gBAAAAAADQrNp86BcXF6c1a9ZI+r+VfpJUWlp6zs+Wl5frhRdecAd2o0aN0mOPPabMzEyP0C8+Pl5/+9vf1L59e4/Pr1mzRgsWLFBWVpbGjx/fXJcEAAAAAAAAtO3Q73LcfffdHiv0unTpoj59+ig/P181NTXy9/eXpCZv373xxhv1xhtvaNu2bRcd+jmdTjmdTve2YRju8wFAa2EYRovO21LzAxeKXoQZ0IcwC3oRZkAfwiyuVC8S+l2iq6++usG+sLAwSdLJkyc9QriNGzfqo48+0p49e3Ty5EnV1dW5j5WXl1/0uTMyMjyeRRgTE6P58+df9DwA4E0Oh6NF54+KimrR+YELRS/CDOhDmAW9CDOgD2EWLd2LhH6XqLHn8Pn6+kqSR6i3ZMkS/etf/1JwcLD69++vsLAw+fn5STr7LMHa2tqLPve4ceM0ZswY9zZ/pQDQGhUXF7fIvIZhKCoqSiUlJXK5XC1yDuBC0IswA/oQZkEvwgzoQ5hFU71os9kUERHRbOch9GtBZ86c0XvvvafQ0FA999xzHrf6ulwuLV68+JLmtdvtstvtzVUmAHhFS/+i5XK5+GUOpkAvwgzoQ5gFvQgzoA9hFi3diz4tNjN0/PhxVVdXq1evXg2e7bd79259/fXXXqoMAAAAAAAAVkbo14KCg4Pl5+enr776SqdPn3bvP3HihBYuXOjFygAAAAAAAGBl3N7bgnx8fDRixAhlZmbq8ccfV2JiompqapSTk6OIiAiFhoZ6u0QAAAAAAABYECv9Wtg999yjH/zgBzIMQytWrNDWrVs1bNgwPfnkk7LZyFwBAAAAAADQ/AwXT6+0jIRXE5RTkuPtMgDgghRNLWqReQ3DkMPhUHFxMQ9ohlfRizAD+hBmQS/CDOhDmEVTvWi325v17b2s9AMAAAAAAAAshtAPAAAAAAAAsBhCPwAAAAAAAMBiCP0AAAAAAAAAiyH0AwAAAAAAACyG0A8AAAAAAACwGEI/AAAAAAAAwGII/QAAAAAAAACLIfQDAAAAAAAALMbm7QLQfJaPXy6n0+ntMtCGGYYhh8Oh4uJiuVwub5cDAAAAAECbxUo/AAAAAAAAwGII/QAAAAAAAACLIfQDAAAAAAAALIbQDwAAAAAAALAYQj8AAAAAAADAYgj9AAAAAAAAAIsh9AMAAAAAAAAshtAPAAAAAAAAsBibtwtA8xmZPlI5JTneLgMAGlU0tcjbJQAAAABAm8FKPwAAAAAAAMBiCP0AAAAAAAAAiyH0AwAAAAAAACyG0A8AAAAAAACwGEI/AAAAAAAAwGII/QAAAAAAAACLIfQDAAAAAAAALIbQDwAAAAAAALAYQj8AAAAAAADAYmzeLuBi5OXlac6cOZo4caJSUlJa5By5ublKS0vTwYMHdfLkSQ0aNEi//OUvW+RcAAAAAAAAQEtoVaFfSystLdVzzz2nwMBADR8+XP7+/uratau3ywIAAAAAAAAuCqHfN2zbtk1Op1P33XefbrjhBm+XAwAAAAAAAFwSnun3DceOHZMkhYaGerkSAAAAAAAA4NK12pV+O3bs0KJFi7Rnzx75+PgoPj5ekydPVlRUlMe4yspKZWRkaPPmzTp69Kj8/f3Vr18/paSkqHv37pLO3tY7ffp092fmzJnj/vdZs2YpLi5OkrR//36lpaUpPz9f1dXVCg0NVVJSkiZMmKCgoCCP806bNk2S9Nxzz2nRokXatGmTjh07pp/+9KcaPny4JGnfvn3KyMhQfn6+jh8/rtDQUA0aNEiTJk1qMB8AAAAAAABwoVpl6FdYWKj//ve/GjBggG6//XYdPHhQX3zxhXbs2KF58+apc+fOkqSSkhLNmTNHR48eVf/+/ZWUlKSqqipt3LhRubm5mjlzpnr16qXAwEBNnDhR+fn5ys/PV3JysiIiIiTJ/c/6uWtrazV48GBFRkZq586dWrp0qTZv3qx58+YpODjYo06n06mnn35ap06dUmJionx9fRUSEiJJ2rRpk1588UUZhqFBgwYpPDxcBw8eVFZWlnJzczVv3jx16NDhCn6rAAAAAAAAsIpWGfrl5uZq6tSpuu2229z7PvzwQ/3tb3/TwoUL9etf/1qStGDBAh07dkxPPPGEBgwY4B47fvx4/eY3v9Grr76q559/XoGBgUpJSVFqaqry8/M1fPhw9+o+Saqrq9OCBQt0+vTpBnO99dZbWrx4sf7973/rZz/7mUedFRUV6tGjh+bOnSs/Pz/3/uPHj+tPf/qTgoKCNHfuXHewKEnr1q3Tyy+/rNTUVE2ZMqXR63c6nXI6ne5twzDk7+9/cV8iAFxhhmFc0fNcqfMBTaEXYQb0IcyCXoQZ0IcwiyvVi60y9HM4HLrllls89t1yyy3KzMxUTk6OqqqqdPToURUUFOimm27yCOkkqUuXLu7x+/fvd9/m25SCggIdPnxYAwcObDDXxIkT9fHHH+vTTz/V1KlTZbN5fqWTJ0/2CPwkac2aNaqpqdGPfvQjj8BPkoYNG6bFixdr3bp1TYZ+GRkZSktLc2/HxMRo/vz557wGAPA2h8NxRc/37cc9AN5CL8IM6EOYBb0IM6APYRYt3YutMvTr06ePfHw830Hi4+OjPn36qLi4WHv37lVJSYmks8/0S01NbTBHUVGRJOnQoUPnDf2++uorSVJsbGyDY+3bt9c111yj3NzcBnPZ7fZG5y4sLHT/s77Ob3I6nTp+/Liqqqoa3DIsSePGjdOYMWPc2/yVAkBrUFxcfEXOYxiGoqKiVFJSIpfLdUXOCTSGXoQZ0IcwC3oRZkAfwiya6kWbzdZgcdjlaJWhX8eOHRvdX/+8vOrqap04cUKSlJ2drezs7CbnOnXq1HnPV1NT4zF/U/VUV1c3qKexQK6+tuXLl5/zvKdPn250v91ul91uP+dnAcBsrvQvVi6Xi1/mYAr0IsyAPoRZ0IswA/oQZtHSvdgqQ7+KiopG91dWVkqSAgIC3M+4mzJlim6//fbLOl/9XPXzN1VPQECAx/6mVuDVz/f888+fd5UhAAAAAAAAcLF8zj/EfAoKClRXV+exr66uTgUFBTIMQ9HR0erVq5ckaefOnZd9vpiYGElSfn5+g2OnTp3Snj175Ofnpy5dulzQfM1ZGwAAAAAAAPBtrTL0Ky4u1sqVKz32rVy5UsXFxRo4cKCCg4PVs2dP9erVS+vWrdP69esbzFFXV9doiNeYPn36qHPnzsrJydHWrVs9jqWnp+v48eMaNmxYg5d4NOWmm26Sv7+/Fi1apAMHDjQ4fvr0aQJBAAAAAAAAXLJWeXtv//79tXDhQuXk5Khbt246ePCgNm/erKCgID3wwAPucY888ojmzJmjl156SR988IFiYmLk5+enI0eOqLCwUFVVVfr3v/993vP5+Pho2rRpmjdvnp599lkNGTJE4eHhKiwsVF5enjp37qx77733gusPDg7WI488oj/84Q96/PHHNWDAAHXp0kW1tbUqLS3V9u3b1bt3b82YMeOSvh8AAAAAAAC0ba0y9OvVq5cmTJigRYsWadmyZfLx8VFSUpImT56szp07u8dFRkZq/vz5yszM1BdffKHVq1fLx8dHoaGh6tevn66//voLPmffvn01b948paWlKTc3V9XV1QoLC9OoUaM0fvz4Rt+yey4JCQl67rnntHjxYm3btk1bt25Vu3bt1KlTJw0fPlzf/e53L2o+AAAAAAAAoJ7h4pU1lpHwaoJySnK8XQYANKpoatEVOY9hGHI4HCouLuatbPAqehFmQB/CLOhFmAF9CLNoqhftdrsiIiKa7Tyt8pl+AAAAAAAAAJpG6AcAAAAAAABYDKEfAAAAAAAAYDGEfgAAAAAAAIDFEPoBAAAAAAAAFkPoBwAAAAAAAFgMoR8AAAAAAABgMYR+AAAAAAAAgMXYvF0Ams/y8cvldDq9XQbaMMMw5HA4VFxcLJfL5e1yAAAAAABos1jpBwAAAAAAAFgMoR8AAAAAAABgMYR+AAAAAAAAgMUQ+gEAAAAAAAAWQ+gHAAAAAAAAWAyhHwAAAAAAAGAxhH4AAAAAAACAxRD6AQAAAAAAABZj83YBaD4j00cqpyTH22UAgIqmFnm7BAAAAABo01jpBwAAAAAAAFgMoR8AAAAAAABgMYR+AAAAAAAAgMUQ+gEAAAAAAAAWQ+gHAAAAAAAAWAyhHwAAAAAAAGAxhH4AAAAAAACAxRD6AQAAAAAAABZD6AcAAAAAAABYDKFfMygtLVVKSooWLFjg7VIAAAAAAAAAQj+zmD17tlJSUrxdBgAAAAAAACyA0A8AAAAAAACwGEI/AAAAAAAAwGJs3i7AysrKypSWlqYtW7aoqqpKISEh6t+/vyZNmqTw8HD3uG/e1vvNf09OTta0adOuaM0AAAAAAABo/Qj9WsihQ4c0c+ZMVVVVKTExUVdddZX279+vVatWafPmzXr66afVpUsXSdLEiRO1Zs0alZWVaeLEie45oqOjvVQ9AAAAAAAAWjNCvxbyt7/9TVVVVfrxj3+sW2+91b1/+fLlev311/X3v/9dM2fOlHR2dV9+fr7Kysou6GUeTqdTTqfTvW0Yhvz9/Zv/IgDgEhmG4fVze7MGQKIXYQ70IcyCXoQZ0IcwiyvVi4R+LeDIkSPKy8tTt27ddMstt3gcu+2225SVlaUvv/xSR44c8bjN90JlZGQoLS3NvR0TE6P58+dfdt0A0FwcDoe3S1BUVJS3SwAk0YswB/oQZkEvwgzoQ5hFS/cioV8L2Lt3ryQpNja2QWrr4+Ojfv36qaioSHv37r2k0G/cuHEaM2aMe5u/UgAwm+LiYq+d2zAMRUVFqaSkRC6Xy2t1APQizIA+hFnQizAD+hBm0VQv2mw2RURENNt5CP1aQHV1tSQpJCSk0eMdO3aUJNXU1FzS/Ha7XXa7/ZI+CwBXghl+iXK5XKaoA6AXYQb0IcyCXoQZ0Icwi5buRZ8Wm7kNCwgIkCRVVlY2eryiokKSeA4fAAAAAAAAWgShXwuof+vu9u3bGyS2LpdL27dv9xgnnb3tV5Lq6uquSI0AAAAAAACwLkK/FhAeHq64uDgdOHBAq1at8jj20UcfqaioSPHx8R7P8+vQoYOksy8BAQAAAAAAAC4Hz/RrIVOnTtVTTz2lV199VZs2bVK3bt108OBBbdq0ScHBwXrwwQc9xsfHx2vDhg164YUXNHDgQNntdvXo0UODBg3y0hUAAAAAAACgtSL0ayFdunTR7373O7377rvKzc1VTk6OgoODNXz4cE2aNKnB21huueUWlZaWav369Xr//fd15swZJScnE/oBAAAAAADgohH6NYPIyEilpqY22B8REaGHHnrogubw9fXV5MmTNXny5OYuDwAAAAAAAG0Mz/QDAAAAAAAALIbQDwAAAAAAALAYQj8AAAAAAADAYgj9AAAAAAAAAIsh9AMAAAAAAAAshtAPAAAAAAAAsBhCPwAAAAAAAMBiCP0AAAAAAAAAiyH0AwAAAAAAACzG5u0C0HyWj18up9Pp7TLQhhmGIYfDoeLiYrlcLm+XAwAAAABAm8VKPwAAAAAAAMBiCP0AAAAAAAAAiyH0AwAAAAAAACyG0A8AAAAAAACwGEI/AAAAAAAAwGII/QAAAAAAAACLIfQDAAAAAAAALMbm7QLQfEamj1ROSY63ywDQxhRNLfJ2CQAAAACAb2GlHwAAAAAAAGAxhH4AAAAAAACAxRD6AQAAAAAAABZD6AcAAAAAAABYDKEfAAAAAAAAYDGEfgAAAAAAAIDFEPoBAAAAAAAAFkPoBwAAAAAAAFgMoR8AAAAAAABgMYR+AAAAAAAAgMUQ+gEAAAAAAAAWQ+gHAAAAAAAAWAyhHwAAAAAAAGAxNm8X0Fw2bNigZcuWqaioSDU1NerQoYO6deum2267Tddff7173L59+5SRkaH8/HwdP35coaGhGjRokCZNmqSgoCD3uNLSUk2fPl3JycmaMGGC/vWvfyk/P1+1tbXq3bu3/ud//kfR0dEeNRQXFysjI0N5eXk6duyY2rVrp/DwcMXFxemHP/yhDMNwj62pqdGSJUu0YcMGHT58WHa7Xb169dKECRPUt2/fFv++AAAAAAAAYF2WWOm3YsUK/eEPf1BJSYmuu+46jR49Wv3791dFRYU+//xz97hNmzbpiSee0KZNmxQbG6vRo0ere/fuysrK0pNPPqkTJ040mLusrEwzZszQiRMndNNNN+naa6/Vtm3bNGfOHFVUVLjHlZeX64knntAnn3yi6OhojR49Wt/97nfVsWNHLV++XHV1de6xJ06c0JNPPqm0tDQFBgbqtttu0+DBg7Vnzx7NmTPHo2YAAAAAAADgYllipd/KlStls9n03HPPKSQkxOPY8ePH3f/805/+pKCgIM2dO1cRERHuMevWrdPLL7+s1NRUTZkyxePz+fn5uueee3TXXXe59y1atEjp6elavXq1e//GjRt18uRJ3X///Ro1apTHHCdOnJCvr697+4033tCBAwf0k5/8RLfccot7f2VlpX7961/rtdde04ABA+Tn53dZ3wsAAAAAAADaJkuEfpLk6+vrEazVq79ld82aNaqpqdGPfvQjj8BPkoYNG6bFixdr3bp1DUK/yMhIjR071mPfzTffrPT0dO3atavB+RoL6jp06OD+96qqKq1fv17x8fEegZ8khYSEaOzYsVq4cKG2bdumxMTERq/V6XTK6XS6tw3DkL+/f6NjAaClffPRBWZQX4/Z6kLbQy/CDOhDmAW9CDOgD2EWV6oXLRH6DRs2TG+99ZYee+wx3XDDDYqLi1Pfvn0VEBDgHlNYWOj+Z0lJSYM5nE6njh8/rqqqKgUHB7v3R0dHy8fH8y7oTp06SZKqq6vd+xITE/X222/r9ddf17Zt2zRgwADFxsaqc+fOHp/dvXu36urq5HQ6lZqa2qCO+tqKioqaDP0yMjKUlpbm3o6JidH8+fMb/3IAoIU5HA5vl9CoqKgob5cASKIXYQ70IcyCXoQZ0Icwi5buRUuEfnfeeac6dOigDz/8UJmZmVqyZIl8fX01cOBA3X///YqMjHQ/r2/58uXnnOv06dMe242toKtfUfjN5/RFRkZq3rx5evfdd5WTk6PPPvtMktS1a1elpKRoyJAhkuSuo6CgQAUFBRdcxzeNGzdOY8aMcW/zVwoA3lRcXOztEjwYhqGoqCiVlJTI5XJ5uxy0YfQizIA+hFnQizAD+hBm0VQv2my2BnenXg5LhH6GYejmm2/WzTffrOPHj2v79u1at26dPvvsM5WUlOj55593h3fPP/+8unfv3iJ1dO/eXY899phqa2u1Z88ebdmyRcuWLdNLL72k0NBQ9e3b113HmDFjdN99913Seex2u+x2e3OWDgCXzKy/MLlcLtPWhraFXoQZ0IcwC3oRZkAfwixauhct8fbebwoKCtJ1112n//3f/1V8fLwOHjyokpIS9erVS5K0c+fOFq/BZrOpd+/eSklJ0QMPPCCXy6Xs7GxJUs+ePWUYhvt2YwAAAAAAAKC5WSL0y8vLa5CM1tbWum+ltdvtuummm+Tv769FixbpwIEDDeY4ffr0ZQWCe/bs8XjGX72Kigp3DZLUsWNHDRkyRAUFBVq8eHGjiW5hYeE5b+8FAAAAAAAAzsUSt/f+/ve/l7+/v3r16qWIiAidOXNGW7du1cGDB3X99de774d+5JFH9Ic//EGPP/64BgwYoC5duqi2tlalpaXavn27evfurRkzZlxSDWvXrtWHH37ofnmHv7+/Dh48qJycHHXo0EE33XSTe+yDDz6oQ4cO6a233tLatWvVu3dvBQQE6OjRo9qzZ4+Ki4v12muvqV27ds3y/QAAAAAAAKBtsUTod88992jLli3avXu3Nm/erPbt26tz58568MEHdfPNN7vHJSQk6LnnntPixYu1bds2bd26Ve3atVOnTp00fPhwffe7373kGoYNG6avv/5aBQUF2rVrl5xOpzp16qQRI0Zo7NixCg8Pd4/t0KGDnnnmGWVlZWn9+vX65JNP5HK51LFjR/Xo0UMTJkxQUFDQZX0nAAAAAAAAaLsMF0+vtIyEVxOUU5Lj7TIAtDFFU4u8XYIHwzDkcDhUXFzMA5rhVfQizIA+hFnQizAD+hBm0VQv2u32Zn17ryWe6QcAAAAAAADg/xD6AQAAAAAAABZD6AcAAAAAAABYDKEfAAAAAAAAYDGEfgAAAAAAAIDFEPoBAAAAAAAAFkPoBwAAAAAAAFgMoR8AAAAAAABgMYR+AAAAAAAAgMXYvF0Ams/y8cvldDq9XQbaMMMw5HA4VFxcLJfL5e1yAAAAAABos1jpBwAAAAAAAFgMoR8AAAAAAABgMYR+AAAAAAAAgMUQ+gEAAAAAAAAWQ+gHAAAAAAAAWAyhHwAAAAAAAGAxhH4AAAAAAACAxRD6AQAAAAAAABZj83YBaD4j00cqpyTH22UAaGOKphZ5uwQAAAAAwLew0g8AAAAAAACwGEI/AAAAAAAAwGII/QAAAAAAAACLIfQDAAAAAAAALIbQDwAAAAAAALAYQj8AAAAAAADAYgj9AAAAAAAAAIsh9AMAAAAAAAAshtAPAAAAAAAAsBhCPwAAAAAAAMBiCP0AAAAAAAAAiyH0AwAAAAAAACzG1pKT5+fnKzMzU4WFhTp58qRCQkJ0zTXXaMyYMerbt68k6dSpU1q8eLHWr1+vsrIy+fn5qXfv3ho3bpx7TL3U1FSlpaVp1qxZKi0tVWZmpkpKStSxY0eNHj1ao0aNksvlUmZmpj766CMdOXJEnTp10oQJE5ScnOwx14IFC7RmzRr96U9/0saNG7Vy5UodOXJEkZGRmjhxooYNG6ba2lq9++67+vTTT1VRUSGHw6F7771XAwcObHCtZWVlSktL05YtW1RVVaWQkBD1799fkyZNUnh4uMfY2bNnKz8/X2+//bbS09O1Zs0aHTt2TBERERo1apRGjhzZzD8JAAAAAAAAtCUtFvotXbpUb775pvz8/JSUlKTw8HCVl5eroKBAGzZsUN++ffX111/r6aef1q5duxQTE6NRo0apsrJS69evV25urh555BENGTKkwdwffPCB8vPzNWjQIMXHx2vjxo36xz/+oXbt2umrr77Sxo0blZiYKJvNpnXr1mnBggWKiIhQbGxsg7nefPNN7dq1S4mJifLx8dH69ev1xz/+UYGBgcrKytLBgwc1cOBAOZ1Offrpp3ruuef04osvKioqyj3HoUOHNHPmTFVVVSkxMVFXXXWV9u/fr1WrVmnz5s16+umn1aVLlwbnfvnll7Vr1y4NHDhQPj4++uyzz/T666/L19dXt956a/P+QAAAAAAAANBmtEjot3fvXr355pvq2LGj5s6dq8jISPcxl8ulY8eOSZIWL16sXbt26YYbbtDPf/5zGYYhSbrjjjs0Y8YMvfbaaxowYID8/f095t+xY4fmz5+vzp07S5LuvPNOPfzww/rXv/6lkJAQvfDCCwoODpYkJScna8aMGVqyZEmjoV9RUZGef/559/ibbrpJTzzxhF5++WVdddVVev7559W+fXtJUv/+/fXSSy9p6dKlmjJlinuOv/3tb6qqqtKPf/xjj7Bu+fLlev311/X3v/9dM2fObHDu8vJyvfDCCwoICJAkjRo1So899pgyMzMJ/QAAAAAAAHDJWiT0++ijj+RyufSDH/zAI/CTJMMwFBYWJklas2aNfH19de+997oDP0mKiYlRcnKyVq5cqS+++EI33nijxxyjRo1yB36SFB4err59++rLL7/UAw884A7wJKlXr17q3Lmz9u3b12it48eP9xjfs2dPde7cWYcPH9YPfvADd+AnSddff718fX095jpy5Ijy8vLUrVs33XLLLR5z33bbbcrKytKXX36pI0eONLjN9+6773YHfpLUpUsX9enTR/n5+aqpqWkQdtZzOp1yOp3ubcMwmhwLAC3tm//9NoP6esxWF9oeehFmQB/CLOhFmAF9CLO4Ur3YIqHfrl27JJ1dGdeU6upqHT58WF27dlWnTp0aHI+Li9PKlSu1d+/eBqFfdHR0g/EdO3Y857H6mr6tqfGHDx9ucMzHx0chISHulYrS2VWNkhQbG9vgh+Xj46N+/fqpqKhIe/fubRD6XX311Q3OXR+Injx5sskgLyMjQ2lpae7tmJgYzZ8/v9GxANDSHA6Ht0to1DcfwwB4E70IM6APYRb0IsyAPoRZtHQvtkjoV11dLcMw3EFcY2pqaiSpyTGhoaHuub6tsTDM19f3nMfOnDnT6HnONdc3V+E1NVd9fSEhIY3OX3999df7TU3NL0l1dXWNzidJ48aN05gxY9zb/JUCgDcVFxd7uwQPhmEoKipKJSUlcrlc3i4HbRi9CDOgD2EW9CLMgD6EWTTVizabTREREc12nhYJ/QIDA+VyuVRRUeFeufZt9WFbRUVFo8fr9zcWjJlJfX2VlZWNHq+/jua8/dZut8tutzfbfABwOcz6C5PL5TJtbWhb6EWYAX0Is6AXYQb0IcyipXvRpyUmveaaayRJubm5TY4JCAhQ586dVVJSovLy8gbH8/LyJDV++62Z1Ne3ffv2Bj8ol8ul7du3e4wDAAAAAAAAWlqLhH4jRoyQj4+PFi1apLKyMo9jLpfLHfIlJyfrzJkzevvttz0Cs3379mnNmjUKCAhQUlJSS5TYbMLDwxUXF6cDBw5o1apVHsc++ugjFRUVKT4+vsHz/AAAAAAAAICW0iK393bv3l3333+/Fi5cqEcffVRJSUmKiIhQRUWFtm/froSEBN1///0aO3assrOztXbtWnc4VllZqc8++0xnzpzR9OnTW8VbaadOnaqnnnpKr776qjZt2qRu3brp4MGD2rRpk4KDg/Xggw96u0QAAAAAAAC0IS0S+knS7bffrquuukpLlizRli1bdOrUKYWEhKhnz54aMmSIJMnPz08zZ87U+++/r/Xr1+uDDz5Qu3btFBsbq3Hjxqlv374tVV6z6tKli373u9/p3XffVW5urnJychQcHKzhw4dr0qRJzfoQRgAAAAAAAOB8DBdPr7SMhFcTlFOS4+0yALQxRVOLvF2CB8Mw5HA4VFxczAOa4VX0IsyAPoRZ0IswA/oQZtFUL9rt9mZdONYiz/QDAAAAAAAA4D2EfgAAAAAAAIDFEPoBAAAAAAAAFkPoBwAAAAAAAFgMoR8AAAAAAABgMYR+AAAAAAAAgMUQ+gEAAAAAAAAWQ+gHAAAAAAAAWAyhHwAAAAAAAGAxNm8XgOazfPxyOZ1Ob5eBNswwDDkcDhUXF8vlcnm7HAAAAAAA2ixW+gEAAAAAAAAWQ+gHAAAAAAAAWAyhHwAAAAAAAGAxhH4AAAAAAACAxRD6AQAAAAAAABZD6AcAAAAAAABYDKEfAAAAAAAAYDGEfgAAAAAAAIDF2LxdAJrPyPSRyinJ8XYZAC5S0dQib5cAAAAAALAYVvoBAAAAAAAAFkPoBwAAAAAAAFgMoR8AAAAAAABgMYR+AAAAAAAAgMUQ+gEAAAAAAAAWQ+gHAAAAAAAAWAyhHwAAAAAAAGAxhH4AAAAAAACAxRD6AQAAAAAAABbTKkK/vLw8paSkKDU19YI/M3v2bKWkpLRgVQAAAAAAAIA5tYrQr7mkpqYqJSVFeXl53i4FAAAAAAAAaDE2bxdwIXr27KkXX3xRQUFB3i4FAAAAAAAAML1WEfq1a9dOXbt29XYZAAAAAAAAQKvQoqFfXl6e5syZo4kTJ6p///5atGiRdu/eLbvdriFDhui+++6Tn5+fsrOz9d5772n//v1q3769kpOTdffdd8vX17fBPN9+Tt+OHTv0zjvvaM+ePbLb7br22mv1P//zPw1qmT17tvLz8yVJc+bMce+PiIjQggUL3NuVlZXKyMjQ5s2bdfToUfn7+6tfv35KSUlR9+7dPeacNm2aJOm5557TokWLtGnTJh07dkw//elPFRsbq+nTpys5OVnf+9739NZbb2nHjh0yDEP9+/fXlClTFBwcrJ07d7q/Fx8fHw0ePFj333+/2rdv3zw/BAAAAAAAALQ5V2Sl365du/T++++rf//+uvXWW5WXl6cVK1aourpagwYN0oIFC5SUlKTevXsrOztbixcvVvv27TVx4sRzzrtt2zb99re/lY+Pj4YMGaKwsDBt27ZNTz31lDp06OAxdvjw4ZKk/Px8JScnKyIiQpIUGBjoHlNSUqI5c+bo6NGj6t+/v5KSklRVVaWNGzcqNzdXM2fOVK9evTzmdTqdevrpp3Xq1CklJibK19dXISEh7uOlpaV66qmndPXVV+vmm2/Wnj17tH79eh09elT33nuvnnnmGX3nO9/RLbfcovz8fH388ceqq6vTQw89dDlfOQAAAAAAANqwKxL6bdmyRY8//riSkpIkSbW1tfrNb36jdevWKTc3V3PmzFHPnj0lSSkpKXr44Ye1dOlS3XXXXbLZGi+xrq5Or732murq6jRr1iz17dtXkuRyufSnP/1Jn376qcf44cOHq7S0VPn5+Ro+fLji4uIazLlgwQIdO3ZMTzzxhAYMGODeP378eP3mN7/Rq6++queff97jMxUVFerRo4fmzp0rPz8/9/7S0lJJ0vbt23X//fdr1KhR7vp+97vfKScnR/Pnz9cjjzzS4Hv55JNPdM8996hjx46NXrvT6ZTT6XRvG4Yhf3//RscCMD/DMLxdgqXUf598r/A2ehFmQB/CLOhFmAF9CLO4Ur14RUK/uLg4d7AlSTabTYMHD9a+ffuUmJjoDvwkyd/fXwkJCVq1apXKy8sVGRnZ6Jw7duzQ4cOHlZiY6A78pLNf2N13363169errq7ugmv86quvVFBQoJtuuskj8JOkLl266JZbblFmZqb279/f4DbfyZMnewR+39S5c2fdcccdHvUNGzZMOTk5io6ObvJ7OXjwYJOhX0ZGhtLS0tzbMTExmj9//gVfKwBzcTgc3i7BkqKiorxdAiCJXoQ50IcwC3oRZkAfwixauhevSOgXHR3dYF9oaOh5j50r9Nu3b58kqV+/fg2ORUREqFOnTiorK7vgGgsLCyWdfaZfampqg+NFRUWSpEOHDnmEfna7vUEI+E09evRokNzWh3nnuvZjx441Oee4ceM0ZswY9zZ/pQBat+LiYm+XYCmGYSgqKkolJSVyuVzeLgdtGL0IM6APYRb0IsyAPoRZNNWLNpvN/Ti65nBFQr/Gbj2tf0lHQEBAg2M+Pj6SpDNnzjQ5Z3V1tSQpODi40eMdO3a8qNDvxIkTkqTs7GxlZ2c3Oe7UqVMe2yEhIecM3c517ec6dq5rt9vtstvtTR4H0LrwC0fLcLlcfLcwBXoRZkAfwizoRZgBfQizaOlevCKhX0uoDwurqqoaPV5RUXFR89UHcFOmTNHtt99+wZ9jlR0AAAAAAADMxsfbBVyqHj16SDr7ooxvKysr09GjRxvsr19B2Niz/urfyrtz587mLBMAAAAAAAC44lpt6Ne3b19FRkYqOztbO3bscO93uVx65513Gg32OnToIEmNBoI9e/ZUr169tG7dOq1fv77B8bq6OuXn5zfjFQAAAAAAAAAto9Xe3uvj46Mf//jHevbZZzV37lwNGTJEYWFh+vLLL3Xs2DH16NHD/bKPevHx8TIMQ++8844OHDiggIAABQYGum/nfeSRRzRnzhy99NJL+uCDDxQTEyM/Pz8dOXJEhYWFqqqq0r///W9vXC4AAAAAAABwwVrtSj9J+s53vqOZM2eqZ8+e2rBhgz766COFh4dr7ty5CgwMbDC+W7du+tnPfqagoCBlZWXpP//5j5YsWeI+HhkZqfnz52v8+PE6deqUVq9erY8++kj79u1Tv3799Mgjj1zJywMAAAAAAAAuieHilTWWkfBqgnJKcrxdBoCLVDS1yNslWIphGHI4HCouLuatbPAqehFmQB/CLOhFmAF9CLNoqhftdrsiIiKa7TyteqUfAAAAAAAAgIYI/QAAAAAAAACLIfQDAAAAAAAALIbQDwAAAAAAALAYQj8AAAAAAADAYgj9AAAAAAAAAIsh9AMAAAAAAAAshtAPAAAAAAAAsBhCPwAAAAAAAMBibN4uAM1n+fjlcjqd3i4DbZhhGHI4HCouLpbL5fJ2OQAAAAAAtFms9AMAAAAAAAAshtAPAAAAAAAAsBhCPwAAAAAAAMBiCP0AAAAAAAAAiyH0AwAAAAAAACyG0A8AAAAAAACwGEI/AAAAAAAAwGJs3i4AzWdk+kjllOR4uwygzSuaWuTtEgAAAAAAbRwr/QAAAAAAAACLIfQDAAAAAAAALIbQDwAAAAAAALAYQj8AAAAAAADAYgj9AAAAAAAAAIsh9AMAAAAAAAAshtAPAAAAAAAAsBhCPwAAAAAAAMBiCP0AAAAAAAAAiyH0uwizZ89WSkqKt8sAAAAAAAAAzonQDwAAAAAAALAYm7cLaE2mT5+u06dPe7sMAAAAAAAA4JwI/S5CeHi4t0sAAAAAAAAAzstyod+ZM2e0ePFiffzxxyovL1dYWJhuvvlmDR06VD//+c+VnJysadOmucfv379faWlpys/PV3V1tUJDQ5WUlKQJEyYoKCjIY+7Zs2crPz9fqamp7n2rV6/WK6+8ooceekihoaF69913tXfvXvn5+SkhIUE//OEPG8wjSR9++KGWLVumw4cPKzg4WMOGDVNKSoomT56s2NhYzZ49u8W+IwAAAAAAAFib5UK/v/zlL1q7dq06d+6skSNHyul06oMPPtDOnTsbjN2xY4fmzZun2tpaDR48WJGRkdq5c6eWLl2qzZs3a968eQoODr6g827atEnZ2dlKTExU7969tX37dq1du1aHDx/W3LlzPcb+5z//0XvvvaeQkBDdcsst8vX11WeffaaioqJm+Q4AAAAAAADQtlkq9Nu2bZvWrl2r6OhozZ07V+3atZMkjR8/Xr/85S89xtbV1WnBggU6ffq0nnjiCQ0YMMB97K233tLixYv173//Wz/72c8u6NybN2/WrFmz1LdvX/f8c+fOVV5ennbu3KnevXtLkg4dOqSMjAyFhYVp/vz5CgkJkSSlpKRoxowZl/sVAAAAAAAAANYK/T755BNJ0sSJE92BnySFhoZq1KhReuedd9z7CgoKdPjwYQ0cONAj8Kv//Mcff6xPP/1UU6dOlc12/q9p2LBh7sBPknx8fJScnKy8vDzt3r3bHfqtW7dOdXV1GjNmjDvwkyR/f3+NHz9ef/zjH897LqfTKafT6d42DEP+/v7n/RyAK8MwDG+X0KbVf//8HOBt9CLMgD6EWdCLMAP6EGZxpXrRUqHfvn37JMkjfKvXp08fj+2vvvpKkhQbG9tgbPv27XXNNdcoNzdXhw4dUvfu3c977quvvrrBvrCwMEnSyZMnL6jGxvY1JiMjQ2lpae7tmJgYzZ8//4I+C6DlORwOb5cASVFRUd4uAZBEL8Ic6EOYBb0IM6APYRYt3YuWCv2qq6tlGEajL87o2LGjx3ZNTY0keay2a2x8dXX1BZ07ICCgwT5fX19JZ2/1vZDzNlXLt40bN05jxoxxb/NXCsBciouLvV1Cm2YYhqKiolRSUiKXy+XtctCG0YswA/oQZkEvwgzoQ5hFU71os9kUERHRbOexVOgXEBAgl8ul48ePN3gBR0VFhcd2/e2wlZWVjc5VP76xMO9yfPO83/5BNlXLt9ntdtnt9matC0Dz4RcIc3C5XPwsYAr0IsyAPoRZ0IswA/oQZtHSvejTYjN7QY8ePSSdfSvvt3377b0xMTGSpPz8/AZjT506pT179sjPz09dunRpkRoLCgoaHGtsHwAAAAAAAHCxLBX63XDDDZKk9957T19//bV7f0VFhZYuXeoxtk+fPurcubNycnK0detWj2Pp6ek6fvy4hg0bdkEv8bgYw4YNk2EYyszMVFVVlXv/qVOnlJ6e3qznAgAAAAAAQNtkqdt7v/Od7+iGG27Qp59+qscee0xJSUmqra3VZ599pp49e2rz5s3u59/5+Pho2rRpmjdvnp599lkNGTJE4eHhKiwsVF5enjp37qx777232Wvs0qWL7rrrLmVkZOgXv/iFhgwZIl9fX23cuFHdu3fXgQMHeEYfAAAAAAAALoulQj9JmjZtmrp27apVq1YpKytLnTp10qhRo3Tttddq8+bNHs/o69u3r+bNm6e0tDTl5uaqurpaYWFhGjVqlMaPH9/guYDN5e6771anTp20bNkyffjhhwoJCdHQoUM1atQobd682f3cPwAAAAAAAOBSWC708/X11YQJEzRhwgSP/StXrpSkBs/o6969ux599NELmnv27NkN9g0fPlzDhw9vdHxcXJxSU1MbPTZixAiNGDHCY1/9bcbN/RxBAAAAAAAAtC2WeqafdPb5fd9+80l5ebnS09Pl4+OjhIQEL1X2f6qqqlRXV+ex7+TJk3rnnXckSdddd503ygIAAAAAAIBFWG6l33//+19lZ2erb9++CgkJ0ZEjR5Sdna2amhpNmjRJ4eHh3i5Rn3zyiZYsWaL4+HiFhobq2LFjys3NVWVlpYYPH67evXt7u0QAAAAAAAC0YpYL/QYMGKCDBw8qJydHJ06ckJ+fn7p3766RI0e63+7rbX369FFeXp62bdumEydOyMfHR127dtWECRMa3PILAAAAAAAAXCxLhn4DBgzwdhnn1LNnT/3yl7/0dhkAAAAAAACwKMs90w8AAAAAAABo6wj9AAAAAAAAAIsh9AMAAAAAAAAshtAPAAAAAAAAsBhCPwAAAAAAAMBiLPf23rZs+fjlcjqd3i4DbZhhGHI4HCouLpbL5fJ2OQAAAAAAtFms9AMAAAAAAAAshtAPAAAAAAAAsBhCPwAAAAAAAMBiCP0AAAAAAAAAiyH0AwAAAAAAACyG0A8AAAAAAACwGEI/AAAAAAAAwGJs3i4AzWdk+kjllOR4uwzA9IqmFnm7BAAAAAAAWhQr/QAAAAAAAACLIfQDAAAAAAAALIbQDwAAAAAAALAYQj8AAAAAAADAYgj9AAAAAAAAAIsh9AMAAAAAAAAshtAPAAAAAAAAsBhCPwAAAAAAAMBiCP0AAAAAAAAAiyH0a0RpaalSUlK0YMECb5cCAAAAAAAAXDRCPxNYsGCBUlJSVFpa6u1SAAAAAAAAYAE2bxdgRmFhYXrxxRcVEBDg7VIAAAAAAACAi0bo1wibzaauXbt6uwwAAAAAAADgkpg29MvPz9fixYtVWFiompoahYeHa+jQoRo3bpzatWsnSaqtrdWHH36o7OxsHTx4UJWVlQoICFDfvn01YcIExcTEeMxZV1enVatW6aOPPlJJSYm+/vprBQUFKTo6Wnfeeafi4uIknX2m3/Tp05WcnKxp06Z5zFFTU6MlS5Zow4YNOnz4sOx2u3r16qUJEyaob9++HmOPHTum//73v8rJydHRo0dlt9sVGhqqfv36afLkyQoICNC0adNUVlYmSZo+fbr7s7GxsZo9e3Zzf60AAAAAAABoA0wZ+q1YsUKvv/66AgIClJiYqJCQEO3Zs0fp6enKy8vTrFmzZLPZdOLECf3jH/9Qv379NHDgQAUGBurw4cPavHmzcnJyNGfOHPXs2dM979tvv63Fixerc+fOuuGGG+Tv76/y8nLt2LFD27Ztc4d+TTlx4oRmzZqlAwcOqE+fPrrttttUU1OjTZs2ac6cOfrf//1fXXfddZKk06dP66mnnlJZWZm+853v6LrrrlNtba1KS0v1ySefaOzYsQoICNCoUaO0evVq7du3T6NGjXLfUhwZGdlyXzAAAAAAAAAszXSh38GDB7Vw4UJ1795dM2fOVFBQkPvYf//7X7399ttatmyZ7rzzTgUGBuovf/mLwsLCPOY4cOCAZsyYoXfeeUdPPfWUe//HH3+s0NBQPf/88+7VgvVOnDhx3treeOMNHThwQD/5yU90yy23uPdXVlbq17/+tV577TUNGDBAfn5+2rZtm0pLSzVq1Cjdf//9HvOcOnVKvr6+kqTRo0dr79697tCPsA8AAAAAAACXy3Sh34cffqgzZ85oypQpHoGfJI0dO1aZmZlat26d7rzzTtnt9gaBnyRdddVViouLU25urmpra2Wz/d9l2mw2+fg0fGlxhw4dzllXVVWV1q9fr/j4eI/AT5JCQkI0duxYLVy4UNu2bVNiYqL7mJ+fX4O52rdvf85znY/T6ZTT6XRvG4Yhf3//y5oTaEsMw/B2CWhB9T9ffs7wNnoRZkAfwizoRZgBfQizuFK9aLrQr7CwUJKUm5urbdu2NTju6+uroqIi9/bevXv1/vvva8eOHaqoqNCZM2c8xh8/flyhoaGSpKFDh2rFihV67LHHNHToUMXHx6t3796NBnPftnv3btXV1cnpdCo1NbXB8ZKSEklSUVGREhMTFRsbq9DQUL3//vvat2+fe1/Xrl0v+4eakZGhtLQ093ZMTIzmz59/WXMCbYnD4fB2CbgCoqKivF0CIIlehDnQhzALehFmQB/CLFq6F00X+tXfZpuenn7esQUFBXr66aclSd/5znfkcDjcq+i++OIL7du3z2NF3AMPPKDIyEitXr1a6enpSk9Pl91u15AhQ3TfffcpODj4vHUVFBSooKCgyXGnT5+WJAUEBGjevHn6z3/+437GoCR16tRJd911l0aOHHne62vKuHHjNGbMGPc2f6UALk5xcbG3S0ALMgxDUVFRKikpkcvl8nY5aMPoRZgBfQizoBdhBvQhzKKpXrTZbIqIiGi285gu9Ku/TfXNN9887y2r6enpcjqdevrppxu8ObewsFD79u3z2Ofr66uxY8dq7NixKi8vV35+vlavXq21a9eqsrJSM2bMOG9dY8aM0X333XdB1xIeHq5p06aprq5O+/fvV25urpYtW6bXX39dgYGBuuGGGy5onm+z2+2y2+2X9FkA4v/g2wiXy8XPGqZAL8IM6EOYBb0IM6APYRYt3YsNH27nZb169ZL0f7f5nsvhw4fVoUOHBoHf6dOn9dVXX53zs2FhYbrhhhv0xBNPKCoqSlu3btXXX3/d5PiePXvKMIwLquvbfHx8FB0dre9973t65JFHJEmbNm3yOC5JdXV1Fz03AAAAAAAA8G2mC/1GjBghX19fvfHGGzpy5EiD4ydPnnQHehERETp58qQOHDjgPl5XV6d//etfqqqq8vic0+ls9Lbc06dP69SpU7LZbOe8TbZjx44aMmSICgoKtHjx4kaT2MLCQvftvQcOHFBFRUWDMZWVlZI8X/BR/xKRo0ePNnl+AAAAAAAA4EKZ7vbe7t2760c/+pH+/ve/65FHHtHAgQMVFRWlmpoalZaWKj8/X8nJyfrxj3+s22+/Xbm5uZo5c6aGDBkiu92u/Px8lZeXKy4uTnl5ee55v/76az311FNyOBy6+uqrFR4erlOnTik7O1sVFRXutwGfy4MPPqhDhw7prbfe0tq1a9W7d28FBATo6NGj2rNnj4qLi/Xaa6+pXbt22rp1q9566y316dNHDodDQUFBOnz4sDZt2iS73e7xTL/4+HgtWbJEr732mgYPHqx27dopIiJCN954Y4t9zwAAAAAAALAu04V+knTrrbcqOjpamZmZ2r59uzZv3qyAgACFh4dr9OjRSk5OliQlJibq0UcfVUZGhj755BP5+fkpPj5ev/jFLzzebitJ7dq107333qsvv/xSO3bsUGVlpQIDA9WlSxfdfffdGjZs2Hnr6tChg5555hllZWVp/fr1+uSTT+RyudSxY0f16NFDEyZMUFBQkCSpf//+Kisr0/bt2/X555/r1KlTCgsL09ChQ/W9731P3bp1c887cOBATZ48WStXrtSSJUt05swZxcbGEvoBAAAAAADgkhgunl5pGQmvJiinJMfbZQCmVzS1yNsloAUZhiGHw6Hi4mIe0AyvohdhBvQhzIJehBnQhzCLpnrRbrc369t7TfdMPwAAAAAAAACXh9APAAAAAAAAsBhCPwAAAAAAAMBiCP0AAAAAAAAAiyH0AwAAAAAAACyG0A8AAAAAAACwGEI/AAAAAAAAwGII/QAAAAAAAACLIfQDAAAAAAAALMbm7QLQfJaPXy6n0+ntMtCGGYYhh8Oh4uJiuVwub5cDAAAAAECbxUo/AAAAAAAAwGII/QAAAAAAAACLIfQDAAAAAAAALIbQDwAAAAAAALAYQj8AAAAAAADAYgj9AAAAAAAAAIsh9AMAAAAAAAAshtAPAAAAAAAAsBibtwtA8xmZPlI5JTneLgMwjaKpRd4uAQAAAAAAr2ClHwAAAAAAAGAxhH4AAAAAAACAxRD6AQAAAAAAABZD6AcAAAAAAABYDKEfAAAAAAAAYDGEfgAAAAAAAIDFEPoBAAAAAAAAFkPoBwAAAAAAAFgMoR8AAAAAAABgMYR+kmbPnq2UlBRvlwEAAAAAAAA0izYR+qWmpiolJUV5eXneLgUAAAAAAABocTZvF2AG06dP1+nTp71dBgAAAAAAANAsCP0khYeHe7sEAAAAAAAAoNlcdOhXV1enxYsXa+XKlSovL1dYWJhuvvlmDR06VD//+c+VnJysadOmSZJSUlIUGxur2bNnN5infsyCBQs89tfW1iorK0uffPKJDh06JMMwFB0drbFjx2rQoEEeY6urq7VkyRJt2LBBR44ckY+Pj4KDg9WnTx99//vfV0REhGbPnq38/HxJ0pw5c9yfjYiIcJ+7fkxqaqrH/GfOnNGyZcu0Zs0aHTp0SDabTVdffbVGjx7doJbVq1frlVde0UMPPaTQ0FC9++672rt3r/z8/JSQkKAf/vCHCgoK8vjMl19+qcWLF2vfvn06fvy4AgMD5XA4dOONN+rWW2+90B8JAAAAAAAA4OGiQ79XX31Vq1atUmRkpEaOHKmvv/5amZmZKigouOxinE6nfvvb3yovL0/R0dG66aabdObMGWVnZ+u5557TlClTdPvtt0uSXC6X5s2bp8LCQvXp00cDBgyQYRg6cuSINm/erBtvvFEREREaPny4JCk/P1/JycmKiIiQJAUGBp6zFpfLpRdeeEGbNm2Sw+HQyJEjdfr0aa1fv17PPfec7rvvPo0ZM6bB5zZt2qTs7GwlJiaqd+/e2r59u9auXavDhw9r7ty57nHZ2dmaP3++AgIClJSUpI4dO6qqqkr79u3T2rVrCf0AAAAAAABwyS4q9MvLy9OqVavUo0cPzZ07V+3bt5ckjR8/Xo8//vhlF5OWlqa8vDxNmDBBKSkpMgxDklRTU6Onn35a//znP3XdddcpLCxMBw4cUGFhoZKSkhqc2+l06syZM5Kk4cOHq7S0VPn5+Ro+fLji4uIuqJa1a9dq06ZNio2N1ZNPPimb7exXNW7cOP3qV7/Sv//9byUlJalz584en9u8ebNmzZqlvn37Sjq7MnLu3LnKy8vTzp071bt3b0nSxx9/LJfLpVmzZik6OtpjjuPHj5+zNqfTKafT6d42DEP+/v4XdF1AW1L/3xC0LfU/d37+8DZ6EWZAH8Is6EWYAX0Is7hSvXhRod+aNWskSRMnTnQHfpIUFhamUaNG6T//+c8lF1JXV6cVK1aoc+fOHoGfJPn7+2vChAl67rnn9Pnnn7tX+0mSn59fg7nsdrvsdvsl1yL937VOnjzZHfhJZ5//N3r0aC1atEiffPKJJk6c6PG5YcOGuQM/SfLx8VFycrLy8vK0e/dud+h3rvq/fRvwt2VkZCgtLc29HRMTo/nz51/4xQFthMPh8HYJ8KKoqChvlwBIohdhDvQhzIJehBnQhzCLlu7Fiwr99u3bJ0nq169fg2ON7bsYhw4d0smTJxUWFqZ33323wfGqqipJUlFRkSSpa9eu6tGjh9atW6fy8nIlJSUpNjZW0dHR8vHxuaxaJOmrr75Su3bt1LNnzwbH4uPjJUl79+5tcOzqq69usC8sLEySdPLkSfe+YcOG6fPPP9eMGTN0ww036Nprr1Xfvn0VHBx83trGjRvncWsxf6UAGldcXOztEuAFhmEoKipKJSUlcrlc3i4HbRi9CDOgD2EW9CLMgD6EWTTVizabzf1YuuZwUaFfdXW1DMNodCVaSEjIZRVy4sQJSdKBAwd04MCBJsedPn1akuTr66uZM2fq3Xff1caNG/XPf/5TkhQcHKzbb79d48ePv6zwr6amRp06dWr0WMeOHd1jvi0gIKDBPl9fX0lnVzPWGzJkiGw2mzIzM/Xhhx9q+fLlMgxDcXFxuu+++xrc8vtNzbGSEWgL+D/yts3lctEDMAV6EWZAH8Is6EWYAX0Is2jpXryo0C8gIEAul0vHjx9vsCKtsrKywXjDMNzP1vu26upqj4Cs/t8HDx6sxx577ILqCQoK0pQpU/TAAw+oqKhIX375pbKyspSamipfX1+NGzfuQi+tAX9/f/fqwm+rqKhwj7kcSUlJSkpKUk1NjQoKCrRx40Z9/PHHmjdvnl566aXzvmwEAAAAAAAAaMxFLYXr0aOHJGn79u0NjjW2LzAwUOXl5Q32l5aWetzqKp29Xdff31979uxRbW3txZQlwzDUrVs33X777XryySclnX2Lbr36FX/fXGl3PjExMTp9+rR27drV4Fh+fr4knXM13sXw9/fXgAED9JOf/ETDhw9XZWWlCgsLm2VuAAAAAAAAtD0XFfrdeOONks6+ZffUqVPu/eXl5Vq6dGmD8ddcc43KysrcIZkk1dbWum/F/SZfX1+NGDFCZWVl+te//tVo8Ld//373isLS0lKVlpY2GFN//JsvyOjQoYMk6ejRoxd0nZKUnJwsSXr77bc9ajly5IgyMzPl6+ur7373uxc837fl5+c3GkI2Vj8AAAAAAABwMS7q9t74+HgNHz5cq1ev1i9+8Qtdd911cjqdWr9+vXr16qXs7GyP8WPGjNHWrVv17LPPatiwYfLz89O2bdsUEBCg0NDQBvOnpKToq6++0rJly5Sdna1+/fopJCRE5eXl2r9/v/bt26dnnnlGISEh2rt3r1544QX17NlTXbt2VceOHVVeXq4vvvhChmFo9OjRHnUbhqF33nlHBw4cUEBAgAIDAz3eAvxtN954ozZu3KhNmzbp8ccfV0JCgk6fPq3169frxIkTuu+++9S5c+eL+fo8LFy4UMeOHVPfvn0VEREhwzC0Y8cO7dq1S7169fJ4AzAAAAAAAABwMS4q9JOkn/70p+rSpYtWrlyprKwsderUSWPGjNGQIUMahH79+/fX//7v/yotLU1r165Vhw4ddP311+uee+5p9Ll9drtdTzzxhD7++GOtWbNGGzduVG1trUJCQtStWzfddttt6t69u6Szqwi/973vKS8vTzk5OTp58qQ6duyoa6+9VmPHjlXv3r3d83br1k0/+9nPlJmZqaysLDmdTkVERJwz9DMMQ4899piWLl2qNWvWKCsrSzabTTExMRozZowGDRp0sV+dh3Hjxmnjxo3as2ePcnNz5evrq4iICN17770aOXJks7yBGAAAAAAAAG2T4Wqm14SUlpZq+vTpSk5O1rRp05pjSlykhFcTlFOS4+0yANMomlrk7RLgBYZhyOFwqLi4mLeywavoRZgBfQizoBdhBvQhzKKpXrTb7YqIiGi287CcDAAAAAAAALAYQj8AAAAAAADAYgj9AAAAAAAAAIu56Bd5NCUyMlKpqanNNR0AAAAAAACAS8RKPwAAAAAAAMBiCP0AAAAAAAAAiyH0AwAAAAAAACyG0A8AAAAAAACwmGZ7kQe8b/n45XI6nd4uA22YYRhyOBwqLi6Wy+XydjkAAAAAALRZrPQDAAAAAAAALIbQDwAAAAAAALAYQj8AAAAAAADAYgj9AAAAAAAAAIsh9AMAAAAAAAAshtAPAAAAAAAAsBhCPwAAAAAAAMBiCP0AAAAAAAAAi7F5uwA0n5HpI5VTkuPtMoAromhqkbdLAAAAAADAtFjpBwAAAAAAAFgMoR8AAAAAAABgMYR+AAAAAAAAgMUQ+gEAAAAAAAAWQ+gHAAAAAAAAWAyhHwAAAAAAAGAxhH4AAAAAAACAxRD6AQAAAAAAABZD6AcAAAAAAABYDKEfAAAAAAAAYDGEfgAAAAAAAIDFEPoBAAAAAAAAFkPoBwAAAAAAAFiMzdsFXGn5+flavHixCgsLVVNTo//f3r0HVV3nfxx/HS4HARVFCUHFKygXB7O8wS+0MjNTN8pYTbNWZ5u2m23l7rRsaYm1ttNtdtydGrOtNmuJ1SzK0rKgvOGVBIy8X7iFclFuCofz+8M5JxGElC9y/PJ8zDgN3+/3fM/7c3j3PYfX+Xy/3549eyomJkbx8fHy8vJqtG1qaqr27dunyspK+fn5adCgQZoyZYqGDh3q3K6mpkaffPKJNm3apOLiYlmtVoWFhSk+Pr7BdpKUnJyslJQULVy4UKWlpVqzZo3y8/Pl6+ursWPHatasWbJarVfktQAAAAAAAIA5dajQb926dXrrrbfk4+Oj6667Tn5+fjp48KBWrVql7OxsLVy4UB4e516Szz//XO+8846sVqtGjhypnj17qqSkRLm5udqyZYszzDt79qyef/557d+/XwMGDNDkyZNVXl6uTZs2KTMzU/Pnz9fYsWMb1fLFF19o9+7dGjlypKKiorR7926tXbtWp0+f1mOPPXZFXxcAAAAAAACYS4cJ/Y4fP663335bISEhevbZZ9WlSxfnuo8//lgrV67U2rVrNXXqVB0+fFjvvPOOunXrpsWLF+uaa65xbmu321VaWur8+ZNPPtH+/fv1f//3f3r00UdlsVgkSbfddpsSExP15ptvavjw4fL29m5Qz549e7R06VIFBwdLkmbOnKkFCxZo48aNmj17tvz9/S86ltraWtXW1jp/tlgsjfYPmJ3j/zXgQo7eoEfQ3uhFuAL6EK6CXoQroA/hKq5UL3aY0G/9+vWy2WyaO3dug8BPkqZNm6bU1FRt3LhRU6dO1VdffSW73a4ZM2Y0CPykc7+Q8wO5tLQ0ubu7a9asWQ1+WQMGDNC4ceP09ddfa9u2bYqLi2uwn8mTJzsDP0myWq2KjY1VSkqKDh482Gzot3r1aqWkpDR4rqVLl17aCwJc5YKCgtq7BLi4Xr16tXcJgCR6Ea6BPoSroBfhCuhDuIq27sUOE/rt27dPkpSZmak9e/Y0Wu/u7q68vDxJ0v79+yVJ0dHRze6zqqpKRUVF6t27t3r06NFofWRkpL7++msdPny4Ueg3cODARts79lFVVdXs88bHx2vKlCnOn/mWAh1RQUFBe5cAF2WxWNSrVy8VFhbKbre3dznowOhFuAL6EK6CXoQroA/hKi7Wix4eHgoICDDseTpM6FdRUSFJWrVqVYvbVlVVyWKxqFu3bs1uV11dLUkX3a579+7O/V2oqdNx3d3dJUn19fXNPq+np6c8PT2b3QYwO96k0RK73U6fwCXQi3AF9CFcBb0IV0AfwlW0dS92mNDPEbK98847LV7/ztfXV3a7XWVlZc2eZuvYT1lZWZPrHct9fHwuvWAAAAAAAADgMrm1dwFXSmhoqKRfTvNtzqBBgySdOxW4OT4+PgoMDFRhYaFKSkoarc/OzpYk9e/f/xKrBQAAAAAAAC5fhwn9Jk6cKHd3d61YsUInTpxotL6yslKHDh1ybuvm5qYPP/xQxcXFDbaz2+0NAr5x48bJZrNp5cqVDaZkHjlyRGlpafLx8dHIkSPbaFQAAAAAAABAYx3m9N6QkBDNmzdPy5cv1/z583XttdeqV69eqq6u1s8//6ycnByNGzdODzzwgEJCQnT//ffr7bff1hNPPKGRI0cqICBAZWVl2rt3r0aMGKH7779f0rk7/+7cuVPp6enKy8tTVFSUysvLtXnzZtlsNj3yyCMtnk4MAAAAAAAAGKnDhH6SNGHCBPXv31+pqanau3evduzYIR8fH/Xs2VO33367xo0b59x20qRJ6tu3rz799FPt3r1bNTU18vPz0+DBgzV27FjndlarVc8++6zWrFmjTZs26bPPPpOXl5ciIiIUHx+voUOHtsdQAQAAAAAA0IFZ7NyyxjRGvDFCuwp3tXcZwBWR9/u89i4BLspisSgoKEgFBQXclQ3til6EK6AP4SroRbgC+hCu4mK96OnpqYCAAMOep8Nc0w8AAAAAAADoKAj9AAAAAAAAAJMh9AMAAAAAAABMhtAPAAAAAAAAMBlCPwAAAAAAAMBkCP0AAAAAAAAAkyH0AwAAAAAAAEyG0A8AAAAAAAAwGUI/AAAAAAAAwGQ82rsAGOfLO79UbW1te5eBDsxisSgoKEgFBQWy2+3tXQ4AAAAAAB0WM/0AAAAAAAAAkyH0AwAAAAAAAEyG0A8AAAAAAAAwGUI/AAAAAAAAwGQI/QAAAAAAAACTIfQDAAAAAAAATIbQDwAAAAAAADAZQj8AAAAAAADAZAj9AAAAAAAAAJMh9AMAAAAAAABMhtAPAAAAAAAAMBlCPwAAAAAAAMBkCP0AAAAAAAAAkyH0AwAAAAAAAEyG0A8AAAAAAAAwGUI/AAAAAAAAwGQI/QAAAAAAAACTIfQDAAAAAAAATIbQDwAAAAAAADAZQj8AAAAAAADAZAj9AAAAAAAAAJMh9AMAAAAAAABMhtAPAAAAAAAAMBlCPwAAAAAAAMBkCP0AAAAAAAAAkyH0AwAAAAAAAEyG0A8AAAAAAAAwGUI/AAAAAAAAwGQI/QAAAAAAAACTIfQDAAAAAAAATMajvQuAcTw8+HXCNdCLcAX0IVwFvQhXQB/CVdCLcAX0IVzFhb1odG9a7Ha73dA94oqrra2Vp6dne5cBAAAAAAAAF8HpvSZQW1ur119/XdXV1e1dCjq46upq/fnPf6YX0a7oQ7gKehGugD6Eq6AX4QroQ7iKK9WLhH4msXHjRjFpE+3Nbrfr0KFD9CLaFX0IV0EvwhXQh3AV9CJcAX0IV3GlepHQDwAAAAAAADAZQj8AAAAAAADAZAj9TMDT01PTp0/nZh5od/QiXAF9CFdBL8IV0IdwFfQiXAF9CFdxpXqRu/cCAAAAAAAAJsNMPwAAAAAAAMBkCP0AAAAAAAAAkyH0AwAAAAAAAEzGo70LQNP279+vjz76SLm5ubLZbAoJCdHtt9+umJiYX72P2tparVmzRunp6Tp58qQ6d+6sESNGaMaMGfLz82vD6mEWre3DwsJCpaen69ChQzp48KBKS0sVEBCgZcuWtXHlMJvW9KLdbtfu3bu1fft25ebmqri4WDabTUFBQRo7dqymTJkiq9V6BUaBq11rj4m7du1SWlqaDh8+rLKyMtXV1alnz54aMmSIfvOb3yg4OLiNRwCzMOJz4vkqKir05JNPqrS0VNHR0UpMTDS4YphRa/vw22+/1T//+c+Lrl+4cKEiIyONKhcmZtQxsby8XKtXr9bOnTt18uRJeXl5KSgoSOPGjdPEiRPbqHqYSWt78eGHH1ZxcXGz2zz33HMKDw//1TUR+rmgrKwsLVmyRFarVTExMfL29tbWrVv12muv6eTJk5o6dWqL+6ivr9dLL72kzMxMhYaGavTo0SooKNCGDRuc++/atesVGA2uVkb04Y8//qiUlBS5ubmpd+/eKisra/vCYTqt7cXa2lq9+OKL8vT0VEREhKKjo1VbW6vMzEx9+OGH2rZtmxYtWiQvL68rNCJcjYw4Ju7atUv79u3T4MGDNXz4cHl4eOj48eNKS0vT999/r6efflpRUVFXYDS4mhnRixdasWKFqqqq2qBamJWRfXj99derf//+jZYHBAQYWDHMyqhePHz4sJKSklRZWalrr71WY8aMUU1NjfLy8rRjxw5CP7TIiF6cPHmyKisrGy0/ffq0vvzyS/n6+mrQoEGXVBd373UxNptNjz/+uEpKSrRkyRLnG2BVVZWefvppFRcX6/XXX2/xTfCbb77Rv/71L8XGxuqxxx6TxWKRJK1bt07Lly/XhAkT9MADD7T1cHCVMqoPi4qKVF5erv79+8tqtWrWrFnq1q0bM/3wqxnRi3V1dfrkk080ceJEde7cucHyl19+WTt27NDs2bM1bdq0th4OrlJGHRPPnj3b5KzSPXv2aPHixRo0aJBefPHFthgCTMKoXjzfli1b9Morr2ju3LlasWIFM/3QIqP60DHT76GHHtL48ePbvnCYjlG9WFVVpaeeekpnz57VM888o379+jV6Hnd397YaBkygLd6fz/fpp5/qvffe06RJkzR37txLeizX9HMxWVlZKioqUmxsbINvvHx8fBQfH6+6ujqlpaW1uJ+vv/5aknTPPfc4Az9JuuWWWxQYGKjvvvtOZ8+eNbx+mINRfRgYGKiwsDBOncRlM6IXPTw8dOeddzYI/BzL4+PjJUk5OTmG1w7zMOqYeLFj4bBhw+Tr66vCwkKjSoZJGdWLDqdOndLy5csVFxenESNGtEHFMCOj+xC4XEb14rp163TixAndc889jQI/SQR+aFFbHxc3bNggSbrpppsu+bGc3utisrOzJUnR0dGN1g0fPlxSy3+cnj17Vvv27VNwcHCjJNlisWjYsGH66quvdODAgUs6FxwdhxF9CBihrXvR8SHOzY3vwHBxbd2HP/30kyorKzV06NDL3gc6BqN78c0335Sbm5vuv/9+Tu/Fr2Z0Hx46dEinT5+WzWbTNddco2HDhqlLly6G1ApzM6oXN23aJIvFojFjxig/P1+ZmZk6e/asevfu7bwcB9CctvysmJubq7y8PA0aNKjJSyG0hO51MY5v+YOCghqt69atmzp16qSCgoJm91FUVCS73a5evXo1ud6x74KCAkI/NMmIPgSM0Na9+M0330hq+g0acDC6DzMzM5Wbm6u6ujoVFBRo586d6tKli+677z7DaoY5GdmL6enpysjI0IIFC9S5c2dCP/xqRh8T165d2+Bnq9Wq6dOn64477mhVnTA/I3qxrq5OR48eVdeuXbV27VolJyfr/CugBQYGasGCBQoJCTG2eJhKW/7N0ppZfhKhn8txfODy8fFpcr23t3eLH8p+zT7O3w64kBF9CBihLXtx165dWr9+vXr37n3Zb6LoGIzuw8zMTKWmpjp/7tWrlx5//HENHDiwdYXC9IzqxZKSEr399tuKjY3VyJEjDa0R5mdUH15zzTWaO3euoqOj1aNHD1VUVCgrK0srV67UypUr5eXlpdtuu83Q2mEuRvRiRUWF6uvrdfr0aaWkpGj27NmKi4uTzWbT+vXrtWrVKi1dulSvvvoqlyzCRbXV3yw1NTXavHmzvLy8FBsbe1m1cT4TAKDD2b9/v1577TX5+PjoiSeekKenZ3uXhA5kzpw5Sk5O1rvvvqsXXnhBwcHBeuaZZ/T999+3d2noIN544w15eHjod7/7XXuXgg4sIiJCkyZNUlBQkKxWq/z9/RUXF6fExER5enrqo48+ks1ma+8yYXL19fXO/956662aOnWq/Pz85O/vr9/+9rcaM2aMiouLtWXLlnauFB3Rpk2bVFNTozFjxlw0UGwJoZ+LcfwiL5YCV1dXt/jL/jX7OH874EJG9CFghLboxQMHDmjJkiWyWCxKTExU3759W10nzK2tjomdOnXS4MGDtWDBAgUHB+uNN97QqVOnWlUrzM2IXvz222+1a9cuzZs3T127djW8RphfW39O7Nu3r4YOHaqKigrl5eVd9n5gfkb+7SxJ119/faP1jmUHDx683DLRAbTVcdFxau/NN9982bUR+rkYx3X4mjrfu6ysTDU1NU2eJ36+wMBAWSyWi94F0LHvlvaDjsuIPgSMYHQvHjhwQElJSaqvr1diYqIGDx5sWK0wr7Y+Jrq7uysyMlJnzpzRgQMHLns/MD8jevHw4cOSpFdeeUUJCQnOf4888oikc6efJyQkaMGCBcYWD9O4Ep8THTfyqKmpadV+YG5G9GKnTp3k7+8vqelJMb6+vpLO3SwTuJi2OC4eP35cP/30k3r37t2qm70R+rmYiIgISec+cF1o9+7dDba5GKvVqsGDBys/P1/FxcUN1tntdu3Zs0deXl4aNGiQMUXDdIzoQ8AIRvbihYFfaGioYXXC3K7EMbG0tFTSL3eUBppiRC+GhYXppptuavQvJiZGktSjRw/ddNNNGj16tLHFwzTa+phYX1/vnFUVEBBw2fuB+RnVi1FRUZLOhSwXciyjF9GctjguOmb53Xjjja2qjdDPxQwbNkyBgYHauHGj85tY6dw00dWrV8vDw0NxcXHO5aWlpcrLy2s0jXTChAmSpJUrVza4+9D69etVVFSkG264gQuR4qKM6kOgtYzqxYMHDyopKUk2m01PP/20wsLCrtQQYAJG9eHFZvHt3r1bGRkZ8vX1pTfRLCN6MSYmRg8++GCjf/fcc48kqU+fPnrwwQc1ffr0KzYuXF2MfG++UH19vd5//30VFhYqMjJS3bt3b7Nx4OpnVC/ecsstkqQ1a9aosrLSubysrEyff/65LBYLX4SgWUb//VxXV6f09HS5u7tr3LhxrarNYj8/EYJLyMrK0pIlS2S1WhUTEyNvb29t3bpVxcXFuvfeezV16lTntsuWLVNaWpoeeughjR8/3rm8vr5eL774ojIzMxUaGqqIiAgVFhYqIyNDAQEBeuGFF7iOC5plRB+eOnVK7733nvPn9PR0Wa1WjRkzxrns3nvvpRfRrNb2YkVFhR599FFVVlZq+PDhTZ7S6+vrq9tvv/1KDQlXISOOiQkJCerbt6/69esnf39/nTlzRkePHtXevXvl7u6uP/7xjxo1alQ7jA5XEyN6sSk///yzHnnkEUVHRysxMbGNR4GrnVHHxH79+ikkJET+/v6qqKhQTk6OCgoK1KNHDy1atEiBgYHtMDpcTYw6Jr777rtKTU1Vjx49dN1118lms2n79u0qLy/XzJkzFR8ff4VHhquNke/PW7Zs0SuvvKJRo0bpqaeealVdHq16NNpEVFSUFi9erOTkZG3atEk2m00hISGaNWuW89SLlri5uelPf/qTPv74Y6Wnp+uzzz5T586ddeONN2rGjBmELGiREX1YU1OjtLS0BsvOnDnTYNndd99NP6JZre3Fqqoq57e2u3fvdk6xP19AQAChH5plxDFx5syZys7OVk5Ojk6dOiWLxaKePXtqwoQJmjx5svr06dPGo4AZGNGLQGsZ0YdTpkzRvn379MMPP6iiokIeHh7q1auX7rzzTk2ZMkWdO3du41HADIw6Js6ZM0chISH68ssvnX+rDBgwQL///e/5Qg6/ipHvz998842k1t3Aw4GZfgAAAAAAAIDJcE0/AAAAAAAAwGQI/QAAAAAAAACTIfQDAAAAAAAATIbQDwAAAAAAADAZQj8AAAAAAADAZAj9AAAAAAAAAJMh9AMAAAAAAABMhtAPAAAAAAAAMBlCPwAAAAAAAMBkCP0AAAAAScnJyUpISFB2dnar9rNo0SIlJCQYVBUAAMDl8WjvAgAAAHDpLjVUSk5ObqNKjLVkyRJlZmYqKSlJYWFhDdZVVFRo3rx5stvtmj9/vmJjYxusr6+v17x583TmzBn9+9//ltVqvZKlX7bk5GSlpKRo4cKFioyMbO9yAACASRD6AQAAXIWmT5/eaNnnn3+uqqqqJtddLSIjI5WZmamcnJxGoV9OTo7sdrssFouys7MbhX5HjhxRZWWlwsPDLyvwmzRpkmJjY9WzZ89WjQEAAMAVEPoBAABchZqa6ZeWlqaqqqqr+tTSqKgoSVJ2drbuuOOOBuuysrJktVoVGRnZ5Cm4jmWXO1uua9eu6tq162U9FgAAwNUQ+gEAAJhcXV2dvvjiC3333XfKz8+XxWJR//79NW3aNF1//fUNtl22bJnS0tL0j3/8QxkZGdqwYYOKiooUGxurhx9+WA8//LAk6e9//7vef/99bdu2TdXV1Ro4cKDuu+8+DRw4UCUlJfrPf/6jH374QdXV1QoPD9e8efMUFBTUYq0DBw6Ut7e3fvzxR9XV1cnD45ePqzk5OQoNDVV0dLR27dqlkpIS+fv7N1gv/RIcXurYmzvNdv369Vq7dq2KiorUtWtXxcbGKiEhQbNnz1ZERIQWLVrU5Ou+atUqpaWlqbS0VAEBAZo8ebJuvfVW5zaLFi1y1v3cc885lwcEBGjZsmUtvl4AAAAXQ+gHAABgYrW1tXrhhReUnZ2t/v3768Ybb5TNZtPOnTv10ksvae7cuZo0aVKjx61YsUL79u3TiBEjdN1118nPz8+5rq6uTosXL1Ztba1iYmJUVlamzZs3a/HixUpKStKSJUvUvXt33XDDDSosLNSOHTv0t7/9Ta+++qrc3Jq/j5ybm5vCw8O1c+dOHThwQEOGDJEknTp1SseOHdPdd9+tiIgISedm9t1www2Szl3Pb+/evfL09FRoaGirxn6h//73v/rf//4nPz8/3XzzzXJ3d9fmzZuVl5fX7ONef/117d+/X9dee63c3Ny0efNmvfXWW3J3d9eECRMkSePHj5d0LrAcN26cAgICJEm+vr4t1gUAANAcQj8AAAATS0lJUXZ2tu666y4lJCTIYrFIkqqrq/X888/r3Xff1ahRoxrMmJOko0eP6qWXXmry+nalpaUaMmSI5s+fL3d3d0nSgAED9P777+uvf/2rxo8frzlz5jifa/ny5Vq3bp22bdum0aNHt1hzZGSkdu7cqezsbGfo57ieX0REhEJCQuTr69sg9Dt8+LAqKysVFRUlT0/PVo39fPn5+Vq9erX8/f21dOlSZ/iZkJCgxMTEZsdRUlKil19+WT4+PpKkyZMn68knn1RqamqD0O/nn39WTk6Oxo8fz408AACAYZr/qhUAAABXrfr6eq1bt06BgYENQi9J8vb21l133aW6ujplZGQ0euzUqVObvaHFnDlznIGfJOdNNWw2m2bMmNHguRzrjhw58qvqdgRf51+3Lzs7W1arVaGhoXJzc9PQoUMbrHecIut4bGvGfr6NGzeqvr5eU6ZMaTDb0dvbW3feeWezj505c6Yz8JOk4OBgDRkyRPn5+aqurm7pZQAAAGgVZvoBAACYVH5+viorK+Xv76+PPvqo0fpTp05JUpOnqQ4ePPii+/X19W0UCHbv3l2SFBQUJC8vrybXlZSU/Kq6+/fvL19fX/3000/O6/plZ2crNDTUOYsvIiJCO3bs0IkTJ9SzZ89GN/FozdjP5wgqhw4d2mhdU8vON3DgwEbLHLMKKysr5e3t3ezjAQAAWoPQDwAAwKQqKiokSceOHdOxY8cuut2ZM2caLevWrdtFtz9/9pqDY9ZfU0GW4zp+Nput2XrP3z48PFzbt2/X/v37FRQUpOPHj2vs2LHObRzX9cvKylJcXJz27t0rLy8vZ1jZmrGfzzEj7/xZfg5NLTtfc69TfX19s48FAABoLUI/AAAAk3KETqNHj9aTTz7ZztVcmsjISG3fvl1ZWVnOGYLnX+9uwIAB8vb2VnZ2tkJCQlRVVaXo6Gjn3X6NGrsjxCwvL3feZMOhvLz8svcLAADQ1rimHwAAgEn17t1b3t7eOnjwoOrq6tq7nEviCPhycnKUk5PT4K68khpc1+/CU3sl48ber18/SVJubm6jdU0tuxyOmZDM/gMAAEYi9AMAADApd3d3TZw4UcXFxXrvvfeaDL+OHj3qkjPW+vXrpy5duig3N1eZmZkKCwtzXs/PISIiQidOnNC3334rSYqKinKuM2rssbGxslgsSk1NdV4HUJJqamq0atWqVozwF507d5YknTx50pD9AQAASJzeCwAAYGoJCQk6dOiQ1q5dq507dyo8PFx+fn4qKSnR0aNHdeTIESUlJbV4fborzWKxKDw8XBkZGSoqKlJcXFyjbRzX9Tt27Ji8vb0b3TjDiLEHBwfrjjvu0OrVq/XUU09p7Nixcnd319atWxUSEqJjx441uDPw5YiKipLFYtEHH3ygY8eOycfHR76+vpo0aVKr9gsAADo2Qj8AAAAT8/T01F/+8hdt2LBBaWlp2rp1q+rq6uTn56c+ffrolltuUUhISHuX2aSoqChlZGRIanjqrsPAgQPVqVMn1dTUKDw83HmarINRY585c6Z69OihtWvXav369fLz81NMTIwmT56sHTt2tPouvH369NEf/vAHpaam6osvvlBtba0CAgII/QAAQKtY7Ha7vb2LAAAAAK42P/zwg5KSkjRt2jTNnj27vcsBAABogGv6AQAAAM04depUo5tsVFZW6oMPPpAkjRo1qj3KAgAAaBan9wIAAADN+O677/Tpp58qKipK3bt3V2lpqTIzM1VeXq7x48crLCysvUsEAABohNAPAAAAaMaQIUOUnZ2tPXv2qKKiQm5uburdu7fuuusuTZw4sb3LAwAAaBLX9AMAAAAAAABMhmv6AQAAAAAAACZD6AcAAAAAAACYDKEfAAAAAAAAYDKEfgAAAAAAAIDJEPoBAAAAAAAAJkPoBwAAAAAAAJgMoR8AAAAAAABgMoR+AAAAAAAAgMkQ+gEAAAAAAAAm8/+tF9Q9CUD1HQAAAABJRU5ErkJggg==",
      "text/plain": [
       "<Figure size 1300x800 with 1 Axes>"
      ]
     },
     "metadata": {},
     "output_type": "display_data"
    }
   ],
   "source": [
    "plot_top_term_weights(econ_terms, H, 2, 15)"
   ]
  },
  {
   "cell_type": "code",
   "execution_count": 188,
   "metadata": {},
   "outputs": [],
   "source": [
    "def get_top_snippets(all_snippets, W, topic_index, top):\n",
    "    # reverse sort the values to sort the indices\n",
    "    top_indices = np.argsort( W[:,topic_index] )[::-1]\n",
    "    # now get the snippets corresponding to the top-ranked indices\n",
    "    top_snippets = []\n",
    "    for doc_index in top_indices[0:top]:\n",
    "        top_snippets.append(all_snippets[doc_index])\n",
    "    return top_snippets"
   ]
  },
  {
   "cell_type": "code",
   "execution_count": 232,
   "metadata": {},
   "outputs": [
    {
     "name": "stdout",
     "output_type": "stream",
     "text": [
      "01. Easy bird course. Multiple choice ftw.\n",
      "02. Took online, almost all multiple choice, a lot of questions are common sense\n",
      "03. Super easy if you do it online, there was no midterm and the final was going to be all multiple choi\n",
      "04. Took it as a CSE, highest graded CSE course I have on record. Multiple choice midterm and final exam\n",
      "05. All multiple choice, all about memory and understanding. One of the easiest courses in first year\n",
      "06. Easy course if you NEVER took econ before.. probably extremely boring if you have taken econ before.\n",
      "07. I only went to 3 lectures the entire semester. Works well if you only get multiple choice exams. It'\n",
      "08. Very interesting course because my prof (Packalen) was into the application of learned concepts inst\n",
      "09. Read the text book, do those multiple choice questions from the study guide then you will be all set\n",
      "10. Easy bird course for any student looking to fill an elective. Course goes over a lot of concepts in \n"
     ]
    }
   ],
   "source": [
    "topic_snippets = get_top_snippets(snippets, W, 2, 10)\n",
    "for i, snippet in enumerate(topic_snippets):\n",
    "    print(\"%02d. %s\" % ((i+1), snippet ))"
   ]
  },
  {
   "cell_type": "markdown",
   "metadata": {},
   "source": [
    "# For Positive CS 101 reviews"
   ]
  },
  {
   "cell_type": "code",
   "execution_count": 190,
   "metadata": {},
   "outputs": [
    {
     "data": {
      "text/plain": [
       "['go to office hours and practice',\n",
       " \"Took this in 2018 with no programming experience ever. Started out pretty slow, but I didn't really pay attention and was severely behind. Went to a lot of office hours, but nonetheless caught up and did decently well. After taking more cs courses, racket really is a weird language.\",\n",
       " \"I loved everything about cs 115. Great instructors, fair assignments ( can get tricky but there's a huge amount of office hours to attend ), good engagement and interesting topics! It's seriously well structured and I would recommend it to anyone even with no background in coding.\",\n",
       " 'I recommend finding a course with a language that is actually useful. Racket is dumb and never used anywhere. The majority of the course was quite easy, except a couple of concept checks that were RIDICULOUSLY HARD. i wish i had realized sooner that you get 10% of concept checks dropped from your grade. if you understand everything and are getting most things easily but you get stumped on one particular concept check, its probably not your fault and you should skip it, at least for now. the course was very well structured and predictable. expectations were clear and reasonable. it actually was designed to be a correspondence course, so it wasnt an online course that was rushed and slapped together for covid.',\n",
       " \"I really enjoyed this course online, being co-taught by 4 professors. There were lots of office hours available to help and all of the TA's and Profs in office hours were helpful and kind. While the programming language used is not useful elsewhere, I think it is easy to understand and helped get the point of the course across. In my opinion, the point of this course is to teach you to think about solving problems and the process to go through, as you are not creating ground-breaking programs. As a student with no prior programming experience, I found this course both useful and easy if you kept up with the content and got help as soon as you needed it. The course was organized well, and the built in questions made sure you were on the right track. The assignments are fair based on what you learn. Go in with an open mind and keep up with the content and you should be just fine.\"]"
      ]
     },
     "execution_count": 190,
     "metadata": {},
     "output_type": "execute_result"
    }
   ],
   "source": [
    "CS_rocks = waterloo[(waterloo['course_code'] == 'CS 115') & (waterloo['course_rating']=='liked course')]\n",
    "CS_pos_reviews = CS_rocks['reviews']\n",
    "CS_pos_reviews = CS_pos_reviews.dropna()\n",
    "CS_pos_reviews = CS_pos_reviews.to_list()\n",
    "CS_pos_reviews[0:5]\n"
   ]
  },
  {
   "cell_type": "code",
   "execution_count": 191,
   "metadata": {},
   "outputs": [
    {
     "name": "stdout",
     "output_type": "stream",
     "text": [
      "Created 65 X 152 document-term matrix\n",
      "Vocabulary has 152 distinct terms\n"
     ]
    },
    {
     "data": {
      "text/plain": [
       "['go to office hours and practice',\n",
       " \"Took this in 2018 with no programming experience ever. Started out pretty slow, but I didn't really \",\n",
       " \"I loved everything about cs 115. Great instructors, fair assignments ( can get tricky but there's a \",\n",
       " 'I recommend finding a course with a language that is actually useful. Racket is dumb and never used ',\n",
       " 'I really enjoyed this course online, being co-taught by 4 professors. There were lots of office hour']"
      ]
     },
     "execution_count": 191,
     "metadata": {},
     "output_type": "execute_result"
    }
   ],
   "source": [
    "# use a custom stopwords list, set the minimum term-document frequency to 2\n",
    "vectorizer = CountVectorizer(stop_words = custom_stop_words, min_df=2)\n",
    "A = vectorizer.fit_transform(CS_pos_reviews)\n",
    "print( \"Created %d X %d document-term matrix\" % (A.shape[0], A.shape[1]))\n",
    "\n",
    "terms =  list(vectorizer.get_feature_names_out())\n",
    "print(\"Vocabulary has %d distinct terms\" % len(terms))\n",
    "\n",
    "CS_snippets = [CS_pos_reviews[:100] for CS_pos_reviews in CS_pos_reviews]\n",
    "CS_snippets[0:5]"
   ]
  },
  {
   "cell_type": "code",
   "execution_count": 192,
   "metadata": {},
   "outputs": [
    {
     "data": {
      "text/plain": [
       "['CS-pos-reviews-raw.pkl']"
      ]
     },
     "execution_count": 192,
     "metadata": {},
     "output_type": "execute_result"
    }
   ],
   "source": [
    "joblib.dump((A,terms,CS_snippets), \"CS-pos-reviews-raw.pkl\") "
   ]
  },
  {
   "cell_type": "code",
   "execution_count": 193,
   "metadata": {},
   "outputs": [
    {
     "name": "stdout",
     "output_type": "stream",
     "text": [
      "Created 65 X 152 TF-IDF-normalized document-term matrix\n",
      "Vocabulary has 152 distinct terms\n"
     ]
    }
   ],
   "source": [
    "# we can pass in the same preprocessing parameters\n",
    "vectorizer = TfidfVectorizer(stop_words=custom_stop_words, min_df = 2)\n",
    "A = vectorizer.fit_transform(CS_pos_reviews)\n",
    "print( \"Created %d X %d TF-IDF-normalized document-term matrix\" % (A.shape[0], A.shape[1]) )\n",
    "\n",
    "terms =  list(vectorizer.get_feature_names_out())\n",
    "print(\"Vocabulary has %d distinct terms\" % len(terms))"
   ]
  },
  {
   "cell_type": "code",
   "execution_count": 194,
   "metadata": {},
   "outputs": [
    {
     "data": {
      "text/plain": [
       "['100',\n",
       " '102',\n",
       " '80',\n",
       " '90',\n",
       " '90s',\n",
       " '95',\n",
       " 'answer',\n",
       " 'aplia',\n",
       " 'application',\n",
       " 'bad',\n",
       " 'bank',\n",
       " 'before',\n",
       " 'best',\n",
       " 'better',\n",
       " 'boost',\n",
       " 'booster',\n",
       " 'boring',\n",
       " 'buy',\n",
       " 'case',\n",
       " 'choice',\n",
       " 'classes',\n",
       " 'common',\n",
       " 'concept',\n",
       " 'concepts',\n",
       " 'consuming',\n",
       " 'content',\n",
       " 'courses',\n",
       " 'days',\n",
       " 'decent',\n",
       " 'definitely',\n",
       " 'difficult',\n",
       " 'doing',\n",
       " 'easier',\n",
       " 'easiest',\n",
       " 'easy',\n",
       " 'econ',\n",
       " 'economics',\n",
       " 'ended',\n",
       " 'entire',\n",
       " 'exam',\n",
       " 'exams',\n",
       " 'extremely',\n",
       " 'fairly',\n",
       " 'felt',\n",
       " 'final',\n",
       " 'finals',\n",
       " 'fun',\n",
       " 'going',\n",
       " 'good',\n",
       " 'got',\n",
       " 'grade',\n",
       " 'graded',\n",
       " 'graphs',\n",
       " 'great',\n",
       " 'guaranteed',\n",
       " 'guide',\n",
       " 'hard',\n",
       " 'help',\n",
       " 'helped',\n",
       " 'high',\n",
       " 'hours',\n",
       " 'important',\n",
       " 'interesting',\n",
       " 'introduction',\n",
       " 'keep',\n",
       " 'know',\n",
       " 'kumase',\n",
       " 'larry',\n",
       " 'learn',\n",
       " 'learning',\n",
       " 'lecture',\n",
       " 'lectures',\n",
       " 'life',\n",
       " 'light',\n",
       " 'liked',\n",
       " 'little',\n",
       " 'long',\n",
       " 'lot',\n",
       " 'lots',\n",
       " 'low',\n",
       " 'mark',\n",
       " 'marks',\n",
       " 'material',\n",
       " 'mc',\n",
       " 'memorizing',\n",
       " 'memory',\n",
       " 'microeconomics',\n",
       " 'mid',\n",
       " 'midterm',\n",
       " 'midterms',\n",
       " 'multiple',\n",
       " 'myeconlab',\n",
       " 'notes',\n",
       " 'online',\n",
       " 'optional',\n",
       " 'overall',\n",
       " 'people',\n",
       " 'perfect',\n",
       " 'point',\n",
       " 'practice',\n",
       " 'prior',\n",
       " 'probably',\n",
       " 'problems',\n",
       " 'professor',\n",
       " 'question',\n",
       " 'questions',\n",
       " 'quiz',\n",
       " 'quizzes',\n",
       " 'read',\n",
       " 'reading',\n",
       " 'readings',\n",
       " 'recommend',\n",
       " 'recommended',\n",
       " 'rest',\n",
       " 'review',\n",
       " 'school',\n",
       " 'sense',\n",
       " 'sessions',\n",
       " 'simple',\n",
       " 'skipped',\n",
       " 'slides',\n",
       " 'smith',\n",
       " 'spent',\n",
       " 'straight',\n",
       " 'student',\n",
       " 'students',\n",
       " 'studied',\n",
       " 'study',\n",
       " 'studying',\n",
       " 'taken',\n",
       " 'taught',\n",
       " 'terms',\n",
       " 'test',\n",
       " 'textbook',\n",
       " 'think',\n",
       " 'time',\n",
       " 'took',\n",
       " 'trust',\n",
       " 'try',\n",
       " 'understand',\n",
       " 'understanding',\n",
       " 'useful',\n",
       " 'useless',\n",
       " 'want',\n",
       " 'wanted',\n",
       " 'way',\n",
       " 'week',\n",
       " 'weekly',\n",
       " 'wokia',\n",
       " 'work',\n",
       " 'works']"
      ]
     },
     "execution_count": 194,
     "metadata": {},
     "output_type": "execute_result"
    }
   ],
   "source": [
    "econ_terms"
   ]
  },
  {
   "cell_type": "code",
   "execution_count": 195,
   "metadata": {},
   "outputs": [
    {
     "data": {
      "text/plain": [
       "['115',\n",
       " '135',\n",
       " 'amount',\n",
       " 'annoying',\n",
       " 'aside',\n",
       " 'ask',\n",
       " 'assignments',\n",
       " 'attend',\n",
       " 'attention',\n",
       " 'available',\n",
       " 'background',\n",
       " 'bad',\n",
       " 'based',\n",
       " 'basics',\n",
       " 'before',\n",
       " 'behind',\n",
       " 'better',\n",
       " 'challenge',\n",
       " 'check',\n",
       " 'checks',\n",
       " 'coded',\n",
       " 'codes',\n",
       " 'coding',\n",
       " 'computer',\n",
       " 'concept',\n",
       " 'concepts',\n",
       " 'content',\n",
       " 'courses',\n",
       " 'covid',\n",
       " 'data',\n",
       " 'definitely',\n",
       " 'design',\n",
       " 'difficult',\n",
       " 'due',\n",
       " 'easiest',\n",
       " 'easily',\n",
       " 'easy',\n",
       " 'enjoyed',\n",
       " 'especially',\n",
       " 'everything',\n",
       " 'examples',\n",
       " 'exams',\n",
       " 'experience',\n",
       " 'fair',\n",
       " 'finding',\n",
       " 'follow',\n",
       " 'fun',\n",
       " 'future',\n",
       " 'getting',\n",
       " 'good',\n",
       " 'great',\n",
       " 'hard',\n",
       " 'help',\n",
       " 'helpful',\n",
       " 'hours',\n",
       " 'interesting',\n",
       " 'intro',\n",
       " 'introduction',\n",
       " 'introductory',\n",
       " 'keep',\n",
       " 'know',\n",
       " 'labs',\n",
       " 'language',\n",
       " 'languages',\n",
       " 'learn',\n",
       " 'learned',\n",
       " 'leave',\n",
       " 'lectures',\n",
       " 'little',\n",
       " 'long',\n",
       " 'lot',\n",
       " 'major',\n",
       " 'majority',\n",
       " 'material',\n",
       " 'midterm',\n",
       " 'mind',\n",
       " 'modules',\n",
       " 'nice',\n",
       " 'notes',\n",
       " 'offer',\n",
       " 'office',\n",
       " 'okay',\n",
       " 'online',\n",
       " 'organized',\n",
       " 'overall',\n",
       " 'part',\n",
       " 'pay',\n",
       " 'people',\n",
       " 'person',\n",
       " 'personally',\n",
       " 'please',\n",
       " 'practice',\n",
       " 'prior',\n",
       " 'probably',\n",
       " 'problem',\n",
       " 'problems',\n",
       " 'professors',\n",
       " 'profs',\n",
       " 'program',\n",
       " 'programming',\n",
       " 'programs',\n",
       " 'provides',\n",
       " 'questions',\n",
       " 'quite',\n",
       " 'racket',\n",
       " 'read',\n",
       " 'reading',\n",
       " 'realized',\n",
       " 'recipe',\n",
       " 'recommend',\n",
       " 'recursion',\n",
       " 'relatively',\n",
       " 'rewarding',\n",
       " 'right',\n",
       " 'scheme',\n",
       " 'science',\n",
       " 'set',\n",
       " 'skip',\n",
       " 'solving',\n",
       " 'someone',\n",
       " 'something',\n",
       " 'start',\n",
       " 'starting',\n",
       " 'structured',\n",
       " 'stuck',\n",
       " 'student',\n",
       " 'students',\n",
       " 'ta',\n",
       " 'tas',\n",
       " 'taught',\n",
       " 'teach',\n",
       " 'teaches',\n",
       " 'term',\n",
       " 'tests',\n",
       " 'thing',\n",
       " 'things',\n",
       " 'think',\n",
       " 'time',\n",
       " 'times',\n",
       " 'took',\n",
       " 'tough',\n",
       " 'tricky',\n",
       " 'trust',\n",
       " 'understand',\n",
       " 'useful',\n",
       " 'useless',\n",
       " 'way',\n",
       " 'website',\n",
       " 'weekly',\n",
       " 'weird',\n",
       " 'work',\n",
       " 'writing']"
      ]
     },
     "execution_count": 195,
     "metadata": {},
     "output_type": "execute_result"
    }
   ],
   "source": [
    "terms"
   ]
  },
  {
   "cell_type": "code",
   "execution_count": 196,
   "metadata": {},
   "outputs": [],
   "source": [
    "def rank_terms(A, term):\n",
    "    # get the sums over each column\n",
    "    sums = A.sum(axis=0)\n",
    "    # map weights to the terms\n",
    "    weights = {}\n",
    "    for col, term in enumerate(terms):\n",
    "        weights[term] = sums[0,col]\n",
    "    # rank the terms by their weight over all documents\n",
    "    return sorted(weights.items(), key=operator.itemgetter(1), reverse=True)"
   ]
  },
  {
   "cell_type": "code",
   "execution_count": 197,
   "metadata": {},
   "outputs": [
    {
     "name": "stdout",
     "output_type": "stream",
     "text": [
      "01. easy (6.75)\n",
      "02. good (4.44)\n",
      "03. assignments (4.29)\n",
      "04. programming (4.22)\n",
      "05. racket (4.12)\n",
      "06. fun (3.32)\n",
      "07. time (3.17)\n",
      "08. experience (2.71)\n",
      "09. hours (2.36)\n",
      "10. help (2.25)\n",
      "11. concepts (2.24)\n",
      "12. scheme (2.21)\n",
      "13. interesting (2.15)\n",
      "14. difficult (2.13)\n",
      "15. office (2.04)\n",
      "16. language (1.87)\n",
      "17. questions (1.84)\n",
      "18. science (1.82)\n",
      "19. overall (1.81)\n",
      "20. online (1.74)\n"
     ]
    }
   ],
   "source": [
    "ranking = rank_terms(A, terms)\n",
    "for i, pair in enumerate(ranking[0:20]):\n",
    "    print( \"%02d. %s (%.2f)\" % (i+1, pair[0], pair[1] ))"
   ]
  },
  {
   "cell_type": "code",
   "execution_count": 198,
   "metadata": {},
   "outputs": [
    {
     "data": {
      "text/plain": [
       "['CS-pos-reviews-tfidf.pkl']"
      ]
     },
     "execution_count": 198,
     "metadata": {},
     "output_type": "execute_result"
    }
   ],
   "source": [
    "joblib.dump((A,terms,CS_snippets), \"CS-pos-reviews-tfidf.pkl\") "
   ]
  },
  {
   "cell_type": "code",
   "execution_count": 199,
   "metadata": {},
   "outputs": [
    {
     "name": "stdout",
     "output_type": "stream",
     "text": [
      "Loaded 65 X 152 document-term matrix\n"
     ]
    }
   ],
   "source": [
    "(A, terms, CS_snippets) = joblib.load(\"CS-pos-reviews-tfidf.pkl\")\n",
    "print(\"Loaded %d X %d document-term matrix\" % (A.shape[0], A.shape[1]))"
   ]
  },
  {
   "cell_type": "code",
   "execution_count": 200,
   "metadata": {},
   "outputs": [
    {
     "data": {
      "text/plain": [
       "array([0.  , 0.  , 0.03, 0.25])"
      ]
     },
     "execution_count": 200,
     "metadata": {},
     "output_type": "execute_result"
    }
   ],
   "source": [
    "k=4\n",
    "# create the model, specifiying the initialization strategy and the number of topics to produce\n",
    "model = decomposition.NMF(init=\"nndsvd\", n_components=k) \n",
    "# apply the model and extract the two factor matrices\n",
    "W_CS = model.fit_transform( A )\n",
    "H_CS = model.components_\n",
    "\n",
    "# round to 2 decimal places for display purposes\n",
    "W_CS[0,:].round(2)\n",
    "\n"
   ]
  },
  {
   "cell_type": "code",
   "execution_count": 201,
   "metadata": {},
   "outputs": [
    {
     "data": {
      "text/plain": [
       "array([0.08, 0.  , 0.  , 0.08])"
      ]
     },
     "execution_count": 201,
     "metadata": {},
     "output_type": "execute_result"
    }
   ],
   "source": [
    "H_CS[:,term_index].round(2)"
   ]
  },
  {
   "cell_type": "code",
   "execution_count": 202,
   "metadata": {},
   "outputs": [],
   "source": [
    "def get_descriptor(terms, H_CS, topic_index, top):\n",
    "    # reverse sort the values to sort the indices\n",
    "    top_indices = np.argsort(H_CS[topic_index,:])[::-1]\n",
    "    # now get the terms corresponding to the top-ranked indices\n",
    "    top_terms = []\n",
    "    for term_index in top_indices[0:top]:\n",
    "        top_terms.append(terms[term_index])\n",
    "    return top_terms"
   ]
  },
  {
   "cell_type": "code",
   "execution_count": 203,
   "metadata": {},
   "outputs": [
    {
     "name": "stdout",
     "output_type": "stream",
     "text": [
      "Topic 01: easy, assignments, interesting, relatively, material, notes, labs, keep, little, overall\n",
      "Topic 02: programming, racket, good, experience, concepts, language, science, computer, introduction, useful\n",
      "Topic 03: fun, codes, writing, enjoyed, scheme, overall, languages, language, lot, hard\n",
      "Topic 04: time, assignments, help, online, hours, office, content, weekly, questions, tas\n"
     ]
    }
   ],
   "source": [
    "descriptors = []\n",
    "for topic_index in range(k):\n",
    "    descriptors.append(get_descriptor( terms, H_CS, topic_index, 10))\n",
    "    str_descriptor = \", \".join(descriptors[topic_index])\n",
    "    print(\"Topic %02d: %s\" % (topic_index+1, str_descriptor))"
   ]
  },
  {
   "cell_type": "markdown",
   "metadata": {},
   "source": [
    "Topic 01: Pretty easy (Difficulty)\n",
    "\n",
    "Topic 02: Programming\n",
    "\n",
    "Topic 03: Fun (Enjoyability)\n",
    "\n",
    "Topic 04: Time Management & Help"
   ]
  },
  {
   "cell_type": "code",
   "execution_count": 204,
   "metadata": {},
   "outputs": [],
   "source": [
    "def plot_top_term_weights(terms, H_CS, topic_index, top):\n",
    "    # get the top terms and their weights\n",
    "    top_indices = np.argsort(H_CS[topic_index,:])[::-1]\n",
    "    top_terms = []\n",
    "    top_weights = []\n",
    "    for term_index in top_indices[0:top]:\n",
    "        top_terms.append(terms[term_index])\n",
    "        top_weights.append(H_CS[topic_index,term_index])\n",
    "    # note we reverse the ordering for the plot\n",
    "    top_terms.reverse()\n",
    "    top_weights.reverse()\n",
    "    # create the plot\n",
    "    fig = plt.figure(figsize=(13,8))\n",
    "    # add the horizontal bar chart\n",
    "    ypos = np.arange(top)\n",
    "    ax = plt.barh(ypos, top_weights, align=\"center\", color=\"green\",tick_label=top_terms)\n",
    "    plt.xlabel(\"Term Weight\",fontsize=14)\n",
    "    plt.tight_layout()\n",
    "    plt.show()"
   ]
  },
  {
   "cell_type": "code",
   "execution_count": 205,
   "metadata": {},
   "outputs": [
    {
     "data": {
      "image/png": "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",
      "text/plain": [
       "<Figure size 1300x800 with 1 Axes>"
      ]
     },
     "metadata": {},
     "output_type": "display_data"
    }
   ],
   "source": [
    "plot_top_term_weights(terms, H_CS, 3, 15)"
   ]
  },
  {
   "cell_type": "code",
   "execution_count": 230,
   "metadata": {},
   "outputs": [
    {
     "name": "stdout",
     "output_type": "stream",
     "text": [
      "01. I took this course online due to the COVID-19 pandemic, so my review is based on a remote, online learning experience. Overall, as someone who is not a CS student and who doesn't have a lot of background experience and knowledge in programming, it's a great introductory course to the language of Racket and the overall concepts that will be useful in later computer science courses. The Racket language itself is not a very \"useful\" language that you may or may not use in later CS courses and even in a job, but the foundation it provides is very valuable and will definitely make you think more mathematically at programming problems. The difficulty of this course starts to increase after the midterm exam, and it does get pretty tough nearing the end. I recommend starting the assignments as early as possible and attend as many office hours if you have any questions. The course staff are very responsive and do offer a good amount of help depending on your questions. Overall, I can't say much about the in-person learning experience, but this course was suited well for online learning and I enjoyed it.\n",
      "02. Took this in 2018 with no programming experience ever. Started out pretty slow, but I didn't really pay attention and was severely behind. Went to a lot of office hours, but nonetheless caught up and did decently well. After taking more cs courses, racket really is a weird language.\n",
      "03. Not a bird course, although if you have background in programming it would not be difficult at all. Racket is somewhat useless but I learned some concepts that will be useful for other programming languages\n",
      "04. I recommend finding a course with a language that is actually useful. Racket is dumb and never used anywhere. The majority of the course was quite easy, except a couple of concept checks that were RIDICULOUSLY HARD. i wish i had realized sooner that you get 10% of concept checks dropped from your grade. if you understand everything and are getting most things easily but you get stumped on one particular concept check, its probably not your fault and you should skip it, at least for now. the course was very well structured and predictable. expectations were clear and reasonable. it actually was designed to be a correspondence course, so it wasnt an online course that was rushed and slapped together for covid.\n",
      "05. The only way to do bad in this course is by not managing ur time properly. This is a mistake I made when we had to work with modules. As long as u properly manage ur time and do assignments and concept checks well before the due date, you will have a great time in this course. Also try finding connections between assignments and try finding some real world applications of racket. Trust me Racket is very useful. The only criticism I have of this course is how the course is taught because it wasn't taught. (this is when I did online.) I had to understand all concepts by myself by basically reading texts. Although There was plenty of opportunity like office hours to ask for help, I only realized that towards the end of the term. Very unfortunate :(\n",
      "06. Nice course that teaches you how to write simple code. But little annoying that you have to do Design Recipe (especially writing an explanation for codes). There is no loop in DrRacket so being able to understand recursion is important. All course contents are based on a website and you have to read everything and code something on that website. Pity that this course will not show many algorithms or data structures. So far I think those who can just play computer games (i.e. no coding experience but can easily type using the keyboard) can easily get 90+ in this course. If you have ever coded like C, python, java, pascal and so on, easy to get 95+. Idk why the easy rate goes so low but trust me, super easy course if you finish reading the material (okay reading part may be a little boring and CS 135 provide detailed intros which seem not wordy)\n",
      "07. The end of the course became quite tough but otherwise this was pretty manageable. Excellent professors and ISA's who always take our feedback and concerns into consideration to make the course experience better, including having office hours very late at night and very early in the morning. The online platform is also excellent and fun to use.\n",
      "08. I loved everything about cs 115. Great instructors, fair assignments ( can get tricky but there's a huge amount of office hours to attend ), good engagement and interesting topics! It's seriously well structured and I would recommend it to anyone even with no background in coding.\n",
      "09. I really enjoyed this course online, being co-taught by 4 professors. There were lots of office hours available to help and all of the TA's and Profs in office hours were helpful and kind. While the programming language used is not useful elsewhere, I think it is easy to understand and helped get the point of the course across. In my opinion, the point of this course is to teach you to think about solving problems and the process to go through, as you are not creating ground-breaking programs. As a student with no prior programming experience, I found this course both useful and easy if you kept up with the content and got help as soon as you needed it. The course was organized well, and the built in questions made sure you were on the right track. The assignments are fair based on what you learn. Go in with an open mind and keep up with the content and you should be just fine.\n",
      "10. Can be difficult at times, but a very rewarding and fun course. Definitely made me like CS as a non-CS student! Start assignments early and definitely go to office hours. TAs and ISAs are very helpful.\n"
     ]
    }
   ],
   "source": [
    "topic_snippets = get_top_snippets(CS_pos_reviews, W_CS, 1, 10)\n",
    "for i, snippet in enumerate(topic_snippets):\n",
    "    print(\"%02d. %s\" % ((i+1), snippet ))"
   ]
  },
  {
   "cell_type": "markdown",
   "metadata": {},
   "source": [
    "# For Negative CS 101 reviews"
   ]
  },
  {
   "cell_type": "code",
   "execution_count": 207,
   "metadata": {},
   "outputs": [
    {
     "data": {
      "text/plain": [
       "['One of my least favourite courses. Although things were nicely organized, Racket was such an annoying language to use. The one tangible benefit I felt after using Racket was feeling more comfortable with recursion.',\n",
       " 'It starts with a very low pace but after midterm, it gets really fast and I cannot understand the content while reaching the end of term. Racket is restricted by so many things so I feel I lose the freedom of coding. The assignments are extremely hard after midterm, I spent a whole day on them but I can just solve the easiest one. The only positive impression that I have is that the design recipe weighs half so I pass this course successfully.',\n",
       " \"math student who took this course since I had 0 prior programming experience. the course isn't horribly hard, but if you fall behind or don't understand one lesson, everything following will be super challenging. the course was mostly online completing modules, and my biggest criticism is that solutions for lessons are never posted after they are due which makes it super challenging to do the next week's module if you didn't understand/didnt know how to write a specific code for the week. the racket language used in this course is easy to follow but not very useful and isn't used anywhere. this makes it difficult to find help outside of cs115 profs/ta's/past cs115 students. the course is oddly paced, felt the super easy and simple first half of the course, and then gets unreasonably fast. didn't find any of the profs/ta's answers to questions posted on discussion boards useful at all. because the course was only offered online, I had to essentially had to teach the whole course to myself\",\n",
       " \"This course is taught in an archaic language that no one uses and no one understands. Instructors' explanations are irrelevant to actual questions and I got yelled during office hrs even though I stated that I need a little patience (I am disabled). Assignments and quizzes are unreasonably hard. I took to take this for bioinformatics option and decided to change my future career. Truly the worst in UW history. If you don't need this course, run.\",\n",
       " \"It's the worst course ever, online especially. They are least interested to teach. They just provided the content to read by ourselves. I wouldn't suggest anyone to take this course online.\"]"
      ]
     },
     "execution_count": 207,
     "metadata": {},
     "output_type": "execute_result"
    }
   ],
   "source": [
    "CS_sucks = waterloo[(waterloo['course_code'] == 'CS 115') & (waterloo['course_rating']=='disliked course')]\n",
    "CS_neg_reviews = CS_sucks['reviews']\n",
    "CS_neg_reviews = CS_neg_reviews.dropna()\n",
    "CS_neg_reviews = CS_neg_reviews.to_list()\n",
    "CS_neg_reviews[0:5]"
   ]
  },
  {
   "cell_type": "code",
   "execution_count": 208,
   "metadata": {},
   "outputs": [
    {
     "name": "stdout",
     "output_type": "stream",
     "text": [
      "Created 18 X 55 document-term matrix\n",
      "Vocabulary has 55 distinct terms\n"
     ]
    },
    {
     "data": {
      "text/plain": [
       "['One of my least favourite courses. Although things were nicely organized, Racket was such an annoyin',\n",
       " 'It starts with a very low pace but after midterm, it gets really fast and I cannot understand the co',\n",
       " \"math student who took this course since I had 0 prior programming experience. the course isn't horri\",\n",
       " \"This course is taught in an archaic language that no one uses and no one understands. Instructors' e\",\n",
       " \"It's the worst course ever, online especially. They are least interested to teach. They just provide\"]"
      ]
     },
     "execution_count": 208,
     "metadata": {},
     "output_type": "execute_result"
    }
   ],
   "source": [
    "# use a custom stopwords list, set the minimum term-document frequency to 2\n",
    "vectorizer = CountVectorizer(stop_words = custom_stop_words, min_df=2)\n",
    "A = vectorizer.fit_transform(CS_neg_reviews)\n",
    "print( \"Created %d X %d document-term matrix\" % (A.shape[0], A.shape[1]))\n",
    "\n",
    "terms =  list(vectorizer.get_feature_names_out())\n",
    "print(\"Vocabulary has %d distinct terms\" % len(terms))\n",
    "\n",
    "CS_neg_snippets = [CS_neg_reviews[:100] for CS_neg_reviews in CS_neg_reviews]\n",
    "CS_neg_snippets[0:5]"
   ]
  },
  {
   "cell_type": "code",
   "execution_count": 209,
   "metadata": {},
   "outputs": [
    {
     "data": {
      "text/plain": [
       "['CS-neg-reviews-raw.pkl']"
      ]
     },
     "execution_count": 209,
     "metadata": {},
     "output_type": "execute_result"
    }
   ],
   "source": [
    "joblib.dump((A,terms,CS_neg_snippets), \"CS-neg-reviews-raw.pkl\") "
   ]
  },
  {
   "cell_type": "code",
   "execution_count": 210,
   "metadata": {},
   "outputs": [
    {
     "name": "stdout",
     "output_type": "stream",
     "text": [
      "Created 18 X 55 TF-IDF-normalized document-term matrix\n",
      "Vocabulary has 55 distinct terms\n"
     ]
    }
   ],
   "source": [
    "# we can pass in the same preprocessing parameters\n",
    "vectorizer = TfidfVectorizer(stop_words=custom_stop_words, min_df = 2)\n",
    "A = vectorizer.fit_transform(CS_neg_reviews)\n",
    "print( \"Created %d X %d TF-IDF-normalized document-term matrix\" % (A.shape[0], A.shape[1]) )\n",
    "\n",
    "terms =  list(vectorizer.get_feature_names_out())\n",
    "print(\"Vocabulary has %d distinct terms\" % len(terms))"
   ]
  },
  {
   "cell_type": "code",
   "execution_count": 211,
   "metadata": {},
   "outputs": [
    {
     "name": "stdout",
     "output_type": "stream",
     "text": [
      "01. easy (2.19)\n",
      "02. racket (1.57)\n",
      "03. online (1.41)\n",
      "04. midterm (1.37)\n",
      "05. language (1.32)\n",
      "06. hate (1.25)\n",
      "07. difficult (1.18)\n",
      "08. coding (1.03)\n",
      "09. hard (0.95)\n",
      "10. design (0.94)\n",
      "11. took (0.93)\n",
      "12. assignment (0.90)\n",
      "13. lot (0.89)\n",
      "14. marks (0.89)\n",
      "15. assignments (0.89)\n",
      "16. way (0.82)\n",
      "17. courses (0.81)\n",
      "18. teach (0.79)\n",
      "19. learn (0.77)\n",
      "20. recursion (0.77)\n"
     ]
    }
   ],
   "source": [
    "ranking = rank_terms(A, terms)\n",
    "for i, pair in enumerate(ranking[0:20]):\n",
    "    print( \"%02d. %s (%.2f)\" % (i+1, pair[0], pair[1] ))"
   ]
  },
  {
   "cell_type": "code",
   "execution_count": 212,
   "metadata": {},
   "outputs": [
    {
     "data": {
      "text/plain": [
       "['CS-neg-reviews-tfidf.pkl']"
      ]
     },
     "execution_count": 212,
     "metadata": {},
     "output_type": "execute_result"
    }
   ],
   "source": [
    "joblib.dump((A,terms,CS_neg_snippets), \"CS-neg-reviews-tfidf.pkl\") "
   ]
  },
  {
   "cell_type": "code",
   "execution_count": 213,
   "metadata": {},
   "outputs": [
    {
     "name": "stdout",
     "output_type": "stream",
     "text": [
      "Loaded 18 X 55 document-term matrix\n"
     ]
    }
   ],
   "source": [
    "(A, terms, CS_neg_snippets) = joblib.load(\"CS-neg-reviews-tfidf.pkl\")\n",
    "print(\"Loaded %d X %d document-term matrix\" % (A.shape[0], A.shape[1]))"
   ]
  },
  {
   "cell_type": "code",
   "execution_count": 214,
   "metadata": {},
   "outputs": [
    {
     "data": {
      "text/plain": [
       "array([0.06, 0.  , 0.43, 0.17])"
      ]
     },
     "execution_count": 214,
     "metadata": {},
     "output_type": "execute_result"
    }
   ],
   "source": [
    "k=4\n",
    "# create the model, specifiying the initialization strategy and the number of topics to produce\n",
    "model = decomposition.NMF(init=\"nndsvd\", n_components=k) \n",
    "# apply the model and extract the two factor matrices\n",
    "W_CS = model.fit_transform( A )\n",
    "H_CS = model.components_\n",
    "\n",
    "# round to 2 decimal places for display purposes\n",
    "W_CS[0,:].round(2)"
   ]
  },
  {
   "cell_type": "code",
   "execution_count": 215,
   "metadata": {},
   "outputs": [],
   "source": [
    "def get_descriptor(terms, H_CS, topic_index, top):\n",
    "    # reverse sort the values to sort the indices\n",
    "    top_indices = np.argsort(H_CS[topic_index,:])[::-1]\n",
    "    # now get the terms corresponding to the top-ranked indices\n",
    "    top_terms = []\n",
    "    for term_index in top_indices[0:top]:\n",
    "        top_terms.append(terms[term_index])\n",
    "    return top_terms"
   ]
  },
  {
   "cell_type": "code",
   "execution_count": 216,
   "metadata": {},
   "outputs": [
    {
     "name": "stdout",
     "output_type": "stream",
     "text": [
      "Topic 01: easy, coding, useful, math, friend, able, organized, code, lot, courses\n",
      "Topic 02: midterm, assignments, coding, hard, exam, something, way, day, solve, write\n",
      "Topic 03: hate, racket, marks, lose, recipe, design, recursion, things, felt, organized\n",
      "Topic 04: online, language, worst, experience, prior, programming, took, difficult, teach, assignment\n"
     ]
    }
   ],
   "source": [
    "descriptors = []\n",
    "for topic_index in range(k):\n",
    "    descriptors.append(get_descriptor( terms, H_CS, topic_index, 10))\n",
    "    str_descriptor = \", \".join(descriptors[topic_index])\n",
    "    print(\"Topic %02d: %s\" % (topic_index+1, str_descriptor))"
   ]
  },
  {
   "cell_type": "markdown",
   "metadata": {},
   "source": [
    "Topic 1: General difficulty level (some felt hard, some easy, but disliked)\n",
    "\n",
    "Topic 2: Midterm and assignments difficulty\n",
    "\n",
    "Topic 3: Hating racket (programming language)\n",
    "\n",
    "Topic 4: Poor online experience"
   ]
  },
  {
   "cell_type": "code",
   "execution_count": 226,
   "metadata": {},
   "outputs": [
    {
     "data": {
      "image/png": "iVBORw0KGgoAAAANSUhEUgAABP4AAAMKCAYAAAAVpIpBAAAAOXRFWHRTb2Z0d2FyZQBNYXRwbG90bGliIHZlcnNpb24zLjkuMiwgaHR0cHM6Ly9tYXRwbG90bGliLm9yZy8hTgPZAAAACXBIWXMAAA9hAAAPYQGoP6dpAACTjklEQVR4nOzda3wU9d3///cmu+QIIUBCFhASBIQkcj6Hs6CCQOVgFKxKsfbww0uvVm2rFDmrWCztVb2qvWytIkiRKyiiCMghQAAFEk6bACFAICdAA4FACLvJ/m/wz16uSTiUCZsMr+edMjPfmfnM7McLHu/rOzMWt9vtFgAAAAAAAABT8fN1AQAAAAAAAACMR/AHAAAAAAAAmBDBHwAAAAAAAGBCBH8AAAAAAACACRH8AQAAAAAAACZE8AcAAAAAAACYEMEfAAAAAAAAYEIEfwAAAAAAAIAJEfwBAAAAAAAAJkTwBwAAAAAAAJiQ1dcFoG47c+aMXC6Xr8uASUREROj06dO+LgMmQk/BSPQTjEZPwWj0FIxGT8Fo9JQxrFarwsPDr29sDdcCk3O5XHI6nb4uAyZgsVgkXekpt9vt42pgBvQUjEQ/wWj0FIxGT8Fo9BSMRk/5Bo/6AgAAAAAAACZE8AcAAAAAAACYEMEfAAAAAAAAYEIEfwAAAAAAAIAJEfwBAAAAAAAAJkTwBwAAAAAAAJgQwR8AAAAAAABgQgR/AAAAAAAAgAkR/AEAAAAAAAAmRPAHAAAAAAAAmBDBHwAAAAAAAGBCBH8AAAAAAACACRH8AQAAAAAAACZE8AcAAAAAAACYEMEf