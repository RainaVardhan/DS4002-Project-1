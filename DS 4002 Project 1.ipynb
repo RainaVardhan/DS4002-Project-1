{
 "cells": [
  {
   "cell_type": "markdown",
   "metadata": {},
   "source": [
    "# Course Review Topic Modeling"
   ]
  },
  {
   "cell_type": "markdown",
   "metadata": {},
   "source": [
    "## General Topic Modeling"
   ]
  },
  {
   "cell_type": "code",
   "execution_count": 166,
   "metadata": {},
   "outputs": [],
   "source": [
    "import operator, joblib\n",
    "from sklearn.feature_extraction.text import CountVectorizer, TfidfVectorizer\n",
    "import pandas as pd\n",
    "import numpy as np\n",
    "from sklearn import decomposition\n",
    "%matplotlib inline\n",
    "import matplotlib\n",
    "import matplotlib.pyplot as plt\n",
    "# settings for our plots later\n",
    "plt.style.use(\"ggplot\")\n",
    "matplotlib.rcParams.update({\"font.size\": 14})"
   ]
  },
  {
   "cell_type": "markdown",
   "metadata": {},
   "source": [
    "### Load the Data and Custom Stop Words"
   ]
  },
  {
   "cell_type": "code",
   "execution_count": 167,
   "metadata": {},
   "outputs": [
    {
     "data": {
      "text/html": [
       "<div>\n",
       "<style scoped>\n",
       "    .dataframe tbody tr th:only-of-type {\n",
       "        vertical-align: middle;\n",
       "    }\n",
       "\n",
       "    .dataframe tbody tr th {\n",
       "        vertical-align: top;\n",
       "    }\n",
       "\n",
       "    .dataframe thead th {\n",
       "        text-align: right;\n",
       "    }\n",
       "</style>\n",
       "<table border=\"1\" class=\"dataframe\">\n",
       "  <thead>\n",
       "    <tr style=\"text-align: right;\">\n",
       "      <th></th>\n",
       "      <th>course_code</th>\n",
       "      <th>course_title</th>\n",
       "      <th>num_ratings</th>\n",
       "      <th>useful</th>\n",
       "      <th>easy</th>\n",
       "      <th>liked</th>\n",
       "      <th>num_reviews</th>\n",
       "      <th>reviews</th>\n",
       "      <th>course_rating</th>\n",
       "      <th>course_rating_int</th>\n",
       "    </tr>\n",
       "  </thead>\n",
       "  <tbody>\n",
       "    <tr>\n",
       "      <th>0</th>\n",
       "      <td>CS 115</td>\n",
       "      <td>Introduction to Computer Science 1</td>\n",
       "      <td>2111</td>\n",
       "      <td>21%</td>\n",
       "      <td>10%</td>\n",
       "      <td>23%</td>\n",
       "      <td>86</td>\n",
       "      <td>go to office hours and practice</td>\n",
       "      <td>liked course</td>\n",
       "      <td>1.0</td>\n",
       "    </tr>\n",
       "  </tbody>\n",
       "</table>\n",
       "</div>"
      ],
      "text/plain": [
       "  course_code                        course_title  num_ratings useful easy  \\\n",
       "0      CS 115  Introduction to Computer Science 1         2111    21%  10%   \n",
       "\n",
       "  liked  num_reviews                          reviews course_rating  \\\n",
       "0   23%           86  go to office hours and practice  liked course   \n",
       "\n",
       "   course_rating_int  \n",
       "0                1.0  "
      ]
     },
     "execution_count": 167,
     "metadata": {},
     "output_type": "execute_result"
    }
   ],
   "source": [
    "waterloo=pd.read_csv(\"course_data_clean.csv\")\n",
    "waterloo.head(1)"
   ]
  },
  {
   "cell_type": "code",
   "execution_count": 168,
   "metadata": {},
   "outputs": [
    {
     "name": "stdout",
     "output_type": "stream",
     "text": [
      "Stopword list has 364 entries\n"
     ]
    }
   ],
   "source": [
    "custom_stop_words = []\n",
    "with open( \"stopwords copy.txt\", \"r\" ) as fin:\n",
    "    for line in fin.readlines():\n",
    "        custom_stop_words.append(line.strip())\n",
    "# note that we need to make it hashable\n",
    "print(\"Stopword list has %d entries\" % len(custom_stop_words))"
   ]
  },
  {
   "cell_type": "markdown",
   "metadata": {},
   "source": [
    "# For Positive ECON 101 reviews\n"
   ]
  },
  {
   "cell_type": "code",
   "execution_count": 169,
   "metadata": {},
   "outputs": [],
   "source": [
    "ECON_rocks = waterloo[(waterloo['course_code'] == 'ECON 101') & (waterloo['course_rating']=='liked course')]"
   ]
  },
  {
   "cell_type": "code",
   "execution_count": 170,
   "metadata": {},
   "outputs": [
    {
     "data": {
      "text/plain": [
       "['Very simple',\n",
       " 'Took online, almost all multiple choice, a lot of questions are common sense',\n",
       " \"PROS: (1) Readings itself were simple to understand. (2) Nicely arranged content on Learn and Mobius (I took it online). (3) Decent grade, task, and submission period distribution. CONS: (1) Too many readings for a first-time learner of econ. (2) One collective zoom office hour (1 hour long) at the beginning of the week felt very unfair (3) Found a need for more OHs each week and a MS teams GC. (4) Felt isolated from the rest of the class. (5) lack of one-to-one instructional support (unless you email every question). (6) Had to refer to external resources for quicker understanding because readings were too time consuming. (7) Weren't taught at all on how to approach an article/case study. TIPS: (1) Finish all readings in the first two days of the week, (2) repeat quizzes till you get them correct (you get 4 chances per graded quiz every week, please use these well). (3) Don’t just read to study, answer a lot of MCQs.\"]"
      ]
     },
     "execution_count": 170,
     "metadata": {},
     "output_type": "execute_result"
    }
   ],
   "source": [
    "Econ_pos_reviews = ECON_rocks['reviews']\n",
    "Econ_pos_reviews = Econ_pos_reviews.dropna()\n",
    "Econ_pos_reviews = Econ_pos_reviews.to_list()\n",
    "Econ_pos_reviews[0:3]"
   ]
  },
  {
   "cell_type": "code",
   "execution_count": 171,
   "metadata": {},
   "outputs": [
    {
     "name": "stdout",
     "output_type": "stream",
     "text": [
      "Created 98 X 151 document-term matrix\n"
     ]
    }
   ],
   "source": [
    "# use a custom stopwords list, set the minimum term-document frequency to 2\n",
    "vectorizer = CountVectorizer(stop_words = custom_stop_words, min_df=2)\n",
    "A = vectorizer.fit_transform(Econ_pos_reviews)\n",
    "print( \"Created %d X %d document-term matrix\" % (A.shape[0], A.shape[1]))"
   ]
  },
  {
   "cell_type": "code",
   "execution_count": 172,
   "metadata": {},
   "outputs": [
    {
     "name": "stdout",
     "output_type": "stream",
     "text": [
      "Vocabulary has 151 distinct terms\n"
     ]
    }
   ],
   "source": [
    "econ_terms =  list(vectorizer.get_feature_names_out())\n",
    "print(\"Vocabulary has %d distinct terms\" % len(econ_terms))"
   ]
  },
  {
   "cell_type": "code",
   "execution_count": 173,
   "metadata": {},
   "outputs": [
    {
     "data": {
      "text/plain": [
       "['Very simple',\n",
       " 'Took online, almost all multiple choice, a lot of questions are common sense',\n",
       " 'PROS: (1) Readings itself were simple to understand. (2) Nicely arranged content on Learn and Mobius']"
      ]
     },
     "execution_count": 173,
     "metadata": {},
     "output_type": "execute_result"
    }
   ],
   "source": [
    "snippets = [Econ_pos_reviews[:100] for Econ_pos_reviews in Econ_pos_reviews]\n",
    "snippets[0:3]"
   ]
  },
  {
   "cell_type": "code",
   "execution_count": 174,
   "metadata": {},
   "outputs": [
    {
     "data": {
      "text/plain": [
       "['Econ-pos-reviews-raw.pkl']"
      ]
     },
     "execution_count": 174,
     "metadata": {},
     "output_type": "execute_result"
    }
   ],
   "source": [
    "joblib.dump((A,econ_terms,snippets), \"Econ-pos-reviews-raw.pkl\") "
   ]
  },
  {
   "cell_type": "code",
   "execution_count": 175,
   "metadata": {},
   "outputs": [
    {
     "name": "stdout",
     "output_type": "stream",
     "text": [
      "Created 98 X 151 TF-IDF-normalized document-term matrix\n"
     ]
    }
   ],
   "source": [
    "# we can pass in the same preprocessing parameters\n",
    "vectorizer = TfidfVectorizer(stop_words=custom_stop_words, min_df = 2)\n",
    "A = vectorizer.fit_transform(Econ_pos_reviews)\n",
    "print( \"Created %d X %d TF-IDF-normalized document-term matrix\" % (A.shape[0], A.shape[1]) )"
   ]
  },
  {
   "cell_type": "code",
   "execution_count": 176,
   "metadata": {},
   "outputs": [
    {
     "name": "stdout",
     "output_type": "stream",
     "text": [
      "Vocabulary has 151 distinct terms\n"
     ]
    }
   ],
   "source": [
    "econ_terms =  list(vectorizer.get_feature_names_out())\n",
    "print(\"Vocabulary has %d distinct terms\" % len(econ_terms))"
   ]
  },
  {
   "cell_type": "code",
   "execution_count": 177,
   "metadata": {},
   "outputs": [],
   "source": [
    "def rank_terms(A, term):\n",
    "    # get the sums over each column\n",
    "    sums = A.sum(axis=0)\n",
    "    # map weights to the terms\n",
    "    weights = {}\n",
    "    for col, term in enumerate(econ_terms):\n",
    "        weights[term] = sums[0,col]\n",
    "    # rank the terms by their weight over all documents\n",
    "    return sorted(weights.items(), key=operator.itemgetter(1), reverse=True)"
   ]
  },
  {
   "cell_type": "markdown",
   "metadata": {},
   "source": [
    "### Most common words"
   ]
  },
  {
   "cell_type": "code",
   "execution_count": 178,
   "metadata": {},
   "outputs": [
    {
     "name": "stdout",
     "output_type": "stream",
     "text": [
      "01. easy (13.60)\n",
      "02. textbook (5.62)\n",
      "03. concepts (3.80)\n",
      "04. study (3.77)\n",
      "05. good (3.75)\n",
      "06. questions (3.70)\n",
      "07. lectures (3.56)\n",
      "08. choice (3.49)\n",
      "09. multiple (3.49)\n",
      "10. read (3.48)\n",
      "11. economics (3.31)\n",
      "12. interesting (3.29)\n",
      "13. practice (3.01)\n",
      "14. guide (2.99)\n",
      "15. hard (2.90)\n",
      "16. useful (2.82)\n",
      "17. content (2.73)\n",
      "18. simple (2.72)\n",
      "19. boring (2.54)\n",
      "20. high (2.49)\n"
     ]
    }
   ],
   "source": [
    "ranking = rank_terms(A, econ_terms)\n",
    "for i, pair in enumerate(ranking[0:20]):\n",
    "    print( \"%02d. %s (%.2f)\" % (i+1, pair[0], pair[1] ))"
   ]
  },
  {
   "cell_type": "code",
   "execution_count": 179,
   "metadata": {},
   "outputs": [
    {
     "data": {
      "text/plain": [
       "['Econ-pos-reviews-tfidf.pkl']"
      ]
     },
     "execution_count": 179,
     "metadata": {},
     "output_type": "execute_result"
    }
   ],
   "source": [
    "joblib.dump((A,econ_terms,snippets), \"Econ-pos-reviews-tfidf.pkl\") "
   ]
  },
  {
   "cell_type": "code",
   "execution_count": 180,
   "metadata": {},
   "outputs": [
    {
     "name": "stdout",
     "output_type": "stream",
     "text": [
      "Loaded 98 X 151 document-term matrix\n"
     ]
    }
   ],
   "source": [
    "(A, econ_terms, snippets) = joblib.load(\"Econ-pos-reviews-tfidf.pkl\")\n",
    "print(\"Loaded %d X %d document-term matrix\" % (A.shape[0], A.shape[1]))"
   ]
  },
  {
   "cell_type": "code",
   "execution_count": 181,
   "metadata": {},
   "outputs": [],
   "source": [
    "k=4\n",
    "# create the model, specifiying the initialization strategy and the number of topics to produce\n",
    "model = decomposition.NMF(init=\"nndsvd\", n_components=k) \n",
    "# apply the model and extract the two factor matrices\n",
    "W = model.fit_transform( A )\n",
    "H = model.components_"
   ]
  },
  {
   "cell_type": "code",
   "execution_count": 182,
   "metadata": {},
   "outputs": [
    {
     "data": {
      "text/plain": [
       "array([0.  , 0.  , 0.  , 0.17])"
      ]
     },
     "execution_count": 182,
     "metadata": {},
     "output_type": "execute_result"
    }
   ],
   "source": [
    "# round to 2 decimal places for display purposes\n",
    "W[0,:].round(2)"
   ]
  },
  {
   "cell_type": "code",
   "execution_count": 183,
   "metadata": {},
   "outputs": [
    {
     "data": {
      "text/plain": [
       "array([0.  , 0.02, 0.03, 0.07])"
      ]
     },
     "execution_count": 183,
     "metadata": {},
     "output_type": "execute_result"
    }
   ],
   "source": [
    "term_index = econ_terms.index('exam')\n",
    "# round to 2 decimal places for display purposes\n",
    "H[:,term_index].round(2)"
   ]
  },
  {
   "cell_type": "code",
   "execution_count": 184,
   "metadata": {},
   "outputs": [],
   "source": [
    "def get_descriptor(econ_terms, H, topic_index, top):\n",
    "    # reverse sort the values to sort the indices\n",
    "    top_indices = np.argsort(H[topic_index,:])[::-1]\n",
    "    # now get the terms corresponding to the top-ranked indices\n",
    "    top_terms = []\n",
    "    for term_index in top_indices[0:top]:\n",
    "        top_terms.append(econ_terms[term_index])\n",
    "    return top_terms"
   ]
  },
  {
   "cell_type": "code",
   "execution_count": 185,
   "metadata": {},
   "outputs": [
    {
     "name": "stdout",
     "output_type": "stream",
     "text": [
      "Topic 01: easy, boring, light, work, fun, hard, grade\n",
      "Topic 02: textbook, questions, read, study, guide, material, lectures\n",
      "Topic 03: choice, multiple, online, took, exams, final, before\n",
      "Topic 04: economics, concepts, high, good, school, simple, useful\n"
     ]
    }
   ],
   "source": [
    "descriptors = []\n",
    "for topic_index in range(k):\n",
    "    descriptors.append(get_descriptor( econ_terms, H, topic_index, 7))\n",
    "    str_descriptor = \", \".join(descriptors[topic_index])\n",
    "    print(\"Topic %02d: %s\" % (topic_index+1, str_descriptor))"
   ]
  },
  {
   "cell_type": "markdown",
   "metadata": {},
   "source": [
    "Topic 01: Super Easy Class, but Boring\n",
    "\n",
    "Topic 02: Learning tools\n",
    "\n",
    "Topic 3: Exams\n",
    "\n",
    "Topic 4: Course content"
   ]
  },
  {
   "cell_type": "markdown",
   "metadata": {},
   "source": [
    "Note that the topic numbers are arbitrary. Topic 1 is not necessarily more prevalent than topic 2, but these should be like the top 4 topics"
   ]
  },
  {
   "cell_type": "code",
   "execution_count": 186,
   "metadata": {},
   "outputs": [],
   "source": [
    "def plot_top_term_weights(econ_terms, H, topic_index, top):\n",
    "    # get the top terms and their weights\n",
    "    top_indices = np.argsort(H[topic_index,:])[::-1]\n",
    "    top_terms = []\n",
    "    top_weights = []\n",
    "    for term_index in top_indices[0:top]:\n",
    "        top_terms.append(econ_terms[term_index])\n",
    "        top_weights.append(H[topic_index,term_index])\n",
    "    # note we reverse the ordering for the plot\n",
    "    top_terms.reverse()\n",
    "    top_weights.reverse()\n",
    "    # create the plot\n",
    "    fig = plt.figure(figsize=(13,8))\n",
    "    # add the horizontal bar chart\n",
    "    ypos = np.arange(top)\n",
    "    ax = plt.barh(ypos, top_weights, align=\"center\", color=\"green\",tick_label=top_terms)\n",
    "    plt.xlabel(\"Term Weight\",fontsize=14)\n",
    "    plt.tight_layout()\n",
    "    plt.show()"
   ]
  },
  {
   "cell_type": "code",
   "execution_count": 231,
   "metadata": {},
   "outputs": [
    {
     "data": {
      "image/png": "[encoded data removed]",
      "text/plain": [
       "<Figure size 1300x800 with 1 Axes>"
      ]
     },
     "metadata": {},
     "output_type": "display_data"
    }
   ],
   "source": [
    "plot_top_term_weights(econ_terms, H, 2, 15)"
   ]
  },
  {
   "cell_type": "code",
   "execution_count": 188,
   "metadata": {},
   "outputs": [],
   "source": [
    "def get_top_snippets(all_snippets, W, topic_index, top):\n",
    "    # reverse sort the values to sort the indices\n",
    "    top_indices = np.argsort( W[:,topic_index] )[::-1]\n",
    "    # now get the snippets corresponding to the top-ranked indices\n",
    "    top_snippets = []\n",
    "    for doc_index in top_indices[0:top]:\n",
    "        top_snippets.append(all_snippets[doc_index])\n",
    "    return top_snippets"
   ]
  },
  {
   "cell_type": "code",
   "execution_count": 232,
   "metadata": {},
   "outputs": [
    {
     "name": "stdout",
     "output_type": "stream",
     "text": [
      "01. Easy bird course. Multiple choice ftw.\n",
      "02. Took online, almost all multiple choice, a lot of questions are common sense\n",
      "03. Super easy if you do it online, there was no midterm and the final was going to be all multiple choi\n",
      "04. Took it as a CSE, highest graded CSE course I have on record. Multiple choice midterm and final exam\n",
      "05. All multiple choice, all about memory and understanding. One of the easiest courses in first year\n",
      "06. Easy course if you NEVER took econ before.. probably extremely boring if you have taken econ before.\n",
      "07. I only went to 3 lectures the entire semester. Works well if you only get multiple choice exams. It'\n",
      "08. Very interesting course because my prof (Packalen) was into the application of learned concepts inst\n",
      "09. Read the text book, do those multiple choice questions from the study guide then you will be all set\n",
      "10. Easy bird course for any student looking to fill an elective. Course goes over a lot of concepts in \n"
     ]
    }
   ],
   "source": [
    "topic_snippets = get_top_snippets(snippets, W, 2, 10)\n",
    "for i, snippet in enumerate(topic_snippets):\n",
    "    print(\"%02d. %s\" % ((i+1), snippet ))"
   ]
  },
  {
   "cell_type": "markdown",
   "metadata": {},
   "source": [
    "# For Positive CS 101 reviews"
   ]
  },
  {
   "cell_type": "code",
   "execution_count": 190,
   "metadata": {},
   "outputs": [
    {
     "data": {
      "text/plain": [
       "['go to office hours and practice',\n",
       " \"Took this in 2018 with no programming experience ever. Started out pretty slow, but I didn't really pay attention and was severely behind. Went to a lot of office hours, but nonetheless caught up and did decently well. After taking more cs courses, racket really is a weird language.\",\n",
       " \"I loved everything about cs 115. Great instructors, fair assignments ( can get tricky but there's a huge amount of office hours to attend ), good engagement and interesting topics! It's seriously well structured and I would recommend it to anyone even with no background in coding.\",\n",
       " 'I recommend finding a course with a language that is actually useful. Racket is dumb and never used anywhere. The majority of the course was quite easy, except a couple of concept checks that were RIDICULOUSLY HARD. i wish i had realized sooner that you get 10% of concept checks dropped from your grade. if you understand everything and are getting most things easily but you get stumped on one particular concept check, its probably not your fault and you should skip it, at least for now. the course was very well structured and predictable. expectations were clear and reasonable. it actually was designed to be a correspondence course, so it wasnt an online course that was rushed and slapped together for covid.',\n",
       " \"I really enjoyed this course online, being co-taught by 4 professors. There were lots of office hours available to help and all of the TA's and Profs in office hours were helpful and kind. While the programming language used is not useful elsewhere, I think it is easy to understand and helped get the point of the course across. In my opinion, the point of this course is to teach you to think about solving problems and the process to go through, as you are not creating ground-breaking programs. As a student with no prior programming experience, I found this course both useful and easy if you kept up with the content and got help as soon as you needed it. The course was organized well, and the built in questions made sure you were on the right track. The assignments are fair based on what you learn. Go in with an open mind and keep up with the content and you should be just fine.\"]"
      ]
     },
     "execution_count": 190,
     "metadata": {},
     "output_type": "execute_result"
    }
   ],
   "source": [
    "CS_rocks = waterloo[(waterloo['course_code'] == 'CS 115') & (waterloo['course_rating']=='liked course')]\n",
    "CS_pos_reviews = CS_rocks['reviews']\n",
    "CS_pos_reviews = CS_pos_reviews.dropna()\n",
    "CS_pos_reviews = CS_pos_reviews.to_list()\n",
    "CS_pos_reviews[0:5]\n"
   ]
  },
  {
   "cell_type": "code",
   "execution_count": 191,
   "metadata": {},
   "outputs": [
    {
     "name": "stdout",
     "output_type": "stream",
     "text": [
      "Created 65 X 152 document-term matrix\n",
      "Vocabulary has 152 distinct terms\n"
     ]
    },
    {
     "data": {
      "text/plain": [
       "['go to office hours and practice',\n",
       " \"Took this in 2018 with no programming experience ever. Started out pretty slow, but I didn't really \",\n",
       " \"I loved everything about cs 115. Great instructors, fair assignments ( can get tricky but there's a \",\n",
       " 'I recommend finding a course with a language that is actually useful. Racket is dumb and never used ',\n",
       " 'I really enjoyed this course online, being co-taught by 4 professors. There were lots of office hour']"
      ]
     },
     "execution_count": 191,
     "metadata": {},
     "output_type": "execute_result"
    }
   ],
   "source": [
    "# use a custom stopwords list, set the minimum term-document frequency to 2\n",
    "vectorizer = CountVectorizer(stop_words = custom_stop_words, min_df=2)\n",
    "A = vectorizer.fit_transform(CS_pos_reviews)\n",
    "print( \"Created %d X %d document-term matrix\" % (A.shape[0], A.shape[1]))\n",
    "\n",
    "terms =  list(vectorizer.get_feature_names_out())\n",
    "print(\"Vocabulary has %d distinct terms\" % len(terms))\n",
    "\n",
    "CS_snippets = [CS_pos_reviews[:100] for CS_pos_reviews in CS_pos_reviews]\n",
    "CS_snippets[0:5]"
   ]
  },
  {
   "cell_type": "code",
   "execution_count": 192,
   "metadata": {},
   "outputs": [
    {
     "data": {
      "text/plain": [
       "['CS-pos-reviews-raw.pkl']"
      ]
     },
     "execution_count": 192,
     "metadata": {},
     "output_type": "execute_result"
    }
   ],
   "source": [
    "joblib.dump((A,terms,CS_snippets), \"CS-pos-reviews-raw.pkl\") "
   ]
  },
  {
   "cell_type": "code",
   "execution_count": 193,
   "metadata": {},
   "outputs": [
    {
     "name": "stdout",
     "output_type": "stream",
     "text": [
      "Created 65 X 152 TF-IDF-normalized document-term matrix\n",
      "Vocabulary has 152 distinct terms\n"
     ]
    }
   ],
   "source": [
    "# we can pass in the same preprocessing parameters\n",
    "vectorizer = TfidfVectorizer(stop_words=custom_stop_words, min_df = 2)\n",
    "A = vectorizer.fit_transform(CS_pos_reviews)\n",
    "print( \"Created %d X %d TF-IDF-normalized document-term matrix\" % (A.shape[0], A.shape[1]) )\n",
    "\n",
    "terms =  list(vectorizer.get_feature_names_out())\n",
    "print(\"Vocabulary has %d distinct terms\" % len(terms))"
   ]
  },
  {
   "cell_type": "code",
   "execution_count": 194,
   "metadata": {},
   "outputs": [
    {
     "data": {
      "text/plain": [
       "['100',\n",
       " '102',\n",
       " '80',\n",
       " '90',\n",
       " '90s',\n",
       " '95',\n",
       " 'answer',\n",
       " 'aplia',\n",
       " 'application',\n",
       " 'bad',\n",
       " 'bank',\n",
       " 'before',\n",
       " 'best',\n",
       " 'better',\n",
       " 'boost',\n",
       " 'booster',\n",
       " 'boring',\n",
       " 'buy',\n",
       " 'case',\n",
       " 'choice',\n",
       " 'classes',\n",
       " 'common',\n",
       " 'concept',\n",
       " 'concepts',\n",
       " 'consuming',\n",
       " 'content',\n",
       " 'courses',\n",
       " 'days',\n",
       " 'decent',\n",
       " 'definitely',\n",
       " 'difficult',\n",
       " 'doing',\n",
       " 'easier',\n",
       " 'easiest',\n",
       " 'easy',\n",
       " 'econ',\n",
       " 'economics',\n",
       " 'ended',\n",
       " 'entire',\n",
       " 'exam',\n",
       " 'exams',\n",
       " 'extremely',\n",
       " 'fairly',\n",
       " 'felt',\n",
       " 'final',\n",
       " 'finals',\n",
       " 'fun',\n",
       " 'going',\n",
       " 'good',\n",
       " 'got',\n",
       " 'grade',\n",
       " 'graded',\n",
       " 'graphs',\n",
       " 'great',\n",
       " 'guaranteed',\n",
       " 'guide',\n",
       " 'hard',\n",
       " 'help',\n",
       " 'helped',\n",
       " 'high',\n",
       " 'hours',\n",
       " 'important',\n",
       " 'interesting',\n",
       " 'introduction',\n",
       " 'keep',\n",
       " 'know',\n",
       " 'kumase',\n",
       " 'larry',\n",
       " 'learn',\n",
       " 'learning',\n",
       " 'lecture',\n",
       " 'lectures',\n",
       " 'life',\n",
       " 'light',\n",
       " 'liked',\n",
       " 'little',\n",
       " 'long',\n",
       " 'lot',\n",
       " 'lots',\n",
       " 'low',\n",
       " 'mark',\n",
       " 'marks',\n",
       " 'material',\n",
       " 'mc',\n",
       " 'memorizing',\n",
       " 'memory',\n",
       " 'microeconomics',\n",
       " 'mid',\n",
       " 'midterm',\n",
       " 'midterms',\n",
       " 'multiple',\n",
       " 'myeconlab',\n",
       " 'notes',\n",
       " 'online',\n",
       " 'optional',\n",
       " 'overall',\n",
       " 'people',\n",
       " 'perfect',\n",
       " 'point',\n",
       " 'practice',\n",
       " 'prior',\n",
       " 'probably',\n",
       " 'problems',\n",
       " 'professor',\n",
       " 'question',\n",
       " 'questions',\n",
       " 'quiz',\n",
       " 'quizzes',\n",
       " 'read',\n",
       " 'reading',\n",
       " 'readings',\n",
       " 'recommend',\n",
       " 'recommended',\n",
       " 'rest',\n",
       " 'review',\n",
       " 'school',\n",
       " 'sense',\n",
       " 'sessions',\n",
       " 'simple',\n",
       " 'skipped',\n",
       " 'slides',\n",
       " 'smith',\n",
       " 'spent',\n",
       " 'straight',\n",
       " 'student',\n",
       " 'students',\n",
       " 'studied',\n",
       " 'study',\n",
       " 'studying',\n",
       " 'taken',\n",
       " 'taught',\n",
       " 'terms',\n",
       " 'test',\n",
       " 'textbook',\n",
       " 'think',\n",
       " 'time',\n",
       " 'took',\n",
       " 'trust',\n",
       " 'try',\n",
       " 'understand',\n",
       " 'understanding',\n",
       " 'useful',\n",
       " 'useless',\n",
       " 'want',\n",
       " 'wanted',\n",
       " 'way',\n",
       " 'week',\n",
       " 'weekly',\n",
       " 'wokia',\n",
       " 'work',\n",
       " 'works']"
      ]
     },
     "execution_count": 194,
     "metadata": {},
     "output_type": "execute_result"
    }
   ],
   "source": [
    "econ_terms"
   ]
  },
  {
   "cell_type": "code",
   "execution_count": 195,
   "metadata": {},
   "outputs": [
    {
     "data": {
      "text/plain": [
       "['115',\n",
       " '135',\n",
       " 'amount',\n",
       " 'annoying',\n",
       " 'aside',\n",
       " 'ask',\n",
       " 'assignments',\n",
       " 'attend',\n",
       " 'attention',\n",
       " 'available',\n",
       " 'background',\n",
       " 'bad',\n",
       " 'based',\n",
       " 'basics',\n",
       " 'before',\n",
       " 'behind',\n",
       " 'better',\n",
       " 'challenge',\n",
       " 'check',\n",
       " 'checks',\n",
       " 'coded',\n",
       " 'codes',\n",
       " 'coding',\n",
       " 'computer',\n",
       " 'concept',\n",
       " 'concepts',\n",
       " 'content',\n",
       " 'courses',\n",
       " 'covid',\n",
       " 'data',\n",
       " 'definitely',\n",
       " 'design',\n",
       " 'difficult',\n",
       " 'due',\n",
       " 'easiest',\n",
       " 'easily',\n",
       " 'easy',\n",
       " 'enjoyed',\n",
       " 'especially',\n",
       " 'everything',\n",
       " 'examples',\n",
       " 'exams',\n",
       " 'experience',\n",
       " 'fair',\n",
       " 'finding',\n",
       " 'follow',\n",
       " 'fun',\n",
       " 'future',\n",
       " 'getting',\n",
       " 'good',\n",
       " 'great',\n",
       " 'hard',\n",
       " 'help',\n",
       " 'helpful',\n",
       " 'hours',\n",
       " 'interesting',\n",
       " 'intro',\n",
       " 'introduction',\n",
       " 'introductory',\n",
       " 'keep',\n",
       " 'know',\n",
       " 'labs',\n",
       " 'language',\n",
       " 'languages',\n",
       " 'learn',\n",
       " 'learned',\n",
       " 'leave',\n",
       " 'lectures',\n",
       " 'little',\n",
       " 'long',\n",
       " 'lot',\n",
       " 'major',\n",
       " 'majority',\n",
       " 'material',\n",
       " 'midterm',\n",
       " 'mind',\n",
       " 'modules',\n",
       " 'nice',\n",
       " 'notes',\n",
       " 'offer',\n",
       " 'office',\n",
       " 'okay',\n",
       " 'online',\n",
       " 'organized',\n",
       " 'overall',\n",
       " 'part',\n",
       " 'pay',\n",
       " 'people',\n",
       " 'person',\n",
       " 'personally',\n",
       " 'please',\n",
       " 'practice',\n",
       " 'prior',\n",
       " 'probably',\n",
       " 'problem',\n",
       " 'problems',\n",
       " 'professors',\n",
       " 'profs',\n",
       " 'program',\n",
       " 'programming',\n",
       " 'programs',\n",
       " 'provides',\n",
       " 'questions',\n",
       " 'quite',\n",
       " 'racket',\n",
       " 'read',\n",
       " 'reading',\n",
       " 'realized',\n",
       " 'recipe',\n",
       " 'recommend',\n",
       " 'recursion',\n",
       " 'relatively',\n",
       " 'rewarding',\n",
       " 'right',\n",
       " 'scheme',\n",
       " 'science',\n",
       " 'set',\n",
       " 'skip',\n",
       " 'solving',\n",
       " 'someone',\n",
       " 'something',\n",
       " 'start',\n",
       " 'starting',\n",
       " 'structured',\n",
       " 'stuck',\n",
       " 'student',\n",
       " 'students',\n",
       " 'ta',\n",
       " 'tas',\n",
       " 'taught',\n",
       " 'teach',\n",
       " 'teaches',\n",
       " 'term',\n",
       " 'tests',\n",
       " 'thing',\n",
       " 'things',\n",
       " 'think',\n",
       " 'time',\n",
       " 'times',\n",
       " 'took',\n",
       " 'tough',\n",
       " 'tricky',\n",
       " 'trust',\n",
       " 'understand',\n",
       " 'useful',\n",
       " 'useless',\n",
       " 'way',\n",
       " 'website',\n",
       " 'weekly',\n",
       " 'weird',\n",
       " 'work',\n",
       " 'writing']"
      ]
     },
     "execution_count": 195,
     "metadata": {},
     "output_type": "execute_result"
    }
   ],
   "source": [
    "terms"
   ]
  },
  {
   "cell_type": "code",
   "execution_count": 196,
   "metadata": {},
   "outputs": [],
   "source": [
    "def rank_terms(A, term):\n",
    "    # get the sums over each column\n",
    "    sums = A.sum(axis=0)\n",
    "    # map weights to the terms\n",
    "    weights = {}\n",
    "    for col, term in enumerate(terms):\n",
    "        weights[term] = sums[0,col]\n",
    "    # rank the terms by their weight over all documents\n",
    "    return sorted(weights.items(), key=operator.itemgetter(1), reverse=True)"
   ]
  },
  {
   "cell_type": "code",
   "execution_count": 197,
   "metadata": {},
   "outputs": [
    {
     "name": "stdout",
     "output_type": "stream",
     "text": [
      "01. easy (6.75)\n",
      "02. good (4.44)\n",
      "03. assignments (4.29)\n",
      "04. programming (4.22)\n",
      "05. racket (4.12)\n",
      "06. fun (3.32)\n",
      "07. time (3.17)\n",
      "08. experience (2.71)\n",
      "09. hours (2.36)\n",
      "10. help (2.25)\n",
      "11. concepts (2.24)\n",
      "12. scheme (2.21)\n",
      "13. interesting (2.15)\n",
      "14. difficult (2.13)\n",
      "15. office (2.04)\n",
      "16. language (1.87)\n",
      "17. questions (1.84)\n",
      "18. science (1.82)\n",
      "19. overall (1.81)\n",
      "20. online (1.74)\n"
     ]
    }
   ],
   "source": [
    "ranking = rank_terms(A, terms)\n",
    "for i, pair in enumerate(ranking[0:20]):\n",
    "    print( \"%02d. %s (%.2f)\" % (i+1, pair[0], pair[1] ))"
   ]
  },
  {
   "cell_type": "code",
   "execution_count": 198,
   "metadata": {},
   "outputs": [
    {
     "data": {
      "text/plain": [
       "['CS-pos-reviews-tfidf.pkl']"
      ]
     },
     "execution_count": 198,
     "metadata": {},
     "output_type": "execute_result"
    }
   ],
   "source": [
    "joblib.dump((A,terms,CS_snippets), \"CS-pos-reviews-tfidf.pkl\") "
   ]
  },
  {
   "cell_type": "code",
   "execution_count": 199,
   "metadata": {},
   "outputs": [
    {
     "name": "stdout",
     "output_type": "stream",
     "text": [
      "Loaded 65 X 152 document-term matrix\n"
     ]
    }
   ],
   "source": [
    "(A, terms, CS_snippets) = joblib.load(\"CS-pos-reviews-tfidf.pkl\")\n",
    "print(\"Loaded %d X %d document-term matrix\" % (A.shape[0], A.shape[1]))"
   ]
  },
  {
   "cell_type": "code",
   "execution_count": 200,
   "metadata": {},
   "outputs": [
    {
     "data": {
      "text/plain": [
       "array([0.  , 0.  , 0.03, 0.25])"
      ]
     },
     "execution_count": 200,
     "metadata": {},
     "output_type": "execute_result"
    }
   ],
   "source": [
    "k=4\n",
    "# create the model, specifiying the initialization strategy and the number of topics to produce\n",
    "model = decomposition.NMF(init=\"nndsvd\", n_components=k) \n",
    "# apply the model and extract the two factor matrices\n",
    "W_CS = model.fit_transform( A )\n",
    "H_CS = model.components_\n",
    "\n",
    "# round to 2 decimal places for display purposes\n",
    "W_CS[0,:].round(2)\n",
    "\n"
   ]
  },
  {
   "cell_type": "code",
   "execution_count": 201,
   "metadata": {},
   "outputs": [
    {
     "data": {
      "text/plain": [
       "array([0.08, 0.  , 0.  , 0.08])"
      ]
     },
     "execution_count": 201,
     "metadata": {},
     "output_type": "execute_result"
    }
   ],
   "source": [
    "H_CS[:,term_index].round(2)"
   ]
  },
  {
   "cell_type": "code",
   "execution_count": 202,
   "metadata": {},
   "outputs": [],
   "source": [
    "def get_descriptor(terms, H_CS, topic_index, top):\n",
    "    # reverse sort the values to sort the indices\n",
    "    top_indices = np.argsort(H_CS[topic_index,:])[::-1]\n",
    "    # now get the terms corresponding to the top-ranked indices\n",
    "    top_terms = []\n",
    "    for term_index in top_indices[0:top]:\n",
    "        top_terms.append(terms[term_index])\n",
    "    return top_terms"
   ]
  },
  {
   "cell_type": "code",
   "execution_count": 203,
   "metadata": {},
   "outputs": [
    {
     "name": "stdout",
     "output_type": "stream",
     "text": [
      "Topic 01: easy, assignments, interesting, relatively, material, notes, labs, keep, little, overall\n",
      "Topic 02: programming, racket, good, experience, concepts, language, science, computer, introduction, useful\n",
      "Topic 03: fun, codes, writing, enjoyed, scheme, overall, languages, language, lot, hard\n",
      "Topic 04: time, assignments, help, online, hours, office, content, weekly, questions, tas\n"
     ]
    }
   ],
   "source": [
    "descriptors = []\n",
    "for topic_index in range(k):\n",
    "    descriptors.append(get_descriptor( terms, H_CS, topic_index, 10))\n",
    "    str_descriptor = \", \".join(descriptors[topic_index])\n",
    "    print(\"Topic %02d: %s\" % (topic_index+1, str_descriptor))"
   ]
  },
  {
   "cell_type": "markdown",
   "metadata": {},
   "source": [
    "Topic 01: Pretty easy (Difficulty)\n",
    "\n",
    "Topic 02: Programming\n",
    "\n",
    "Topic 03: Fun (Enjoyability)\n",
    "\n",
    "Topic 04: Time Management & Help"
   ]
  },
  {
   "cell_type": "code",
   "execution_count": 204,
   "metadata": {},
   "outputs": [],
   "source": [
    "def plot_top_term_weights(terms, H_CS, topic_index, top):\n",
    "    # get the top terms and their weights\n",
    "    top_indices = np.argsort(H_CS[topic_index,:])[::-1]\n",
    "    top_terms = []\n",
    "    top_weights = []\n",
    "    for term_index in top_indices[0:top]:\n",
    "        top_terms.append(terms[term_index])\n",
    "        top_weights.append(H_CS[topic_index,term_index])\n",
    "    # note we reverse the ordering for the plot\n",
    "    top_terms.reverse()\n",
    "    top_weights.reverse()\n",
    "    # create the plot\n",
    "    fig = plt.figure(figsize=(13,8))\n",
    "    # add the horizontal bar chart\n",
    "    ypos = np.arange(top)\n",
    "    ax = plt.barh(ypos, top_weights, align=\"center\", color=\"green\",tick_label=top_terms)\n",
    "    plt.xlabel(\"Term Weight\",fontsize=14)\n",
    "    plt.tight_layout()\n",
    "    plt.show()"
   ]
  },
  {
   "cell_type": "code",
   "execution_count": 205,
   "metadata": {},
   "outputs": [
    {
     "data": {
      "image/png": "[encoded data removed]",
      "text/plain": [
       "<Figure size 1300x800 with 1 Axes>"
      ]
     },
     "metadata": {},
     "output_type": "display_data"
    }
   ],
   "source": [
    "plot_top_term_weights(terms, H_CS, 3, 15)"
   ]
  },
  {
   "cell_type": "code",
   "execution_count": 230,
   "metadata": {},
   "outputs": [
    {
     "name": "stdout",
     "output_type": "stream",
     "text": [
      "01. I took this course online due to the COVID-19 pandemic, so my review is based on a remote, online learning experience. Overall, as someone who is not a CS student and who doesn't have a lot of background experience and knowledge in programming, it's a great introductory course to the language of Racket and the overall concepts that will be useful in later computer science courses. The Racket language itself is not a very \"useful\" language that you may or may not use in later CS courses and even in a job, but the foundation it provides is very valuable and will definitely make you think more mathematically at programming problems. The difficulty of this course starts to increase after the midterm exam, and it does get pretty tough nearing the end. I recommend starting the assignments as early as possible and attend as many office hours if you have any questions. The course staff are very responsive and do offer a good amount of help depending on your questions. Overall, I can't say much about the in-person learning experience, but this course was suited well for online learning and I enjoyed it.\n",
      "02. Took this in 2018 with no programming experience ever. Started out pretty slow, but I didn't really pay attention and was severely behind. Went to a lot of office hours, but nonetheless caught up and did decently well. After taking more cs courses, racket really is a weird language.\n",
      "03. Not a bird course, although if you have background in programming it would not be difficult at all. Racket is somewhat useless but I learned some concepts that will be useful for other programming languages\n",
      "04. I recommend finding a course with a language that is actually useful. Racket is dumb and never used anywhere. The majority of the course was quite easy, except a couple of concept checks that were RIDICULOUSLY HARD. i wish i had realized sooner that you get 10% of concept checks dropped from your grade. if you understand everything and are getting most things easily but you get stumped on one particular concept check, its probably not your fault and you should skip it, at least for now. the course was very well structured and predictable. expectations were clear and reasonable. it actually was designed to be a correspondence course, so it wasnt an online course that was rushed and slapped together for covid.\n",
      "05. The only way to do bad in this course is by not managing ur time properly. This is a mistake I made when we had to work with modules. As long as u properly manage ur time and do assignments and concept checks well before the due date, you will have a great time in this course. Also try finding connections between assignments and try finding some real world applications of racket. Trust me Racket is very useful. The only criticism I have of this course is how the course is taught because it wasn't taught. (this is when I did online.) I had to understand all concepts by myself by basically reading texts. Although There was plenty of opportunity like office hours to ask for help, I only realized that towards the end of the term. Very unfortunate :(\n",
      "06. Nice course that teaches you how to write simple code. But little annoying that you have to do Design Recipe (especially writing an explanation for codes). There is no loop in DrRacket so being able to understand recursion is important. All course contents are based on a website and you have to read everything and code something on that website. Pity that this course will not show many algorithms or data structures. So far I think those who can just play computer games (i.e. no coding experience but can easily type using the keyboard) can easily get 90+ in this course. If you have ever coded like C, python, java, pascal and so on, easy to get 95+. Idk why the easy rate goes so low but trust me, super easy course if you finish reading the material (okay reading part may be a little boring and CS 135 provide detailed intros which seem not wordy)\n",
      "07. The end of the course became quite tough but otherwise this was pretty manageable. Excellent professors and ISA's who always take our feedback and concerns into consideration to make the course experience better, including having office hours very late at night and very early in the morning. The online platform is also excellent and fun to use.\n",
      "08. I loved everything about cs 115. Great instructors, fair assignments ( can get tricky but there's a huge amount of office hours to attend ), good engagement and interesting topics! It's seriously well structured and I would recommend it to anyone even with no background in coding.\n",
      "09. I really enjoyed this course online, being co-taught by 4 professors. There were lots of office hours available to help and all of the TA's and Profs in office hours were helpful and kind. While the programming language used is not useful elsewhere, I think it is easy to understand and helped get the point of the course across. In my opinion, the point of this course is to teach you to think about solving problems and the process to go through, as you are not creating ground-breaking programs. As a student with no prior programming experience, I found this course both useful and easy if you kept up with the content and got help as soon as you needed it. The course was organized well, and the built in questions made sure you were on the right track. The assignments are fair based on what you learn. Go in with an open mind and keep up with the content and you should be just fine.\n",
      "10. Can be difficult at times, but a very rewarding and fun course. Definitely made me like CS as a non-CS student! Start assignments early and definitely go to office hours. TAs and ISAs are very helpful.\n"
     ]
    }
   ],
   "source": [
    "topic_snippets = get_top_snippets(CS_pos_reviews, W_CS, 1, 10)\n",
    "for i, snippet in enumerate(topic_snippets):\n",
    "    print(\"%02d. %s\" % ((i+1), snippet ))"
   ]
  },
  {
   "cell_type": "markdown",
   "metadata": {},
   "source": [
    "# For Negative CS 101 reviews"
   ]
  },
  {
   "cell_type": "code",
   "execution_count": 207,
   "metadata": {},
   "outputs": [
    {
     "data": {
      "text/plain": [
       "['One of my least favourite courses. Although things were nicely organized, Racket was such an annoying language to use. The one tangible benefit I felt after using Racket was feeling more comfortable with recursion.',\n",
       " 'It starts with a very low pace but after midterm, it gets really fast and I cannot understand the content while reaching the end of term. Racket is restricted by so many things so I feel I lose the freedom of coding. The assignments are extremely hard after midterm, I spent a whole day on them but I can just solve the easiest one. The only positive impression that I have is that the design recipe weighs half so I pass this course successfully.',\n",
       " \"math student who took this course since I had 0 prior programming experience. the course isn't horribly hard, but if you fall behind or don't understand one lesson, everything following will be super challenging. the course was mostly online completing modules, and my biggest criticism is that solutions for lessons are never posted after they are due which makes it super challenging to do the next week's module if you didn't understand/didnt know how to write a specific code for the week. the racket language used in this course is easy to follow but not very useful and isn't used anywhere. this makes it difficult to find help outside of cs115 profs/ta's/past cs115 students. the course is oddly paced, felt the super easy and simple first half of the course, and then gets unreasonably fast. didn't find any of the profs/ta's answers to questions posted on discussion boards useful at all. because the course was only offered online, I had to essentially had to teach the whole course to myself\",\n",
       " \"This course is taught in an archaic language that no one uses and no one understands. Instructors' explanations are irrelevant to actual questions and I got yelled during office hrs even though I stated that I need a little patience (I am disabled). Assignments and quizzes are unreasonably hard. I took to take this for bioinformatics option and decided to change my future career. Truly the worst in UW history. If you don't need this course, run.\",\n",
       " \"It's the worst course ever, online especially. They are least interested to teach. They just provided the content to read by ourselves. I wouldn't suggest anyone to take this course online.\"]"
      ]
     },
     "execution_count": 207,
     "metadata": {},
     "output_type": "execute_result"
    }
   ],
   "source": [
    "CS_sucks = waterloo[(waterloo['course_code'] == 'CS 115') & (waterloo['course_rating']=='disliked course')]\n",
    "CS_neg_reviews = CS_sucks['reviews']\n",
    "CS_neg_reviews = CS_neg_reviews.dropna()\n",
    "CS_neg_reviews = CS_neg_reviews.to_list()\n",
    "CS_neg_reviews[0:5]"
   ]
  },
  {
   "cell_type": "code",
   "execution_count": 208,
   "metadata": {},
   "outputs": [
    {
     "name": "stdout",
     "output_type": "stream",
     "text": [
      "Created 18 X 55 document-term matrix\n",
      "Vocabulary has 55 distinct terms\n"
     ]
    },
    {
     "data": {
      "text/plain": [
       "['One of my least favourite courses. Although things were nicely organized, Racket was such an annoyin',\n",
       " 'It starts with a very low pace but after midterm, it gets really fast and I cannot understand the co',\n",
       " \"math student who took this course since I had 0 prior programming experience. the course isn't horri\",\n",
       " \"This course is taught in an archaic language that no one uses and no one understands. Instructors' e\",\n",
       " \"It's the worst course ever, online especially. They are least interested to teach. They just provide\"]"
      ]
     },
     "execution_count": 208,
     "metadata": {},
     "output_type": "execute_result"
    }
   ],
   "source": [
    "# use a custom stopwords list, set the minimum term-document frequency to 2\n",
    "vectorizer = CountVectorizer(stop_words = custom_stop_words, min_df=2)\n",
    "A = vectorizer.fit_transform(CS_neg_reviews)\n",
    "print( \"Created %d X %d document-term matrix\" % (A.shape[0], A.shape[1]))\n",
    "\n",
    "terms =  list(vectorizer.get_feature_names_out())\n",
    "print(\"Vocabulary has %d distinct terms\" % len(terms))\n",
    "\n",
    "CS_neg_snippets = [CS_neg_reviews[:100] for CS_neg_reviews in CS_neg_reviews]\n",
    "CS_neg_snippets[0:5]"
   ]
  },
  {
   "cell_type": "code",
   "execution_count": 209,
   "metadata": {},
   "outputs": [
    {
     "data": {
      "text/plain": [
       "['CS-neg-reviews-raw.pkl']"
      ]
     },
     "execution_count": 209,
     "metadata": {},
     "output_type": "execute_result"
    }
   ],
   "source": [
    "joblib.dump((A,terms,CS_neg_snippets), \"CS-neg-reviews-raw.pkl\") "
   ]
  },
  {
   "cell_type": "code",
   "execution_count": 210,
   "metadata": {},
   "outputs": [
    {
     "name": "stdout",
     "output_type": "stream",
     "text": [
      "Created 18 X 55 TF-IDF-normalized document-term matrix\n",
      "Vocabulary has 55 distinct terms\n"
     ]
    }
   ],
   "source": [
    "# we can pass in the same preprocessing parameters\n",
    "vectorizer = TfidfVectorizer(stop_words=custom_stop_words, min_df = 2)\n",
    "A = vectorizer.fit_transform(CS_neg_reviews)\n",
    "print( \"Created %d X %d TF-IDF-normalized document-term matrix\" % (A.shape[0], A.shape[1]) )\n",
    "\n",
    "terms =  list(vectorizer.get_feature_names_out())\n",
    "print(\"Vocabulary has %d distinct terms\" % len(terms))"
   ]
  },
  {
   "cell_type": "code",
   "execution_count": 211,
   "metadata": {},
   "outputs": [
    {
     "name": "stdout",
     "output_type": "stream",
     "text": [
      "01. easy (2.19)\n",
      "02. racket (1.57)\n",
      "03. online (1.41)\n",
      "04. midterm (1.37)\n",
      "05. language (1.32)\n",
      "06. hate (1.25)\n",
      "07. difficult (1.18)\n",
      "08. coding (1.03)\n",
      "09. hard (0.95)\n",
      "10. design (0.94)\n",
      "11. took (0.93)\n",
      "12. assignment (0.90)\n",
      "13. lot (0.89)\n",
      "14. marks (0.89)\n",
      "15. assignments (0.89)\n",
      "16. way (0.82)\n",
      "17. courses (0.81)\n",
      "18. teach (0.79)\n",
      "19. learn (0.77)\n",
      "20. recursion (0.77)\n"
     ]
    }
   ],
   "source": [
    "ranking = rank_terms(A, terms)\n",
    "for i, pair in enumerate(ranking[0:20]):\n",
    "    print( \"%02d. %s (%.2f)\" % (i+1, pair[0], pair[1] ))"
   ]
  },
  {
   "cell_type": "code",
   "execution_count": 212,
   "metadata": {},
   "outputs": [
    {
     "data": {
      "text/plain": [
       "['CS-neg-reviews-tfidf.pkl']"
      ]
     },
     "execution_count": 212,
     "metadata": {},
     "output_type": "execute_result"
    }
   ],
   "source": [
    "joblib.dump((A,terms,CS_neg_snippets), \"CS-neg-reviews-tfidf.pkl\") "
   ]
  },
  {
   "cell_type": "code",
   "execution_count": 213,
   "metadata": {},
   "outputs": [
    {
     "name": "stdout",
     "output_type": "stream",
     "text": [
      "Loaded 18 X 55 document-term matrix\n"
     ]
    }
   ],
   "source": [
    "(A, terms, CS_neg_snippets) = joblib.load(\"CS-neg-reviews-tfidf.pkl\")\n",
    "print(\"Loaded %d X %d document-term matrix\" % (A.shape[0], A.shape[1]))"
   ]
  },
  {
   "cell_type": "code",
   "execution_count": 214,
   "metadata": {},
   "outputs": [
    {
     "data": {
      "text/plain": [
       "array([0.06, 0.  , 0.43, 0.17])"
      ]
     },
     "execution_count": 214,
     "metadata": {},
     "output_type": "execute_result"
    }
   ],
   "source": [
    "k=4\n",
    "# create the model, specifiying the initialization strategy and the number of topics to produce\n",
    "model = decomposition.NMF(init=\"nndsvd\", n_components=k) \n",
    "# apply the model and extract the two factor matrices\n",
    "W_CS = model.fit_transform( A )\n",
    "H_CS = model.components_\n",
    "\n",
    "# round to 2 decimal places for display purposes\n",
    "W_CS[0,:].round(2)"
   ]
  },
  {
   "cell_type": "code",
   "execution_count": 215,
   "metadata": {},
   "outputs": [],
   "source": [
    "def get_descriptor(terms, H_CS, topic_index, top):\n",
    "    # reverse sort the values to sort the indices\n",
    "    top_indices = np.argsort(H_CS[topic_index,:])[::-1]\n",
    "    # now get the terms corresponding to the top-ranked indices\n",
    "    top_terms = []\n",
    "    for term_index in top_indices[0:top]:\n",
    "        top_terms.append(terms[term_index])\n",
    "    return top_terms"
   ]
  },
  {
   "cell_type": "code",
   "execution_count": 216,
   "metadata": {},
   "outputs": [
    {
     "name": "stdout",
     "output_type": "stream",
     "text": [
      "Topic 01: easy, coding, useful, math, friend, able, organized, code, lot, courses\n",
      "Topic 02: midterm, assignments, coding, hard, exam, something, way, day, solve, write\n",
      "Topic 03: hate, racket, marks, lose, recipe, design, recursion, things, felt, organized\n",
      "Topic 04: online, language, worst, experience, prior, programming, took, difficult, teach, assignment\n"
     ]
    }
   ],
   "source": [
    "descriptors = []\n",
    "for topic_index in range(k):\n",
    "    descriptors.append(get_descriptor( terms, H_CS, topic_index, 10))\n",
    "    str_descriptor = \", \".join(descriptors[topic_index])\n",
    "    print(\"Topic %02d: %s\" % (topic_index+1, str_descriptor))"
   ]
  },
  {
   "cell_type": "markdown",
   "metadata": {},
   "source": [
    "Topic 1: General difficulty level (some felt hard, some easy, but disliked)\n",
    "\n",
    "Topic 2: Midterm and assignments difficulty\n",
    "\n",
    "Topic 3: Hating racket (programming language)\n",
    "\n",
    "Topic 4: Poor online experience"
   ]
  },
  {
   "cell_type": "code",
   "execution_count": 226,
   "metadata": {},
   "outputs": [
    {
     "data": {
      "image/png": "[encoded data removed]",
      "text/plain": [
       "<Figure size 1300x800 with 1 Axes>"
      ]
     },
     "metadata": {},
     "output_type": "display_data"
    }
   ],
   "source": [
    "plot_top_term_weights(terms, H_CS, 1, 15)"
   ]
  },
  {
   "cell_type": "code",
   "execution_count": 227,
   "metadata": {},
   "outputs": [
    {
     "name": "stdout",
     "output_type": "stream",
     "text": [
      "01. It's hard to motivate yourself to do the assignments when each is 2% or something, but it really is important to keep on top of it. They only get harder and arguably the only way to guarantee that you'll do well on the midterm (since you WILL be asked to write mini programs) I personally found the exam to be much harder than the midterm, so you really need to use the midterm as a grade booster.\n",
      "02. It starts with a very low pace but after midterm, it gets really fast and I cannot understand the content while reaching the end of term. Racket is restricted by so many things so I feel I lose the freedom of coding. The assignments are extremely hard after midterm, I spent a whole day on them but I can just solve the easiest one. The only positive impression that I have is that the design recipe weighs half so I pass this course successfully.\n",
      "03. Not an \"EASY\" course at all. Anyone commentating that is probably a Math/Eng student who is already familiar with coding through other courses. Since the midterm/exam is on paper, you have to be able to imagine what your code is going to be able to do without actually testing it like you do in your assignments! Speaking of assignment, they're bloody hard! No joke, it might take you an entire day to problem solve your way through them and that might not even be enough - incredibly frustrating course and not recommended unless you really want to study coding in the future. DR. Racket is not even applicable to most organizations. If you want to learn coding, just pick up something off Amazon or get a pdf through a friend - don't spend money here unless you're actually planning on continuing studies in CS.\n",
      "04. This course is taught in an archaic language that no one uses and no one understands. Instructors' explanations are irrelevant to actual questions and I got yelled during office hrs even though I stated that I need a little patience (I am disabled). Assignments and quizzes are unreasonably hard. I took to take this for bioinformatics option and decided to change my future career. Truly the worst in UW history. If you don't need this course, run.\n",
      "05. The education quality is significantly impaired with no doubt since we are doing it online. Reviews before COVID was mostly positive. But after COVID-19, a lot of them are negative. I think that reflects something. Assignment were thrown into your face like you just have one class for the whole term. For me, I believe the material we learn and the assignment we need to do is inconsistent in terms of difficulty level. The gap between them is just huge. It often took me eight to twelve hours to finish the assignment. Don't take this if you are doing online.\n",
      "06. Was a nice way to learn recursion, which is essentially the purpose of this course. They also give a lot of free marks with a 3% lab bonus - DO THEM! That 3% can make a big difference in your mark.\n",
      "07. I have never coded before so i opted to take this rather than CS135. This was really easy for me. I'm glad I took it though becuase it saved time so I can focus more on actual courses for my major (MATH145, PHYS121 etc). Don't expect to be able to code anything after this, especial since you use dr Raket. And the design recipes are a pain, my tip is put 20 test cases for everything.\n",
      "08. math student who took this course since I had 0 prior programming experience. the course isn't horribly hard, but if you fall behind or don't understand one lesson, everything following will be super challenging. the course was mostly online completing modules, and my biggest criticism is that solutions for lessons are never posted after they are due which makes it super challenging to do the next week's module if you didn't understand/didnt know how to write a specific code for the week. the racket language used in this course is easy to follow but not very useful and isn't used anywhere. this makes it difficult to find help outside of cs115 profs/ta's/past cs115 students. the course is oddly paced, felt the super easy and simple first half of the course, and then gets unreasonably fast. didn't find any of the profs/ta's answers to questions posted on discussion boards useful at all. because the course was only offered online, I had to essentially had to teach the whole course to myself\n",
      "09. It's the worst course ever, online especially. They are least interested to teach. They just provided the content to read by ourselves. I wouldn't suggest anyone to take this course online.\n",
      "10. so difficult for beginners\n"
     ]
    }
   ],
   "source": [
    "topic_snippets = get_top_snippets(CS_neg_reviews, W_CS, 1, 10)\n",
    "for i, snippet in enumerate(topic_snippets):\n",
    "    print(\"%02d. %s\" % ((i+1), snippet ))"
   ]
  },
  {
   "cell_type": "markdown",
   "metadata": {},
   "source": [
    "## Cosine Similarity Between Topics"
   ]
  },
  {
   "cell_type": "code",
   "execution_count": null,
   "metadata": {},
   "outputs": [],
   "source": []
  },
  {
   "cell_type": "code",
   "execution_count": 219,
   "metadata": {},
   "outputs": [
    {
     "name": "stdout",
     "output_type": "stream",
     "text": [
      "(98, 4) (18, 4)\n"
     ]
    }
   ],
   "source": [
    "print(W.shape, W_CS.shape)\n"
   ]
  },
  {
   "cell_type": "code",
   "execution_count": 220,
   "metadata": {},
   "outputs": [
    {
     "name": "stdout",
     "output_type": "stream",
     "text": [
      "(4, 151) (4, 55)\n"
     ]
    }
   ],
   "source": [
    "print(H.shape, H_CS.shape)\n"
   ]
  },
  {
   "cell_type": "code",
   "execution_count": 221,
   "metadata": {},
   "outputs": [
    {
     "data": {
      "text/plain": [
       "{'before',\n",
       " 'content',\n",
       " 'courses',\n",
       " 'difficult',\n",
       " 'easy',\n",
       " 'exam',\n",
       " 'felt',\n",
       " 'hard',\n",
       " 'learn',\n",
       " 'lot',\n",
       " 'marks',\n",
       " 'midterm',\n",
       " 'online',\n",
       " 'prior',\n",
       " 'questions',\n",
       " 'student',\n",
       " 'took',\n",
       " 'understand',\n",
       " 'useful',\n",
       " 'way'}"
      ]
     },
     "execution_count": 221,
     "metadata": {},
     "output_type": "execute_result"
    }
   ],
   "source": [
    "terms_set = set(terms)  # Terms corresponding to H_W\n",
    "econ_terms_set = set(econ_terms)  # Terms corresponding to H_W_CS\n",
    "\n",
    "common_terms = terms_set.intersection(econ_terms_set)\n",
    "\n",
    "common_terms"
   ]
  },
  {
   "cell_type": "code",
   "execution_count": null,
   "metadata": {},
   "outputs": [],
   "source": []
  },
  {
   "cell_type": "code",
   "execution_count": 222,
   "metadata": {},
   "outputs": [],
   "source": [
    "import numpy as np\n",
    "np.set_printoptions(threshold=np.inf)"
   ]
  },
  {
   "cell_type": "code",
   "execution_count": 223,
   "metadata": {},
   "outputs": [
    {
     "ename": "ValueError",
     "evalue": "Incompatible dimension for X and Y matrices: X.shape[1] == 151 while Y.shape[1] == 55",
     "output_type": "error",
     "traceback": [
      "\u001b[0;31m---------------------------------------------------------------------------\u001b[0m",
      "\u001b[0;31mValueError\u001b[0m                                Traceback (most recent call last)",
      "\u001b[1;32m/Users/isaactabor/Desktop/DS 4002/Effort #2.ipynb Cell 71\u001b[0m line \u001b[0;36m3\n\u001b[1;32m      <a href='vscode-notebook-cell:/Users/isaactabor/Desktop/DS%204002/Effort%20%232.ipynb#Y265sZmlsZQ%3D%3D?line=0'>1</a>\u001b[0m \u001b[39mfrom\u001b[39;00m \u001b[39msklearn\u001b[39;00m\u001b[39m.\u001b[39;00m\u001b[39mmetrics\u001b[39;00m\u001b[39m.\u001b[39;00m\u001b[39mpairwise\u001b[39;00m \u001b[39mimport\u001b[39;00m cosine_similarity\n\u001b[0;32m----> <a href='vscode-notebook-cell:/Users/isaactabor/Desktop/DS%204002/Effort%20%232.ipynb#Y265sZmlsZQ%3D%3D?line=2'>3</a>\u001b[0m np\u001b[39m.\u001b[39mround(cosine_similarity(H,H_CS),\u001b[39m2\u001b[39m)\u001b[39m.\u001b[39mshape\n",
      "File \u001b[0;32m~/Library/Python/3.9/lib/python/site-packages/sklearn/utils/_param_validation.py:213\u001b[0m, in \u001b[0;36mvalidate_params.<locals>.decorator.<locals>.wrapper\u001b[0;34m(*args, **kwargs)\u001b[0m\n\u001b[1;32m    207\u001b[0m \u001b[39mtry\u001b[39;00m:\n\u001b[1;32m    208\u001b[0m     \u001b[39mwith\u001b[39;00m config_context(\n\u001b[1;32m    209\u001b[0m         skip_parameter_validation\u001b[39m=\u001b[39m(\n\u001b[1;32m    210\u001b[0m             prefer_skip_nested_validation \u001b[39mor\u001b[39;00m global_skip_validation\n\u001b[1;32m    211\u001b[0m         )\n\u001b[1;32m    212\u001b[0m     ):\n\u001b[0;32m--> 213\u001b[0m         \u001b[39mreturn\u001b[39;00m func(\u001b[39m*\u001b[39;49margs, \u001b[39m*\u001b[39;49m\u001b[39m*\u001b[39;49mkwargs)\n\u001b[1;32m    214\u001b[0m \u001b[39mexcept\u001b[39;00m InvalidParameterError \u001b[39mas\u001b[39;00m e:\n\u001b[1;32m    215\u001b[0m     \u001b[39m# When the function is just a wrapper around an estimator, we allow\u001b[39;00m\n\u001b[1;32m    216\u001b[0m     \u001b[39m# the function to delegate validation to the estimator, but we replace\u001b[39;00m\n\u001b[1;32m    217\u001b[0m     \u001b[39m# the name of the estimator by the name of the function in the error\u001b[39;00m\n\u001b[1;32m    218\u001b[0m     \u001b[39m# message to avoid confusion.\u001b[39;00m\n\u001b[1;32m    219\u001b[0m     msg \u001b[39m=\u001b[39m re\u001b[39m.\u001b[39msub(\n\u001b[1;32m    220\u001b[0m         \u001b[39mr\u001b[39m\u001b[39m\"\u001b[39m\u001b[39mparameter of \u001b[39m\u001b[39m\\\u001b[39m\u001b[39mw+ must be\u001b[39m\u001b[39m\"\u001b[39m,\n\u001b[1;32m    221\u001b[0m         \u001b[39mf\u001b[39m\u001b[39m\"\u001b[39m\u001b[39mparameter of \u001b[39m\u001b[39m{\u001b[39;00mfunc\u001b[39m.\u001b[39m\u001b[39m__qualname__\u001b[39m\u001b[39m}\u001b[39;00m\u001b[39m must be\u001b[39m\u001b[39m\"\u001b[39m,\n\u001b[1;32m    222\u001b[0m         \u001b[39mstr\u001b[39m(e),\n\u001b[1;32m    223\u001b[0m     )\n",
      "File \u001b[0;32m~/Library/Python/3.9/lib/python/site-packages/sklearn/metrics/pairwise.py:1679\u001b[0m, in \u001b[0;36mcosine_similarity\u001b[0;34m(X, Y, dense_output)\u001b[0m\n\u001b[1;32m   1635\u001b[0m \u001b[39m\u001b[39m\u001b[39m\"\"\"Compute cosine similarity between samples in X and Y.\u001b[39;00m\n\u001b[1;32m   1636\u001b[0m \n\u001b[1;32m   1637\u001b[0m \u001b[39mCosine similarity, or the cosine kernel, computes similarity as the\u001b[39;00m\n\u001b[0;32m   (...)\u001b[0m\n\u001b[1;32m   1675\u001b[0m \u001b[39m       [0.57..., 0.81...]])\u001b[39;00m\n\u001b[1;32m   1676\u001b[0m \u001b[39m\"\"\"\u001b[39;00m\n\u001b[1;32m   1677\u001b[0m \u001b[39m# to avoid recursive import\u001b[39;00m\n\u001b[0;32m-> 1679\u001b[0m X, Y \u001b[39m=\u001b[39m check_pairwise_arrays(X, Y)\n\u001b[1;32m   1681\u001b[0m X_normalized \u001b[39m=\u001b[39m normalize(X, copy\u001b[39m=\u001b[39m\u001b[39mTrue\u001b[39;00m)\n\u001b[1;32m   1682\u001b[0m \u001b[39mif\u001b[39;00m X \u001b[39mis\u001b[39;00m Y:\n",
      "File \u001b[0;32m~/Library/Python/3.9/lib/python/site-packages/sklearn/metrics/pairwise.py:214\u001b[0m, in \u001b[0;36mcheck_pairwise_arrays\u001b[0;34m(X, Y, precomputed, dtype, accept_sparse, force_all_finite, ensure_2d, copy)\u001b[0m\n\u001b[1;32m    206\u001b[0m         \u001b[39mraise\u001b[39;00m \u001b[39mValueError\u001b[39;00m(\n\u001b[1;32m    207\u001b[0m             \u001b[39m\"\u001b[39m\u001b[39mPrecomputed metric requires shape \u001b[39m\u001b[39m\"\u001b[39m\n\u001b[1;32m    208\u001b[0m             \u001b[39m\"\u001b[39m\u001b[39m(n_queries, n_indexed). Got (\u001b[39m\u001b[39m%d\u001b[39;00m\u001b[39m, \u001b[39m\u001b[39m%d\u001b[39;00m\u001b[39m) \u001b[39m\u001b[39m\"\u001b[39m\n\u001b[1;32m    209\u001b[0m             \u001b[39m\"\u001b[39m\u001b[39mfor \u001b[39m\u001b[39m%d\u001b[39;00m\u001b[39m indexed.\u001b[39m\u001b[39m\"\u001b[39m \u001b[39m%\u001b[39m (X\u001b[39m.\u001b[39mshape[\u001b[39m0\u001b[39m], X\u001b[39m.\u001b[39mshape[\u001b[39m1\u001b[39m], Y\u001b[39m.\u001b[39mshape[\u001b[39m0\u001b[39m])\n\u001b[1;32m    210\u001b[0m         )\n\u001b[1;32m    211\u001b[0m \u001b[39melif\u001b[39;00m ensure_2d \u001b[39mand\u001b[39;00m X\u001b[39m.\u001b[39mshape[\u001b[39m1\u001b[39m] \u001b[39m!=\u001b[39m Y\u001b[39m.\u001b[39mshape[\u001b[39m1\u001b[39m]:\n\u001b[1;32m    212\u001b[0m     \u001b[39m# Only check the number of features if 2d arrays are enforced. Otherwise,\u001b[39;00m\n\u001b[1;32m    213\u001b[0m     \u001b[39m# validation is left to the user for custom metrics.\u001b[39;00m\n\u001b[0;32m--> 214\u001b[0m     \u001b[39mraise\u001b[39;00m \u001b[39mValueError\u001b[39;00m(\n\u001b[1;32m    215\u001b[0m         \u001b[39m\"\u001b[39m\u001b[39mIncompatible dimension for X and Y matrices: \u001b[39m\u001b[39m\"\u001b[39m\n\u001b[1;32m    216\u001b[0m         \u001b[39m\"\u001b[39m\u001b[39mX.shape[1] == \u001b[39m\u001b[39m%d\u001b[39;00m\u001b[39m while Y.shape[1] == \u001b[39m\u001b[39m%d\u001b[39;00m\u001b[39m\"\u001b[39m \u001b[39m%\u001b[39m (X\u001b[39m.\u001b[39mshape[\u001b[39m1\u001b[39m], Y\u001b[39m.\u001b[39mshape[\u001b[39m1\u001b[39m])\n\u001b[1;32m    217\u001b[0m     )\n\u001b[1;32m    219\u001b[0m \u001b[39mreturn\u001b[39;00m X, Y\n",
      "\u001b[0;31mValueError\u001b[0m: Incompatible dimension for X and Y matrices: X.shape[1] == 151 while Y.shape[1] == 55"
     ]
    }
   ],
   "source": [
    "from sklearn.metrics.pairwise import cosine_similarity\n",
    "\n",
    "np.round(cosine_similarity(H,H_CS),2).shape\n"
   ]
  },
  {
   "cell_type": "code",
   "execution_count": null,
   "metadata": {},
   "outputs": [],
   "source": [
    "import numpy as np\n",
    "from sklearn.preprocessing import normalize\n",
    "\n",
    "# Assume W1 and W2 are your NMF topic-term matrices (shape: 10 topics x vocabulary size)\n",
    "# Example W1 and W2 (replace with your actual data):\n",
    "# W1 = nmf_model_1.components_ (from course 1 NMF model)\n",
    "# W2 = nmf_model_2.components_ (from course 2 NMF model)\n",
    "\n",
    "# Normalize the topic vectors by their L2 norms\n",
    "H_normalized = normalize(H.T, axis=1)  # Normalizing each row vector (topic)\n",
    "H_CS_normalized = normalize(H_CS.T, axis=1)\n",
    "\n",
    "# Initialize the similarity matrix\n",
    "similarity_matrix = np.zeros((H_normalized.shape[0], H_CS_normalized.shape[0]))\n",
    "\n",
    "# Compute the cosine similarity between each pair of topics\n",
    "for i in range(H_normalized.shape[0]):\n",
    "    for j in range(H_CS_normalized.shape[0]):\n",
    "        similarity_matrix[i, j] = np.dot(H_normalized[i], H_CS_normalized[j])\n",
    "\n",
    "# Print or return the similarity matrix\n",
    "print(similarity_matrix)\n",
    "\n",
    "# Plotting the similarity matrix\n",
    "plt.figure(figsize=(8, 6))\n",
    "plt.imshow(similarity_matrix, cmap='viridis', interpolation='nearest')\n",
    "plt.colorbar(label='Cosine Similarity')\n",
    "plt.title('Topic Similarity Matrix (Course 1 vs Course 2)')\n",
    "plt.xlabel('Course 2 Topics')\n",
    "plt.ylabel('Course 1 Topics')\n",
    "plt.xticks(ticks=np.arange(10), labels=[f'Topic {i+1}' for i in range(10)])\n",
    "plt.yticks(ticks=np.arange(10), labels=[f'Topic {i+1}' for i in range(10)])\n",
    "plt.show()"
   ]
  },
  {
   "cell_type": "code",
   "execution_count": null,
   "metadata": {},
   "outputs": [],
   "source": [
    "import numpy as np\n",
    "from sklearn.preprocessing import normalize\n",
    "\n",
    "# Transpose the matrices so that topics are rows and terms are columns\n",
    "W_normalized = normalize(W.T, axis=1)  # Now (10 topics, 98 terms)\n",
    "W_CS_normalized = normalize(W_CS.T, axis=1)  # Now (10 topics, 65 terms)\n",
    "\n",
    "# Compute the cosine similarity\n",
    "similarity_matrix = np.zeros((W_normalized.shape[0], W_CS_normalized.shape[0]))\n",
    "\n",
    "for i in range(W_normalized.shape[0]):\n",
    "    for j in range(W_CS_normalized.shape[0]):\n",
    "        similarity_matrix[i, j] = np.dot(W_normalized[i], W_CS_normalized[j])\n",
    "\n",
    "# Plotting the similarity matrix\n",
    "plt.figure(figsize=(8, 6))\n",
    "plt.imshow(similarity_matrix, cmap='viridis', interpolation='nearest', vmin=0, vmax=1)\n",
    "plt.colorbar(label='Cosine Similarity')\n",
    "plt.title('Topic Similarity Matrix (Course 1 vs Course 2)')\n",
    "plt.xlabel('Course 2 Topics')\n",
    "plt.ylabel('Course 1 Topics')\n",
    "plt.xticks(ticks=np.arange(10), labels=[f'Topic {i+1}' for i in range(10)])\n",
    "plt.yticks(ticks=np.arange(10), labels=[f'Topic {i+1}' for i in range(10)])\n",
    "plt.show()\n"
   ]
  }
 ],
 "metadata": {
  "kernelspec": {
   "display_name": "Python 3",
   "language": "python",
   "name": "python3"
  },
  "language_info": {
   "codemirror_mode": {
    "name": "ipython",
    "version": 3
   },
   "file_extension": ".py",
   "mimetype": "text/x-python",
   "name": "python",
   "nbconvert_exporter": "python",
   "pygments_lexer": "ipython3",
   "version": "3.9.6"
  },
  "orig_nbformat": 4
 },
 "nbformat": 4,
 "nbformat_minor": 2
}
